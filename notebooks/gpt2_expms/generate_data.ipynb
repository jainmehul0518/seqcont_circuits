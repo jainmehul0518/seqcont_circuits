{
 "cells": [
  {
   "cell_type": "markdown",
   "metadata": {
    "id": "DcZG9rm2IAiA"
   },
   "source": [
    "# Setup"
   ]
  },
  {
   "cell_type": "code",
   "execution_count": 1,
   "metadata": {
    "id": "rMcpSDdjIAiA"
   },
   "outputs": [],
   "source": [
    "%%capture\n",
    "%pip install git+https://github.com/neelnanda-io/TransformerLens.git\n",
    "!pip install faker"
   ]
  },
  {
   "cell_type": "code",
   "execution_count": 1,
   "metadata": {},
   "outputs": [
    {
     "name": "stdout",
     "output_type": "stream",
     "text": [
      "/home/ubuntu/new_venv/bin/python\n"
     ]
    }
   ],
   "source": [
    "#NOTE::This should print out the environment you are currently using!\n",
    "import sys\n",
    "print(sys.executable)"
   ]
  },
  {
   "cell_type": "code",
   "execution_count": 2,
   "metadata": {
    "id": "Z6b1n2tvIAiD"
   },
   "outputs": [],
   "source": [
    "import torch\n",
    "from typing import Optional\n",
    "import copy\n",
    "\n",
    "import pickle\n",
    "import matplotlib.pyplot as plt"
   ]
  },
  {
   "cell_type": "code",
   "execution_count": 3,
   "metadata": {
    "colab": {
     "base_uri": "https://localhost:8080/"
    },
    "id": "zuhzYxbsIAiE",
    "outputId": "1df735ef-cdec-4218-cb8d-6a102b4881b2"
   },
   "outputs": [
    {
     "name": "stderr",
     "output_type": "stream",
     "text": [
      "/home/ubuntu/new_venv/lib/python3.12/site-packages/tqdm/auto.py:21: TqdmWarning: IProgress not found. Please update jupyter and ipywidgets. See https://ipywidgets.readthedocs.io/en/stable/user_install.html\n",
      "  from .autonotebook import tqdm as notebook_tqdm\n"
     ]
    },
    {
     "data": {
      "text/plain": [
       "<torch.autograd.grad_mode.set_grad_enabled at 0x7e5d201e7a10>"
      ]
     },
     "execution_count": 3,
     "metadata": {},
     "output_type": "execute_result"
    }
   ],
   "source": [
    "import transformer_lens.utils as utils  # for test prompts\n",
    "from transformer_lens import HookedTransformer\n",
    "torch.set_grad_enabled(False)"
   ]
  },
  {
   "cell_type": "markdown",
   "metadata": {
    "id": "OLkInsdjyHMx"
   },
   "source": [
    "## Load Model"
   ]
  },
  {
   "cell_type": "code",
   "execution_count": 4,
   "metadata": {
    "colab": {
     "base_uri": "https://localhost:8080/",
     "height": 0,
     "referenced_widgets": [
      "af46f0686551499c93768d7d3f45936b",
      "b3b8a4f68d6f4c3d84842391fac13094",
      "4da24e3a85b748968c7e5b67fbf87f46",
      "8c21eea0c55647bdb7c07ed7eb3eaff9",
      "6370dd3fb9e84d7299559216d5502041",
      "b1395ff957504908b49d0ef36bda80d9",
      "c939a626f7954d5c9ed948ec8f753999",
      "22bc357acf584acaa63fa6a27ebd9e3f",
      "fa97fe747c314562bcf166013a6f239c",
      "a0836e15c2164044a64a145a8b0eb668",
      "b6cf86f9e4d44fd89b4ba370eaf688d6",
      "eb6b612f860448e6ac8eebb4beef3c40",
      "4760809c270945edb09cde379403570e",
      "00d6bff9748d44f2b75fab1e5e63a350",
      "a5f455e986ce4fbbac895fab571b5100",
      "667a3458eb804a8bb3b427ab67731577",
      "cae614ea085b41c9ac110b0480c82485",
      "0f476e3f87374cd5a637773d2fbc43d3",
      "4edb163d7f764162a329da563d28ce9d",
      "92280795eade4f9ba009a1c9325315b3",
      "72569a7d2b824cb98c7834fef13ed5c9",
      "2e30d9bfcef54412b2ee4fc52dc9f486",
      "77e32ce5ab904894b061db6cba5b8976",
      "0928ed60f063462099f70afa96b72675",
      "d5923751bd3d43a8a033b86454b50242",
      "b62b5ab8e6ad4ef1a42928f916f4c49f",
      "84114dbb91bf4585a3177c0bb9a79b80",
      "fbb61215a3c9474ba68df7d5bb64f005",
      "54ca677539a6489583cc2b83a6d93175",
      "a335d67e3d354807b3707bf2b9946d23",
      "632fea421c854c84b398053c5f508368",
      "042c47481f224186927b6ed4941a1cbe",
      "fbfe3d1645a94954b7a7e6b4ce9ea79f",
      "eb4a9c03d0b74a9689442f892ab08dd8",
      "cac4f736180149628aaf0c248376a8d4",
      "ca953e83a48f4a72963bc989d2ce672d",
      "8e3d2ee1c04e4cae98a32ad785ad86f1",
      "56d0d0ae333144ecabf43a96bf2b0c72",
      "c3c8e66a37e84832a5572e06088fe858",
      "97d19a498bcb4b0eadfdc34c779cdb5f",
      "07d04e0ef279448fa5157fb8b1db855e",
      "161d610148844ea88dd69f3db05c2d5e",
      "7df45ae69f65455db6e157e96ef165e7",
      "78c319d3b16b4f8bbd84e1d5d62e811f",
      "9f947954fe804ca8a76e93e91658bebb",
      "263c0bca6d8541ec9ad0fdc360f0fa9e",
      "b64429c2542b49d4a80b6aedf0236d30",
      "ba532c43d85c4b66be828affbeb5ac41",
      "b40036b73c484760a85a3b06ec617a09",
      "0de9531da2c24362990dd49ded360520",
      "e4774c9520b54a53814ada26e3f45228",
      "0715eea083204d17ba39101081663271",
      "8c313a81e2a64deab44bca690e1fc90d",
      "6426af833f26460c979bdc77e952977c",
      "774145bd1ae648a98c408fcf5e71d669",
      "1c571975e1994634af2c6c1fa90b49a1",
      "09f2e579d87142f4baf54638629cc63c",
      "34ddb6cc34874186a70ad0a242728a7b",
      "fa921c3499e146e784d88e3c682f339d",
      "5fcfdb9cf46743fcb48fa6051e6eea99",
      "1ab9647308c04484ab94e31630a0d174",
      "a917d6ac4d2b438c924f4eca83a12ca9",
      "c635d8efcb0144d99f0533147efbfa81",
      "c8ace28ac6034f228c3abe2247c7fb60",
      "ae798d791f9b4c7a850cb7731059c9aa",
      "62e859acab0242f08e6a0a6b6090af27"
     ]
    },
    "id": "xLwDyosvIAiJ",
    "outputId": "21a2e86c-f0df-4e1a-e0e3-87da2f92261e"
   },
   "outputs": [
    {
     "name": "stdout",
     "output_type": "stream",
     "text": [
      "Loaded pretrained model gpt2-small into HookedTransformer\n"
     ]
    }
   ],
   "source": [
    "model = HookedTransformer.from_pretrained(\n",
    "    \"gpt2-small\",\n",
    "    center_unembed=True,\n",
    "    center_writing_weights=True,\n",
    "    fold_ln=True,\n",
    "    refactor_factored_attn_matrices=True,\n",
    ")"
   ]
  },
  {
   "cell_type": "markdown",
   "metadata": {
    "id": "Z4iJEGh6b56v"
   },
   "source": [
    "## Import functions from repo"
   ]
  },
  {
   "cell_type": "code",
   "execution_count": 5,
   "metadata": {
    "colab": {
     "base_uri": "https://localhost:8080/"
    },
    "id": "F8TXMRL3CoPd",
    "outputId": "30f856c3-a874-4764-dade-478b9b65e355"
   },
   "outputs": [],
   "source": [
    "# !git clone https://github.com/apartresearch/seqcont_circuits.git\n",
    "#TODO::replace with your path\n",
    "# %cd ../../src/generate_data\n",
    "sys.path.append(\"../../src/generate_data\")"
   ]
  },
  {
   "cell_type": "code",
   "execution_count": 6,
   "metadata": {
    "id": "22TI4zjMDMfQ"
   },
   "outputs": [
    {
     "data": {
      "text/plain": [
       "<module 'generate_data' from '/home/ubuntu/seqcont_circuits/notebooks/gpt2_expms/../../src/generate_data/generate_data.py'>"
      ]
     },
     "execution_count": 6,
     "metadata": {},
     "output_type": "execute_result"
    }
   ],
   "source": [
    "from importlib import reload\n",
    "import generate_data\n",
    "reload(generate_data)\n",
    "# from generate_data import *"
   ]
  },
  {
   "cell_type": "markdown",
   "metadata": {
    "id": "wWPk49RQJvuI"
   },
   "source": [
    "# names"
   ]
  },
  {
   "cell_type": "code",
   "execution_count": 7,
   "metadata": {},
   "outputs": [],
   "source": [
    "# sequence_name = \"numerals_step_3\" # TODO::replace with the name of the dictionary you create in generate_data.py\n",
    "# sequence_name = \"numerals_times_2\" \n",
    "sequence_name = \"numerals_alternate\" "
   ]
  },
  {
   "cell_type": "code",
   "execution_count": 8,
   "metadata": {
    "id": "nUIJQgHUJvuI"
   },
   "outputs": [],
   "source": [
    "# file_name = '/jet/home/mjain4/Project/seqcont_circuits/data/numwords/numwords_prompts_names.pkl' #TODO::replace with correct path\n",
    "file_name = '../../data/numwords/numwords_prompts_names.pkl' \n",
    "with open(file_name, 'rb') as file:\n",
    "    prompts_list = pickle.load(file)"
   ]
  },
  {
   "cell_type": "code",
   "execution_count": 9,
   "metadata": {
    "id": "nwwd5oX1JvuI"
   },
   "outputs": [],
   "source": [
    "prompts_list = generate_data.replace_nw_seqtype(prompts_list, sequence_name)"
   ]
  },
  {
   "cell_type": "code",
   "execution_count": 10,
   "metadata": {},
   "outputs": [
    {
     "name": "stdout",
     "output_type": "stream",
     "text": [
      "[{'S1': '1', 'S2': '2', 'S3': '1', 'S4': '2', 'corr': ' 1', 'incorr': ' 2', 'text': 'Marcus born in 1. Victoria born in 2. George born in 1. Brandon born in 2. Jamie born in'}, {'S1': '2', 'S2': '1', 'S3': '2', 'S4': '1', 'corr': ' 2', 'incorr': ' 1', 'text': 'Mike born in 2. Jay born in 1. Arthur born in 2. Victoria born in 1. Eric born in'}, {'S1': '1', 'S2': '2', 'S3': '1', 'S4': '2', 'corr': ' 1', 'incorr': ' 2', 'text': 'Andre born in 1. Jack born in 2. Jose born in 1. Stephen born in 2. Allen born in'}, {'S1': '2', 'S2': '1', 'S3': '2', 'S4': '1', 'corr': ' 2', 'incorr': ' 1', 'text': 'Gene born in 2. Jamie born in 1. Tyler born in 2. Marc born in 1. Jessica born in'}, {'S1': '1', 'S2': '2', 'S3': '1', 'S4': '2', 'corr': ' 1', 'incorr': ' 2', 'text': 'Henry born in 1. Danny born in 2. Jon born in 1. Charles born in 2. Keith born in'}, {'S1': '2', 'S2': '1', 'S3': '2', 'S4': '1', 'corr': ' 2', 'incorr': ' 1', 'text': 'Donald born in 2. Connor born in 1. Jim born in 2. Jack born in 1. Mike born in'}, {'S1': '1', 'S2': '2', 'S3': '1', 'S4': '2', 'corr': ' 1', 'incorr': ' 2', 'text': 'Sean born in 1. Aaron born in 2. Roy born in 1. Eric born in 2. Morgan born in'}, {'S1': '2', 'S2': '1', 'S3': '2', 'S4': '1', 'corr': ' 2', 'incorr': ' 1', 'text': 'Roy born in 2. Jeremy born in 1. Hunter born in 2. Edward born in 1. Maria born in'}, {'S1': '1', 'S2': '2', 'S3': '1', 'S4': '2', 'corr': ' 1', 'incorr': ' 2', 'text': 'Jack born in 1. Mary born in 2. Arthur born in 1. Rose born in 2. Alan born in'}, {'S1': '2', 'S2': '1', 'S3': '2', 'S4': '1', 'corr': ' 2', 'incorr': ' 1', 'text': 'Anne born in 2. Chelsea born in 1. Jeremy born in 2. Craig born in 1. Elizabeth born in'}, {'S1': '1', 'S2': '2', 'S3': '1', 'S4': '2', 'corr': ' 1', 'incorr': ' 2', 'text': 'Jennifer born in 1. William born in 2. Bill born in 1. Jose born in 2. Danny born in'}, {'S1': '2', 'S2': '1', 'S3': '2', 'S4': '1', 'corr': ' 2', 'incorr': ' 1', 'text': 'Anna born in 2. Mary born in 1. Marcus born in 2. Jeremy born in 1. Steve born in'}, {'S1': '1', 'S2': '2', 'S3': '1', 'S4': '2', 'corr': ' 1', 'incorr': ' 2', 'text': 'Laura born in 1. Edward born in 2. Jamie born in 1. Jessica born in 2. Charles born in'}, {'S1': '2', 'S2': '1', 'S3': '2', 'S4': '1', 'corr': ' 2', 'incorr': ' 1', 'text': 'Aaron born in 2. Alan born in 1. Stephen born in 2. Steven born in 1. Maria born in'}, {'S1': '1', 'S2': '2', 'S3': '1', 'S4': '2', 'corr': ' 1', 'incorr': ' 2', 'text': 'Richard born in 1. Madison born in 2. Kyle born in 1. Matthew born in 2. Bruce born in'}, {'S1': '2', 'S2': '1', 'S3': '2', 'S4': '1', 'corr': ' 2', 'incorr': ' 1', 'text': 'Bill born in 2. Scott born in 1. Anthony born in 2. Jennifer born in 1. Morgan born in'}, {'S1': '1', 'S2': '2', 'S3': '1', 'S4': '2', 'corr': ' 1', 'incorr': ' 2', 'text': 'Connor born in 1. Jay born in 2. Lee born in 1. Jamie born in 2. Stephen born in'}, {'S1': '2', 'S2': '1', 'S3': '2', 'S4': '1', 'corr': ' 2', 'incorr': ' 1', 'text': 'Elizabeth born in 2. Chris born in 1. Rose born in 2. Paul born in 1. Jessica born in'}, {'S1': '1', 'S2': '2', 'S3': '1', 'S4': '2', 'corr': ' 1', 'incorr': ' 2', 'text': 'Diamond born in 1. Adam born in 2. David born in 1. Lee born in 2. Hunter born in'}, {'S1': '2', 'S2': '1', 'S3': '2', 'S4': '1', 'corr': ' 2', 'incorr': ' 1', 'text': 'Jimmy born in 2. Allen born in 1. Chelsea born in 2. Jack born in 1. Ian born in'}, {'S1': '1', 'S2': '2', 'S3': '1', 'S4': '2', 'corr': ' 1', 'incorr': ' 2', 'text': 'George born in 1. Gordon born in 2. Maria born in 1. Mark born in 2. Tyler born in'}, {'S1': '2', 'S2': '1', 'S3': '2', 'S4': '1', 'corr': ' 2', 'incorr': ' 1', 'text': 'Chelsea born in 2. Rick born in 1. Mary born in 2. Maria born in 1. Michael born in'}, {'S1': '1', 'S2': '2', 'S3': '1', 'S4': '2', 'corr': ' 1', 'incorr': ' 2', 'text': 'Alex born in 1. Allen born in 2. Jon born in 1. Kyle born in 2. Jacob born in'}, {'S1': '2', 'S2': '1', 'S3': '2', 'S4': '1', 'corr': ' 2', 'incorr': ' 1', 'text': 'Mark born in 2. Ian born in 1. Tyler born in 2. Jeff born in 1. Charles born in'}, {'S1': '1', 'S2': '2', 'S3': '1', 'S4': '2', 'corr': ' 1', 'incorr': ' 2', 'text': 'Marcus born in 1. Jim born in 2. Henry born in 1. Bruce born in 2. Tom born in'}, {'S1': '2', 'S2': '1', 'S3': '2', 'S4': '1', 'corr': ' 2', 'incorr': ' 1', 'text': 'Marc born in 2. Jay born in 1. Chelsea born in 2. Donald born in 1. Terry born in'}, {'S1': '1', 'S2': '2', 'S3': '1', 'S4': '2', 'corr': ' 1', 'incorr': ' 2', 'text': 'Kevin born in 1. Terry born in 2. Alan born in 1. Connor born in 2. Tyler born in'}, {'S1': '2', 'S2': '1', 'S3': '2', 'S4': '1', 'corr': ' 2', 'incorr': ' 1', 'text': 'Aaron born in 2. Kevin born in 1. Luke born in 2. Brandon born in 1. Craig born in'}, {'S1': '1', 'S2': '2', 'S3': '1', 'S4': '2', 'corr': ' 1', 'incorr': ' 2', 'text': 'Steven born in 1. Ian born in 2. Mary born in 1. Henry born in 2. Chris born in'}, {'S1': '2', 'S2': '1', 'S3': '2', 'S4': '1', 'corr': ' 2', 'incorr': ' 1', 'text': 'Aaron born in 2. James born in 1. David born in 2. Thomas born in 1. George born in'}, {'S1': '1', 'S2': '2', 'S3': '1', 'S4': '2', 'corr': ' 1', 'incorr': ' 2', 'text': 'Jo born in 1. Marcus born in 2. Gordon born in 1. Gary born in 2. Marc born in'}, {'S1': '2', 'S2': '1', 'S3': '2', 'S4': '1', 'corr': ' 2', 'incorr': ' 1', 'text': 'James born in 2. Andre born in 1. Henry born in 2. April born in 1. Donald born in'}, {'S1': '1', 'S2': '2', 'S3': '1', 'S4': '2', 'corr': ' 1', 'incorr': ' 2', 'text': 'Mike born in 1. Jimmy born in 2. Alex born in 1. Tom born in 2. Aaron born in'}, {'S1': '2', 'S2': '1', 'S3': '2', 'S4': '1', 'corr': ' 2', 'incorr': ' 1', 'text': 'Kevin born in 2. Sean born in 1. Ryan born in 2. Terry born in 1. Anne born in'}, {'S1': '1', 'S2': '2', 'S3': '1', 'S4': '2', 'corr': ' 1', 'incorr': ' 2', 'text': 'Bruce born in 1. Luke born in 2. Diamond born in 1. Keith born in 2. Connor born in'}, {'S1': '2', 'S2': '1', 'S3': '2', 'S4': '1', 'corr': ' 2', 'incorr': ' 1', 'text': 'Howard born in 2. Anthony born in 1. Marc born in 2. Danny born in 1. Rick born in'}, {'S1': '1', 'S2': '2', 'S3': '1', 'S4': '2', 'corr': ' 1', 'incorr': ' 2', 'text': 'Michael born in 1. Joseph born in 2. Kim born in 1. Henry born in 2. Jacob born in'}, {'S1': '2', 'S2': '1', 'S3': '2', 'S4': '1', 'corr': ' 2', 'incorr': ' 1', 'text': 'Henry born in 2. Jo born in 1. Steven born in 2. Maria born in 1. Alex born in'}, {'S1': '1', 'S2': '2', 'S3': '1', 'S4': '2', 'corr': ' 1', 'incorr': ' 2', 'text': 'Howard born in 1. Tyler born in 2. Lisa born in 1. Jack born in 2. Morgan born in'}, {'S1': '2', 'S2': '1', 'S3': '2', 'S4': '1', 'corr': ' 2', 'incorr': ' 1', 'text': 'Jeff born in 2. Jim born in 1. Taylor born in 2. Ian born in 1. Robert born in'}, {'S1': '1', 'S2': '2', 'S3': '1', 'S4': '2', 'corr': ' 1', 'incorr': ' 2', 'text': 'Marcus born in 1. Alan born in 2. Arthur born in 1. Jose born in 2. Michael born in'}, {'S1': '2', 'S2': '1', 'S3': '2', 'S4': '1', 'corr': ' 2', 'incorr': ' 1', 'text': 'Michael born in 2. Chelsea born in 1. Jack born in 2. Joshua born in 1. Jamie born in'}, {'S1': '1', 'S2': '2', 'S3': '1', 'S4': '2', 'corr': ' 1', 'incorr': ' 2', 'text': 'Luke born in 1. Justin born in 2. Alex born in 1. Jessica born in 2. John born in'}, {'S1': '2', 'S2': '1', 'S3': '2', 'S4': '1', 'corr': ' 2', 'incorr': ' 1', 'text': 'Steve born in 2. Connor born in 1. Ian born in 2. Henry born in 1. Brandon born in'}, {'S1': '1', 'S2': '2', 'S3': '1', 'S4': '2', 'corr': ' 1', 'incorr': ' 2', 'text': 'Luke born in 1. Gary born in 2. Greg born in 1. Jay born in 2. Alex born in'}, {'S1': '2', 'S2': '1', 'S3': '2', 'S4': '1', 'corr': ' 2', 'incorr': ' 1', 'text': 'Rachel born in 2. Jennifer born in 1. Ann born in 2. Carl born in 1. Richard born in'}, {'S1': '1', 'S2': '2', 'S3': '1', 'S4': '2', 'corr': ' 1', 'incorr': ' 2', 'text': 'Paul born in 1. Keith born in 2. Aaron born in 1. Anna born in 2. Christopher born in'}, {'S1': '2', 'S2': '1', 'S3': '2', 'S4': '1', 'corr': ' 2', 'incorr': ' 1', 'text': 'Kevin born in 2. Scott born in 1. Jamie born in 2. Gordon born in 1. Sean born in'}, {'S1': '1', 'S2': '2', 'S3': '1', 'S4': '2', 'corr': ' 1', 'incorr': ' 2', 'text': 'Mary born in 1. Carl born in 2. Edward born in 1. Lisa born in 2. Maria born in'}, {'S1': '2', 'S2': '1', 'S3': '2', 'S4': '1', 'corr': ' 2', 'incorr': ' 1', 'text': 'Danny born in 2. Edward born in 1. Mike born in 2. Marcus born in 1. Roy born in'}, {'S1': '1', 'S2': '2', 'S3': '1', 'S4': '2', 'corr': ' 1', 'incorr': ' 2', 'text': 'Edward born in 1. Justin born in 2. Alex born in 1. Ian born in 2. Jeremy born in'}, {'S1': '2', 'S2': '1', 'S3': '2', 'S4': '1', 'corr': ' 2', 'incorr': ' 1', 'text': 'Larry born in 2. Joseph born in 1. Jay born in 2. Peter born in 1. David born in'}, {'S1': '1', 'S2': '2', 'S3': '1', 'S4': '2', 'corr': ' 1', 'incorr': ' 2', 'text': 'Steve born in 1. Paul born in 2. Aaron born in 1. Chelsea born in 2. Michael born in'}, {'S1': '2', 'S2': '1', 'S3': '2', 'S4': '1', 'corr': ' 2', 'incorr': ' 1', 'text': 'Joseph born in 2. Tyler born in 1. Gary born in 2. Anna born in 1. Matthew born in'}, {'S1': '1', 'S2': '2', 'S3': '1', 'S4': '2', 'corr': ' 1', 'incorr': ' 2', 'text': 'Marcus born in 1. Henry born in 2. Michael born in 1. Chris born in 2. Robert born in'}, {'S1': '2', 'S2': '1', 'S3': '2', 'S4': '1', 'corr': ' 2', 'incorr': ' 1', 'text': 'Eric born in 2. Donald born in 1. Keith born in 2. Matthew born in 1. Jessica born in'}, {'S1': '1', 'S2': '2', 'S3': '1', 'S4': '2', 'corr': ' 1', 'incorr': ' 2', 'text': 'Rachel born in 1. Joseph born in 2. William born in 1. Ann born in 2. Rick born in'}, {'S1': '2', 'S2': '1', 'S3': '2', 'S4': '1', 'corr': ' 2', 'incorr': ' 1', 'text': 'Steve born in 2. Andre born in 1. John born in 2. Morgan born in 1. Mary born in'}, {'S1': '1', 'S2': '2', 'S3': '1', 'S4': '2', 'corr': ' 1', 'incorr': ' 2', 'text': 'Adam born in 1. Jimmy born in 2. Jay born in 1. Rick born in 2. David born in'}, {'S1': '2', 'S2': '1', 'S3': '2', 'S4': '1', 'corr': ' 2', 'incorr': ' 1', 'text': 'Jon born in 2. Christopher born in 1. Robert born in 2. Ryan born in 1. Greg born in'}, {'S1': '1', 'S2': '2', 'S3': '1', 'S4': '2', 'corr': ' 1', 'incorr': ' 2', 'text': 'Bill born in 1. Danny born in 2. Kevin born in 1. Ann born in 2. Scott born in'}, {'S1': '2', 'S2': '1', 'S3': '2', 'S4': '1', 'corr': ' 2', 'incorr': ' 1', 'text': 'Kyle born in 2. Donald born in 1. Jay born in 2. Anthony born in 1. Laura born in'}, {'S1': '1', 'S2': '2', 'S3': '1', 'S4': '2', 'corr': ' 1', 'incorr': ' 2', 'text': 'Ryan born in 1. Jon born in 2. Jose born in 1. Jim born in 2. Matthew born in'}, {'S1': '2', 'S2': '1', 'S3': '2', 'S4': '1', 'corr': ' 2', 'incorr': ' 1', 'text': 'George born in 2. Jo born in 1. Kyle born in 2. Jeff born in 1. Bill born in'}, {'S1': '1', 'S2': '2', 'S3': '1', 'S4': '2', 'corr': ' 1', 'incorr': ' 2', 'text': 'Rose born in 1. Stephen born in 2. Henry born in 1. Jimmy born in 2. Peter born in'}, {'S1': '2', 'S2': '1', 'S3': '2', 'S4': '1', 'corr': ' 2', 'incorr': ' 1', 'text': 'Mary born in 2. Luke born in 1. Danny born in 2. Jeff born in 1. Jessica born in'}, {'S1': '1', 'S2': '2', 'S3': '1', 'S4': '2', 'corr': ' 1', 'incorr': ' 2', 'text': 'April born in 1. Stephen born in 2. Bill born in 1. Lee born in 2. Lisa born in'}, {'S1': '2', 'S2': '1', 'S3': '2', 'S4': '1', 'corr': ' 2', 'incorr': ' 1', 'text': 'Jeff born in 2. Jessica born in 1. Chelsea born in 2. Roger born in 1. Donald born in'}, {'S1': '1', 'S2': '2', 'S3': '1', 'S4': '2', 'corr': ' 1', 'incorr': ' 2', 'text': 'Stephen born in 1. Jamie born in 2. Lisa born in 1. Arthur born in 2. Jose born in'}, {'S1': '2', 'S2': '1', 'S3': '2', 'S4': '1', 'corr': ' 2', 'incorr': ' 1', 'text': 'Richard born in 2. Tyler born in 1. Mary born in 2. Matthew born in 1. Eric born in'}, {'S1': '1', 'S2': '2', 'S3': '1', 'S4': '2', 'corr': ' 1', 'incorr': ' 2', 'text': 'Marcus born in 1. Madison born in 2. Kyle born in 1. Kevin born in 2. Rose born in'}, {'S1': '2', 'S2': '1', 'S3': '2', 'S4': '1', 'corr': ' 2', 'incorr': ' 1', 'text': 'Andre born in 2. Terry born in 1. Jennifer born in 2. Maria born in 1. Luke born in'}, {'S1': '1', 'S2': '2', 'S3': '1', 'S4': '2', 'corr': ' 1', 'incorr': ' 2', 'text': 'Roger born in 1. Jacob born in 2. Diamond born in 1. Hunter born in 2. Bill born in'}, {'S1': '2', 'S2': '1', 'S3': '2', 'S4': '1', 'corr': ' 2', 'incorr': ' 1', 'text': 'Jo born in 2. Ann born in 1. Robert born in 2. Morgan born in 1. Kevin born in'}, {'S1': '1', 'S2': '2', 'S3': '1', 'S4': '2', 'corr': ' 1', 'incorr': ' 2', 'text': 'Tom born in 1. Greg born in 2. Jennifer born in 1. Roy born in 2. Victoria born in'}, {'S1': '2', 'S2': '1', 'S3': '2', 'S4': '1', 'corr': ' 2', 'incorr': ' 1', 'text': 'Tyler born in 2. Rose born in 1. Lee born in 2. Greg born in 1. James born in'}, {'S1': '1', 'S2': '2', 'S3': '1', 'S4': '2', 'corr': ' 1', 'incorr': ' 2', 'text': 'Diamond born in 1. Howard born in 2. Donald born in 1. Luke born in 2. Steven born in'}, {'S1': '2', 'S2': '1', 'S3': '2', 'S4': '1', 'corr': ' 2', 'incorr': ' 1', 'text': 'Andre born in 2. Connor born in 1. Albert born in 2. Gary born in 1. Craig born in'}, {'S1': '1', 'S2': '2', 'S3': '1', 'S4': '2', 'corr': ' 1', 'incorr': ' 2', 'text': 'Jack born in 1. John born in 2. Mike born in 1. Matthew born in 2. James born in'}, {'S1': '2', 'S2': '1', 'S3': '2', 'S4': '1', 'corr': ' 2', 'incorr': ' 1', 'text': 'Donald born in 2. Ian born in 1. Anthony born in 2. Rose born in 1. William born in'}, {'S1': '1', 'S2': '2', 'S3': '1', 'S4': '2', 'corr': ' 1', 'incorr': ' 2', 'text': 'Roy born in 1. Lee born in 2. Terry born in 1. Jose born in 2. Steven born in'}, {'S1': '2', 'S2': '1', 'S3': '2', 'S4': '1', 'corr': ' 2', 'incorr': ' 1', 'text': 'Alex born in 2. Carl born in 1. Gordon born in 2. Andre born in 1. Jo born in'}, {'S1': '1', 'S2': '2', 'S3': '1', 'S4': '2', 'corr': ' 1', 'incorr': ' 2', 'text': 'Jessica born in 1. Paul born in 2. Howard born in 1. Jeff born in 2. John born in'}, {'S1': '2', 'S2': '1', 'S3': '2', 'S4': '1', 'corr': ' 2', 'incorr': ' 1', 'text': 'Jo born in 2. Luke born in 1. Andre born in 2. Keith born in 1. Howard born in'}, {'S1': '1', 'S2': '2', 'S3': '1', 'S4': '2', 'corr': ' 1', 'incorr': ' 2', 'text': 'Marcus born in 1. Jamie born in 2. Madison born in 1. Maria born in 2. Anne born in'}, {'S1': '2', 'S2': '1', 'S3': '2', 'S4': '1', 'corr': ' 2', 'incorr': ' 1', 'text': 'Elizabeth born in 2. Jeremy born in 1. Bill born in 2. Anthony born in 1. Jennifer born in'}, {'S1': '1', 'S2': '2', 'S3': '1', 'S4': '2', 'corr': ' 1', 'incorr': ' 2', 'text': 'Mike born in 1. Rick born in 2. Peter born in 1. Christopher born in 2. Gene born in'}, {'S1': '2', 'S2': '1', 'S3': '2', 'S4': '1', 'corr': ' 2', 'incorr': ' 1', 'text': 'Jose born in 2. Jay born in 1. Scott born in 2. Jeff born in 1. David born in'}, {'S1': '1', 'S2': '2', 'S3': '1', 'S4': '2', 'corr': ' 1', 'incorr': ' 2', 'text': 'Madison born in 1. Jacob born in 2. Stephen born in 1. Ian born in 2. Scott born in'}, {'S1': '2', 'S2': '1', 'S3': '2', 'S4': '1', 'corr': ' 2', 'incorr': ' 1', 'text': 'Peter born in 2. Ann born in 1. Paul born in 2. Aaron born in 1. Stephen born in'}, {'S1': '1', 'S2': '2', 'S3': '1', 'S4': '2', 'corr': ' 1', 'incorr': ' 2', 'text': 'Maria born in 1. Carl born in 2. Victoria born in 1. Bruce born in 2. Christopher born in'}, {'S1': '2', 'S2': '1', 'S3': '2', 'S4': '1', 'corr': ' 2', 'incorr': ' 1', 'text': 'Peter born in 2. David born in 1. Richard born in 2. Brandon born in 1. Carl born in'}, {'S1': '1', 'S2': '2', 'S3': '1', 'S4': '2', 'corr': ' 1', 'incorr': ' 2', 'text': 'Maria born in 1. Gordon born in 2. Adam born in 1. Alan born in 2. William born in'}, {'S1': '2', 'S2': '1', 'S3': '2', 'S4': '1', 'corr': ' 2', 'incorr': ' 1', 'text': 'Ann born in 2. Jack born in 1. Jimmy born in 2. Jacob born in 1. James born in'}, {'S1': '1', 'S2': '2', 'S3': '1', 'S4': '2', 'corr': ' 1', 'incorr': ' 2', 'text': 'Terry born in 1. Jo born in 2. Jack born in 1. Roy born in 2. Taylor born in'}, {'S1': '2', 'S2': '1', 'S3': '2', 'S4': '1', 'corr': ' 2', 'incorr': ' 1', 'text': 'Jamie born in 2. Eric born in 1. Albert born in 2. Aaron born in 1. Howard born in'}, {'S1': '1', 'S2': '2', 'S3': '1', 'S4': '2', 'corr': ' 1', 'incorr': ' 2', 'text': 'Gordon born in 1. Ryan born in 2. Ian born in 1. Donald born in 2. Elizabeth born in'}, {'S1': '2', 'S2': '1', 'S3': '2', 'S4': '1', 'corr': ' 2', 'incorr': ' 1', 'text': 'Christian born in 2. Ryan born in 1. Gordon born in 2. Kevin born in 1. Carl born in'}, {'S1': '1', 'S2': '2', 'S3': '1', 'S4': '2', 'corr': ' 1', 'incorr': ' 2', 'text': 'Justin born in 1. Alex born in 2. Greg born in 1. Peter born in 2. Maria born in'}, {'S1': '2', 'S2': '1', 'S3': '2', 'S4': '1', 'corr': ' 2', 'incorr': ' 1', 'text': 'Jack born in 2. Morgan born in 1. Mary born in 2. Alex born in 1. Joshua born in'}, {'S1': '1', 'S2': '2', 'S3': '1', 'S4': '2', 'corr': ' 1', 'incorr': ' 2', 'text': 'Rick born in 1. Gene born in 2. Anthony born in 1. Brandon born in 2. Hunter born in'}, {'S1': '2', 'S2': '1', 'S3': '2', 'S4': '1', 'corr': ' 2', 'incorr': ' 1', 'text': 'Jimmy born in 2. Jo born in 1. Henry born in 2. Danny born in 1. Richard born in'}, {'S1': '1', 'S2': '2', 'S3': '1', 'S4': '2', 'corr': ' 1', 'incorr': ' 2', 'text': 'Jeff born in 1. Robert born in 2. Steve born in 1. Tom born in 2. Brandon born in'}, {'S1': '2', 'S2': '1', 'S3': '2', 'S4': '1', 'corr': ' 2', 'incorr': ' 1', 'text': 'Adam born in 2. Gordon born in 1. Scott born in 2. Steve born in 1. Sean born in'}, {'S1': '1', 'S2': '2', 'S3': '1', 'S4': '2', 'corr': ' 1', 'incorr': ' 2', 'text': 'Stephen born in 1. Diamond born in 2. Jeff born in 1. Eric born in 2. Gary born in'}, {'S1': '2', 'S2': '1', 'S3': '2', 'S4': '1', 'corr': ' 2', 'incorr': ' 1', 'text': 'Paul born in 2. Kelly born in 1. Jon born in 2. Madison born in 1. Jeff born in'}, {'S1': '1', 'S2': '2', 'S3': '1', 'S4': '2', 'corr': ' 1', 'incorr': ' 2', 'text': 'Lee born in 1. Donald born in 2. Sean born in 1. Marc born in 2. Jo born in'}, {'S1': '2', 'S2': '1', 'S3': '2', 'S4': '1', 'corr': ' 2', 'incorr': ' 1', 'text': 'April born in 2. Jo born in 1. Howard born in 2. Steve born in 1. Lisa born in'}, {'S1': '1', 'S2': '2', 'S3': '1', 'S4': '2', 'corr': ' 1', 'incorr': ' 2', 'text': 'Anne born in 1. Marc born in 2. Steven born in 1. Elizabeth born in 2. Brandon born in'}, {'S1': '2', 'S2': '1', 'S3': '2', 'S4': '1', 'corr': ' 2', 'incorr': ' 1', 'text': 'Lisa born in 2. Jeremy born in 1. Howard born in 2. Maria born in 1. Anna born in'}, {'S1': '1', 'S2': '2', 'S3': '1', 'S4': '2', 'corr': ' 1', 'incorr': ' 2', 'text': 'Alan born in 1. Christopher born in 2. Arthur born in 1. Matthew born in 2. Carl born in'}, {'S1': '2', 'S2': '1', 'S3': '2', 'S4': '1', 'corr': ' 2', 'incorr': ' 1', 'text': 'Kim born in 2. Jon born in 1. Connor born in 2. Lisa born in 1. Madison born in'}, {'S1': '1', 'S2': '2', 'S3': '1', 'S4': '2', 'corr': ' 1', 'incorr': ' 2', 'text': 'Michael born in 1. Jay born in 2. Christian born in 1. Charles born in 2. Bruce born in'}, {'S1': '2', 'S2': '1', 'S3': '2', 'S4': '1', 'corr': ' 2', 'incorr': ' 1', 'text': 'William born in 2. Tyler born in 1. Lee born in 2. Maria born in 1. Jack born in'}, {'S1': '1', 'S2': '2', 'S3': '1', 'S4': '2', 'corr': ' 1', 'incorr': ' 2', 'text': 'Luke born in 1. Donald born in 2. Jay born in 1. Jeff born in 2. April born in'}, {'S1': '2', 'S2': '1', 'S3': '2', 'S4': '1', 'corr': ' 2', 'incorr': ' 1', 'text': 'Edward born in 2. Rose born in 1. Chris born in 2. Marc born in 1. Joshua born in'}, {'S1': '1', 'S2': '2', 'S3': '1', 'S4': '2', 'corr': ' 1', 'incorr': ' 2', 'text': 'Joshua born in 1. Craig born in 2. Michael born in 1. Anna born in 2. Jo born in'}, {'S1': '2', 'S2': '1', 'S3': '2', 'S4': '1', 'corr': ' 2', 'incorr': ' 1', 'text': 'Anthony born in 2. April born in 1. Madison born in 2. Paul born in 1. Kyle born in'}, {'S1': '1', 'S2': '2', 'S3': '1', 'S4': '2', 'corr': ' 1', 'incorr': ' 2', 'text': 'William born in 1. Morgan born in 2. Danny born in 1. Greg born in 2. Alex born in'}, {'S1': '2', 'S2': '1', 'S3': '2', 'S4': '1', 'corr': ' 2', 'incorr': ' 1', 'text': 'Justin born in 2. Alex born in 1. Joseph born in 2. Jim born in 1. Danny born in'}, {'S1': '1', 'S2': '2', 'S3': '1', 'S4': '2', 'corr': ' 1', 'incorr': ' 2', 'text': 'Jeff born in 1. Kyle born in 2. Tom born in 1. David born in 2. Jimmy born in'}, {'S1': '2', 'S2': '1', 'S3': '2', 'S4': '1', 'corr': ' 2', 'incorr': ' 1', 'text': 'Lisa born in 2. Allen born in 1. Rachel born in 2. Jeff born in 1. Albert born in'}, {'S1': '1', 'S2': '2', 'S3': '1', 'S4': '2', 'corr': ' 1', 'incorr': ' 2', 'text': 'Peter born in 1. Luke born in 2. Rose born in 1. Anne born in 2. Donald born in'}, {'S1': '2', 'S2': '1', 'S3': '2', 'S4': '1', 'corr': ' 2', 'incorr': ' 1', 'text': 'Matthew born in 2. Jose born in 1. Hunter born in 2. Kyle born in 1. John born in'}, {'S1': '1', 'S2': '2', 'S3': '1', 'S4': '2', 'corr': ' 1', 'incorr': ' 2', 'text': 'Bruce born in 1. Stephen born in 2. Danny born in 1. Jay born in 2. Steven born in'}, {'S1': '2', 'S2': '1', 'S3': '2', 'S4': '1', 'corr': ' 2', 'incorr': ' 1', 'text': 'Marc born in 2. Mike born in 1. Larry born in 2. Henry born in 1. Terry born in'}, {'S1': '1', 'S2': '2', 'S3': '1', 'S4': '2', 'corr': ' 1', 'incorr': ' 2', 'text': 'Charles born in 1. Tom born in 2. Michael born in 1. Alan born in 2. Albert born in'}, {'S1': '2', 'S2': '1', 'S3': '2', 'S4': '1', 'corr': ' 2', 'incorr': ' 1', 'text': 'Chelsea born in 2. Carl born in 1. Jennifer born in 2. Luke born in 1. James born in'}, {'S1': '1', 'S2': '2', 'S3': '1', 'S4': '2', 'corr': ' 1', 'incorr': ' 2', 'text': 'Stephen born in 1. John born in 2. Anna born in 1. Kelly born in 2. Morgan born in'}, {'S1': '2', 'S2': '1', 'S3': '2', 'S4': '1', 'corr': ' 2', 'incorr': ' 1', 'text': 'Gene born in 2. Mike born in 1. James born in 2. Carl born in 1. Eric born in'}, {'S1': '1', 'S2': '2', 'S3': '1', 'S4': '2', 'corr': ' 1', 'incorr': ' 2', 'text': 'Tom born in 1. Jay born in 2. Bill born in 1. Anna born in 2. Anthony born in'}, {'S1': '2', 'S2': '1', 'S3': '2', 'S4': '1', 'corr': ' 2', 'incorr': ' 1', 'text': 'Jimmy born in 2. Terry born in 1. Larry born in 2. Donald born in 1. Richard born in'}, {'S1': '1', 'S2': '2', 'S3': '1', 'S4': '2', 'corr': ' 1', 'incorr': ' 2', 'text': 'Jeremy born in 1. Mike born in 2. Gary born in 1. Chelsea born in 2. Tyler born in'}, {'S1': '2', 'S2': '1', 'S3': '2', 'S4': '1', 'corr': ' 2', 'incorr': ' 1', 'text': 'Paul born in 2. Kim born in 1. Anne born in 2. Jim born in 1. Stephen born in'}, {'S1': '1', 'S2': '2', 'S3': '1', 'S4': '2', 'corr': ' 1', 'incorr': ' 2', 'text': 'Connor born in 1. Hunter born in 2. Terry born in 1. Henry born in 2. Charles born in'}, {'S1': '2', 'S2': '1', 'S3': '2', 'S4': '1', 'corr': ' 2', 'incorr': ' 1', 'text': 'Christian born in 2. Gordon born in 1. Christopher born in 2. David born in 1. Jennifer born in'}, {'S1': '1', 'S2': '2', 'S3': '1', 'S4': '2', 'corr': ' 1', 'incorr': ' 2', 'text': 'Chris born in 1. Kim born in 2. Aaron born in 1. Anthony born in 2. Jeff born in'}, {'S1': '2', 'S2': '1', 'S3': '2', 'S4': '1', 'corr': ' 2', 'incorr': ' 1', 'text': 'Kelly born in 2. Henry born in 1. Brandon born in 2. Sean born in 1. Stephen born in'}, {'S1': '1', 'S2': '2', 'S3': '1', 'S4': '2', 'corr': ' 1', 'incorr': ' 2', 'text': 'Alan born in 1. Steven born in 2. Bill born in 1. Bruce born in 2. Terry born in'}, {'S1': '2', 'S2': '1', 'S3': '2', 'S4': '1', 'corr': ' 2', 'incorr': ' 1', 'text': 'Arthur born in 2. Thomas born in 1. Terry born in 2. Jamie born in 1. Paul born in'}, {'S1': '1', 'S2': '2', 'S3': '1', 'S4': '2', 'corr': ' 1', 'incorr': ' 2', 'text': 'Jennifer born in 1. Tyler born in 2. Jo born in 1. Maria born in 2. Keith born in'}, {'S1': '2', 'S2': '1', 'S3': '2', 'S4': '1', 'corr': ' 2', 'incorr': ' 1', 'text': 'Sean born in 2. Marcus born in 1. Brandon born in 2. Justin born in 1. Chris born in'}, {'S1': '1', 'S2': '2', 'S3': '1', 'S4': '2', 'corr': ' 1', 'incorr': ' 2', 'text': 'Ian born in 1. Mary born in 2. Rose born in 1. Jessica born in 2. Alan born in'}, {'S1': '2', 'S2': '1', 'S3': '2', 'S4': '1', 'corr': ' 2', 'incorr': ' 1', 'text': 'Scott born in 2. Aaron born in 1. Elizabeth born in 2. Ryan born in 1. Jay born in'}, {'S1': '1', 'S2': '2', 'S3': '1', 'S4': '2', 'corr': ' 1', 'incorr': ' 2', 'text': 'Bill born in 1. Steven born in 2. Stephen born in 1. Allen born in 2. Justin born in'}, {'S1': '2', 'S2': '1', 'S3': '2', 'S4': '1', 'corr': ' 2', 'incorr': ' 1', 'text': 'Jose born in 2. Bruce born in 1. Steve born in 2. Terry born in 1. Jeff born in'}, {'S1': '1', 'S2': '2', 'S3': '1', 'S4': '2', 'corr': ' 1', 'incorr': ' 2', 'text': 'Terry born in 1. Alan born in 2. Roy born in 1. Paul born in 2. Gene born in'}, {'S1': '2', 'S2': '1', 'S3': '2', 'S4': '1', 'corr': ' 2', 'incorr': ' 1', 'text': 'Bill born in 2. Steven born in 1. Jim born in 2. Tom born in 1. Diamond born in'}, {'S1': '1', 'S2': '2', 'S3': '1', 'S4': '2', 'corr': ' 1', 'incorr': ' 2', 'text': 'Lisa born in 1. Anthony born in 2. Jon born in 1. Jacob born in 2. Scott born in'}, {'S1': '2', 'S2': '1', 'S3': '2', 'S4': '1', 'corr': ' 2', 'incorr': ' 1', 'text': 'Robert born in 2. Jamie born in 1. Terry born in 2. Jon born in 1. Jay born in'}, {'S1': '1', 'S2': '2', 'S3': '1', 'S4': '2', 'corr': ' 1', 'incorr': ' 2', 'text': 'Christian born in 1. Scott born in 2. Thomas born in 1. Allen born in 2. Adam born in'}, {'S1': '2', 'S2': '1', 'S3': '2', 'S4': '1', 'corr': ' 2', 'incorr': ' 1', 'text': 'Jack born in 2. Jose born in 1. Taylor born in 2. Morgan born in 1. Alan born in'}, {'S1': '1', 'S2': '2', 'S3': '1', 'S4': '2', 'corr': ' 1', 'incorr': ' 2', 'text': 'Anne born in 1. Jack born in 2. Sean born in 1. Jimmy born in 2. Bill born in'}, {'S1': '2', 'S2': '1', 'S3': '2', 'S4': '1', 'corr': ' 2', 'incorr': ' 1', 'text': 'Hunter born in 2. Jon born in 1. Jimmy born in 2. Albert born in 1. Laura born in'}, {'S1': '1', 'S2': '2', 'S3': '1', 'S4': '2', 'corr': ' 1', 'incorr': ' 2', 'text': 'Jimmy born in 1. Edward born in 2. Paul born in 1. Kim born in 2. Madison born in'}, {'S1': '2', 'S2': '1', 'S3': '2', 'S4': '1', 'corr': ' 2', 'incorr': ' 1', 'text': 'Craig born in 2. Roger born in 1. Madison born in 2. Anthony born in 1. George born in'}, {'S1': '1', 'S2': '2', 'S3': '1', 'S4': '2', 'corr': ' 1', 'incorr': ' 2', 'text': 'Hunter born in 1. Andre born in 2. Anne born in 1. Rachel born in 2. Kyle born in'}, {'S1': '2', 'S2': '1', 'S3': '2', 'S4': '1', 'corr': ' 2', 'incorr': ' 1', 'text': 'Jacob born in 2. Kevin born in 1. Eric born in 2. Paul born in 1. Henry born in'}, {'S1': '1', 'S2': '2', 'S3': '1', 'S4': '2', 'corr': ' 1', 'incorr': ' 2', 'text': 'Arthur born in 1. Scott born in 2. Anne born in 1. Tom born in 2. Joseph born in'}, {'S1': '2', 'S2': '1', 'S3': '2', 'S4': '1', 'corr': ' 2', 'incorr': ' 1', 'text': 'Jacob born in 2. Bruce born in 1. Sean born in 2. Bill born in 1. Robert born in'}, {'S1': '1', 'S2': '2', 'S3': '1', 'S4': '2', 'corr': ' 1', 'incorr': ' 2', 'text': 'Jim born in 1. John born in 2. Larry born in 1. Laura born in 2. Jeff born in'}, {'S1': '2', 'S2': '1', 'S3': '2', 'S4': '1', 'corr': ' 2', 'incorr': ' 1', 'text': 'John born in 2. Brandon born in 1. Bill born in 2. Jacob born in 1. Craig born in'}, {'S1': '1', 'S2': '2', 'S3': '1', 'S4': '2', 'corr': ' 1', 'incorr': ' 2', 'text': 'Paul born in 1. Andre born in 2. Charles born in 1. Jose born in 2. Alan born in'}, {'S1': '2', 'S2': '1', 'S3': '2', 'S4': '1', 'corr': ' 2', 'incorr': ' 1', 'text': 'Keith born in 2. Victoria born in 1. Ryan born in 2. James born in 1. Jeremy born in'}, {'S1': '1', 'S2': '2', 'S3': '1', 'S4': '2', 'corr': ' 1', 'incorr': ' 2', 'text': 'Greg born in 1. Diamond born in 2. Peter born in 1. Mike born in 2. Luke born in'}, {'S1': '2', 'S2': '1', 'S3': '2', 'S4': '1', 'corr': ' 2', 'incorr': ' 1', 'text': 'Andre born in 2. Anthony born in 1. Jack born in 2. April born in 1. Jessica born in'}, {'S1': '1', 'S2': '2', 'S3': '1', 'S4': '2', 'corr': ' 1', 'incorr': ' 2', 'text': 'Morgan born in 1. Rose born in 2. Lisa born in 1. Eric born in 2. Jeff born in'}, {'S1': '2', 'S2': '1', 'S3': '2', 'S4': '1', 'corr': ' 2', 'incorr': ' 1', 'text': 'Roy born in 2. Thomas born in 1. Danny born in 2. Jeremy born in 1. Aaron born in'}, {'S1': '1', 'S2': '2', 'S3': '1', 'S4': '2', 'corr': ' 1', 'incorr': ' 2', 'text': 'Eric born in 1. Kelly born in 2. Aaron born in 1. Marc born in 2. Mike born in'}, {'S1': '2', 'S2': '1', 'S3': '2', 'S4': '1', 'corr': ' 2', 'incorr': ' 1', 'text': 'Connor born in 2. Greg born in 1. Jimmy born in 2. Ann born in 1. Howard born in'}, {'S1': '1', 'S2': '2', 'S3': '1', 'S4': '2', 'corr': ' 1', 'incorr': ' 2', 'text': 'John born in 1. Charles born in 2. Luke born in 1. Terry born in 2. Alex born in'}, {'S1': '2', 'S2': '1', 'S3': '2', 'S4': '1', 'corr': ' 2', 'incorr': ' 1', 'text': 'Aaron born in 2. Maria born in 1. Jeff born in 2. Alan born in 1. Scott born in'}, {'S1': '1', 'S2': '2', 'S3': '1', 'S4': '2', 'corr': ' 1', 'incorr': ' 2', 'text': 'Peter born in 1. Anthony born in 2. James born in 1. David born in 2. Anna born in'}, {'S1': '2', 'S2': '1', 'S3': '2', 'S4': '1', 'corr': ' 2', 'incorr': ' 1', 'text': 'Greg born in 2. Anna born in 1. Maria born in 2. Joseph born in 1. Mark born in'}, {'S1': '1', 'S2': '2', 'S3': '1', 'S4': '2', 'corr': ' 1', 'incorr': ' 2', 'text': 'Aaron born in 1. Bruce born in 2. Kim born in 1. Paul born in 2. Thomas born in'}, {'S1': '2', 'S2': '1', 'S3': '2', 'S4': '1', 'corr': ' 2', 'incorr': ' 1', 'text': 'Alex born in 2. Roger born in 1. Elizabeth born in 2. Victoria born in 1. Carl born in'}, {'S1': '1', 'S2': '2', 'S3': '1', 'S4': '2', 'corr': ' 1', 'incorr': ' 2', 'text': 'Victoria born in 1. Kelly born in 2. Kim born in 1. Rachel born in 2. Jacob born in'}, {'S1': '2', 'S2': '1', 'S3': '2', 'S4': '1', 'corr': ' 2', 'incorr': ' 1', 'text': 'Rachel born in 2. Kim born in 1. Madison born in 2. Rose born in 1. Greg born in'}, {'S1': '1', 'S2': '2', 'S3': '1', 'S4': '2', 'corr': ' 1', 'incorr': ' 2', 'text': 'Adam born in 1. Ann born in 2. Anna born in 1. Paul born in 2. Larry born in'}, {'S1': '2', 'S2': '1', 'S3': '2', 'S4': '1', 'corr': ' 2', 'incorr': ' 1', 'text': 'Mike born in 2. Sean born in 1. Donald born in 2. Diamond born in 1. Matthew born in'}, {'S1': '1', 'S2': '2', 'S3': '1', 'S4': '2', 'corr': ' 1', 'incorr': ' 2', 'text': 'Roger born in 1. Roy born in 2. Jamie born in 1. Chelsea born in 2. Matthew born in'}, {'S1': '2', 'S2': '1', 'S3': '2', 'S4': '1', 'corr': ' 2', 'incorr': ' 1', 'text': 'Ryan born in 2. Edward born in 1. Tyler born in 2. Jimmy born in 1. Roger born in'}, {'S1': '1', 'S2': '2', 'S3': '1', 'S4': '2', 'corr': ' 1', 'incorr': ' 2', 'text': 'Kelly born in 1. Jo born in 2. Jon born in 1. Joshua born in 2. Kyle born in'}, {'S1': '2', 'S2': '1', 'S3': '2', 'S4': '1', 'corr': ' 2', 'incorr': ' 1', 'text': 'David born in 2. Arthur born in 1. Rick born in 2. Victoria born in 1. Matthew born in'}, {'S1': '1', 'S2': '2', 'S3': '1', 'S4': '2', 'corr': ' 1', 'incorr': ' 2', 'text': 'Diamond born in 1. Matthew born in 2. George born in 1. Howard born in 2. Allen born in'}, {'S1': '2', 'S2': '1', 'S3': '2', 'S4': '1', 'corr': ' 2', 'incorr': ' 1', 'text': 'Edward born in 2. Jeff born in 1. Donald born in 2. Kyle born in 1. Laura born in'}, {'S1': '1', 'S2': '2', 'S3': '1', 'S4': '2', 'corr': ' 1', 'incorr': ' 2', 'text': 'Justin born in 1. Chelsea born in 2. Paul born in 1. Anna born in 2. James born in'}, {'S1': '2', 'S2': '1', 'S3': '2', 'S4': '1', 'corr': ' 2', 'incorr': ' 1', 'text': 'Joseph born in 2. Taylor born in 1. Roger born in 2. Allen born in 1. Peter born in'}, {'S1': '1', 'S2': '2', 'S3': '1', 'S4': '2', 'corr': ' 1', 'incorr': ' 2', 'text': 'Henry born in 1. Jimmy born in 2. Michael born in 1. Jay born in 2. Lisa born in'}, {'S1': '2', 'S2': '1', 'S3': '2', 'S4': '1', 'corr': ' 2', 'incorr': ' 1', 'text': 'Laura born in 2. Hunter born in 1. Justin born in 2. Kyle born in 1. Diamond born in'}, {'S1': '1', 'S2': '2', 'S3': '1', 'S4': '2', 'corr': ' 1', 'incorr': ' 2', 'text': 'Marcus born in 1. Jessica born in 2. Anne born in 1. Sean born in 2. James born in'}, {'S1': '2', 'S2': '1', 'S3': '2', 'S4': '1', 'corr': ' 2', 'incorr': ' 1', 'text': 'Rose born in 2. Tom born in 1. Jessica born in 2. Rick born in 1. Steve born in'}, {'S1': '1', 'S2': '2', 'S3': '1', 'S4': '2', 'corr': ' 1', 'incorr': ' 2', 'text': 'Anna born in 1. Kim born in 2. Kyle born in 1. Danny born in 2. John born in'}, {'S1': '2', 'S2': '1', 'S3': '2', 'S4': '1', 'corr': ' 2', 'incorr': ' 1', 'text': 'Rose born in 2. Gary born in 1. Stephen born in 2. Adam born in 1. Eric born in'}, {'S1': '1', 'S2': '2', 'S3': '1', 'S4': '2', 'corr': ' 1', 'incorr': ' 2', 'text': 'Edward born in 1. Henry born in 2. Justin born in 1. John born in 2. April born in'}, {'S1': '2', 'S2': '1', 'S3': '2', 'S4': '1', 'corr': ' 2', 'incorr': ' 1', 'text': 'Robert born in 2. Christopher born in 1. Albert born in 2. Rick born in 1. Gene born in'}, {'S1': '1', 'S2': '2', 'S3': '1', 'S4': '2', 'corr': ' 1', 'incorr': ' 2', 'text': 'Lee born in 1. Kyle born in 2. Peter born in 1. Morgan born in 2. Scott born in'}, {'S1': '2', 'S2': '1', 'S3': '2', 'S4': '1', 'corr': ' 2', 'incorr': ' 1', 'text': 'Paul born in 2. Rachel born in 1. Edward born in 2. David born in 1. Arthur born in'}, {'S1': '1', 'S2': '2', 'S3': '1', 'S4': '2', 'corr': ' 1', 'incorr': ' 2', 'text': 'Jon born in 1. William born in 2. Rick born in 1. Jessica born in 2. Howard born in'}, {'S1': '2', 'S2': '1', 'S3': '2', 'S4': '1', 'corr': ' 2', 'incorr': ' 1', 'text': 'Roger born in 2. Steven born in 1. Kelly born in 2. Ian born in 1. Connor born in'}, {'S1': '1', 'S2': '2', 'S3': '1', 'S4': '2', 'corr': ' 1', 'incorr': ' 2', 'text': 'Bill born in 1. Victoria born in 2. Scott born in 1. Greg born in 2. Jeff born in'}, {'S1': '2', 'S2': '1', 'S3': '2', 'S4': '1', 'corr': ' 2', 'incorr': ' 1', 'text': 'Jo born in 2. Allen born in 1. Ian born in 2. Kevin born in 1. Tom born in'}, {'S1': '1', 'S2': '2', 'S3': '1', 'S4': '2', 'corr': ' 1', 'incorr': ' 2', 'text': 'John born in 1. Jacob born in 2. Larry born in 1. Chelsea born in 2. Carl born in'}, {'S1': '2', 'S2': '1', 'S3': '2', 'S4': '1', 'corr': ' 2', 'incorr': ' 1', 'text': 'Jeremy born in 2. Morgan born in 1. Jay born in 2. Terry born in 1. Chelsea born in'}, {'S1': '1', 'S2': '2', 'S3': '1', 'S4': '2', 'corr': ' 1', 'incorr': ' 2', 'text': 'Rachel born in 1. Thomas born in 2. Chris born in 1. Terry born in 2. Lisa born in'}, {'S1': '2', 'S2': '1', 'S3': '2', 'S4': '1', 'corr': ' 2', 'incorr': ' 1', 'text': 'Allen born in 2. Joshua born in 1. Ryan born in 2. Terry born in 1. Jon born in'}, {'S1': '1', 'S2': '2', 'S3': '1', 'S4': '2', 'corr': ' 1', 'incorr': ' 2', 'text': 'Christian born in 1. Diamond born in 2. Jose born in 1. Peter born in 2. Gary born in'}, {'S1': '2', 'S2': '1', 'S3': '2', 'S4': '1', 'corr': ' 2', 'incorr': ' 1', 'text': 'Justin born in 2. Christopher born in 1. Tom born in 2. Hunter born in 1. Jack born in'}, {'S1': '1', 'S2': '2', 'S3': '1', 'S4': '2', 'corr': ' 1', 'incorr': ' 2', 'text': 'Marcus born in 1. Steve born in 2. Greg born in 1. Christopher born in 2. Anna born in'}, {'S1': '2', 'S2': '1', 'S3': '2', 'S4': '1', 'corr': ' 2', 'incorr': ' 1', 'text': 'Victoria born in 2. Joseph born in 1. Jon born in 2. Jeremy born in 1. Hunter born in'}, {'S1': '1', 'S2': '2', 'S3': '1', 'S4': '2', 'corr': ' 1', 'incorr': ' 2', 'text': 'Jennifer born in 1. Kelly born in 2. Jim born in 1. Charles born in 2. Donald born in'}, {'S1': '2', 'S2': '1', 'S3': '2', 'S4': '1', 'corr': ' 2', 'incorr': ' 1', 'text': 'Jay born in 2. Marc born in 1. Roy born in 2. Ann born in 1. Terry born in'}, {'S1': '1', 'S2': '2', 'S3': '1', 'S4': '2', 'corr': ' 1', 'incorr': ' 2', 'text': 'Kevin born in 1. Jacob born in 2. Keith born in 1. Allen born in 2. Michael born in'}, {'S1': '2', 'S2': '1', 'S3': '2', 'S4': '1', 'corr': ' 2', 'incorr': ' 1', 'text': 'Lee born in 2. Maria born in 1. Stephen born in 2. Larry born in 1. David born in'}, {'S1': '1', 'S2': '2', 'S3': '1', 'S4': '2', 'corr': ' 1', 'incorr': ' 2', 'text': 'Jon born in 1. Kelly born in 2. Christopher born in 1. Arthur born in 2. Rachel born in'}, {'S1': '2', 'S2': '1', 'S3': '2', 'S4': '1', 'corr': ' 2', 'incorr': ' 1', 'text': 'Hunter born in 2. Diamond born in 1. Carl born in 2. Maria born in 1. Alex born in'}, {'S1': '1', 'S2': '2', 'S3': '1', 'S4': '2', 'corr': ' 1', 'incorr': ' 2', 'text': 'Diamond born in 1. Jimmy born in 2. George born in 1. Mike born in 2. Madison born in'}, {'S1': '2', 'S2': '1', 'S3': '2', 'S4': '1', 'corr': ' 2', 'incorr': ' 1', 'text': 'Edward born in 2. Jo born in 1. Maria born in 2. Howard born in 1. Henry born in'}, {'S1': '1', 'S2': '2', 'S3': '1', 'S4': '2', 'corr': ' 1', 'incorr': ' 2', 'text': 'Victoria born in 1. Albert born in 2. Morgan born in 1. Kevin born in 2. Rick born in'}, {'S1': '2', 'S2': '1', 'S3': '2', 'S4': '1', 'corr': ' 2', 'incorr': ' 1', 'text': 'Chris born in 2. Christopher born in 1. Jon born in 2. Craig born in 1. Madison born in'}, {'S1': '1', 'S2': '2', 'S3': '1', 'S4': '2', 'corr': ' 1', 'incorr': ' 2', 'text': 'James born in 1. Lee born in 2. Steven born in 1. April born in 2. Jamie born in'}, {'S1': '2', 'S2': '1', 'S3': '2', 'S4': '1', 'corr': ' 2', 'incorr': ' 1', 'text': 'Marc born in 2. Anne born in 1. Ryan born in 2. Rose born in 1. Laura born in'}, {'S1': '1', 'S2': '2', 'S3': '1', 'S4': '2', 'corr': ' 1', 'incorr': ' 2', 'text': 'Kyle born in 1. Carl born in 2. Jon born in 1. Kevin born in 2. Paul born in'}, {'S1': '2', 'S2': '1', 'S3': '2', 'S4': '1', 'corr': ' 2', 'incorr': ' 1', 'text': 'Gene born in 2. Steven born in 1. Gary born in 2. Bill born in 1. James born in'}, {'S1': '1', 'S2': '2', 'S3': '1', 'S4': '2', 'corr': ' 1', 'incorr': ' 2', 'text': 'Jimmy born in 1. Bill born in 2. John born in 1. Sean born in 2. Aaron born in'}, {'S1': '2', 'S2': '1', 'S3': '2', 'S4': '1', 'corr': ' 2', 'incorr': ' 1', 'text': 'Ann born in 2. Jo born in 1. Victoria born in 2. Kevin born in 1. Rachel born in'}, {'S1': '1', 'S2': '2', 'S3': '1', 'S4': '2', 'corr': ' 1', 'incorr': ' 2', 'text': 'Sean born in 1. Kelly born in 2. Mike born in 1. Jennifer born in 2. Kim born in'}, {'S1': '2', 'S2': '1', 'S3': '2', 'S4': '1', 'corr': ' 2', 'incorr': ' 1', 'text': 'George born in 2. John born in 1. Peter born in 2. Alan born in 1. Rachel born in'}, {'S1': '1', 'S2': '2', 'S3': '1', 'S4': '2', 'corr': ' 1', 'incorr': ' 2', 'text': 'Matthew born in 1. Christopher born in 2. Jack born in 1. Jamie born in 2. Luke born in'}, {'S1': '2', 'S2': '1', 'S3': '2', 'S4': '1', 'corr': ' 2', 'incorr': ' 1', 'text': 'Larry born in 2. Marc born in 1. Eric born in 2. Charles born in 1. Christian born in'}, {'S1': '1', 'S2': '2', 'S3': '1', 'S4': '2', 'corr': ' 1', 'incorr': ' 2', 'text': 'Joshua born in 1. Rachel born in 2. Scott born in 1. Morgan born in 2. Allen born in'}, {'S1': '2', 'S2': '1', 'S3': '2', 'S4': '1', 'corr': ' 2', 'incorr': ' 1', 'text': 'Diamond born in 2. Keith born in 1. Gordon born in 2. Alex born in 1. Terry born in'}, {'S1': '1', 'S2': '2', 'S3': '1', 'S4': '2', 'corr': ' 1', 'incorr': ' 2', 'text': 'Laura born in 1. Jose born in 2. Ann born in 1. Mary born in 2. Rachel born in'}, {'S1': '2', 'S2': '1', 'S3': '2', 'S4': '1', 'corr': ' 2', 'incorr': ' 1', 'text': 'Chelsea born in 2. Christopher born in 1. Jamie born in 2. Terry born in 1. Morgan born in'}, {'S1': '1', 'S2': '2', 'S3': '1', 'S4': '2', 'corr': ' 1', 'incorr': ' 2', 'text': 'Kevin born in 1. Taylor born in 2. Marc born in 1. Joseph born in 2. Keith born in'}, {'S1': '2', 'S2': '1', 'S3': '2', 'S4': '1', 'corr': ' 2', 'incorr': ' 1', 'text': 'Mark born in 2. Sean born in 1. Arthur born in 2. Luke born in 1. David born in'}, {'S1': '1', 'S2': '2', 'S3': '1', 'S4': '2', 'corr': ' 1', 'incorr': ' 2', 'text': 'Anthony born in 1. Bruce born in 2. Eric born in 1. Tom born in 2. Gordon born in'}, {'S1': '2', 'S2': '1', 'S3': '2', 'S4': '1', 'corr': ' 2', 'incorr': ' 1', 'text': 'Jeremy born in 2. Mark born in 1. Laura born in 2. Ann born in 1. Joseph born in'}, {'S1': '1', 'S2': '2', 'S3': '1', 'S4': '2', 'corr': ' 1', 'incorr': ' 2', 'text': 'Tyler born in 1. Joshua born in 2. Jo born in 1. Steve born in 2. Howard born in'}, {'S1': '2', 'S2': '1', 'S3': '2', 'S4': '1', 'corr': ' 2', 'incorr': ' 1', 'text': 'Jay born in 2. Jacob born in 1. Craig born in 2. Paul born in 1. Carl born in'}, {'S1': '1', 'S2': '2', 'S3': '1', 'S4': '2', 'corr': ' 1', 'incorr': ' 2', 'text': 'Christian born in 1. Craig born in 2. Kim born in 1. Rose born in 2. Richard born in'}, {'S1': '2', 'S2': '1', 'S3': '2', 'S4': '1', 'corr': ' 2', 'incorr': ' 1', 'text': 'Danny born in 2. Christopher born in 1. William born in 2. Luke born in 1. Matthew born in'}, {'S1': '1', 'S2': '2', 'S3': '1', 'S4': '2', 'corr': ' 1', 'incorr': ' 2', 'text': 'Chelsea born in 1. Gene born in 2. Alex born in 1. Mark born in 2. Lisa born in'}, {'S1': '2', 'S2': '1', 'S3': '2', 'S4': '1', 'corr': ' 2', 'incorr': ' 1', 'text': 'Howard born in 2. Thomas born in 1. Edward born in 2. Jose born in 1. Rose born in'}, {'S1': '1', 'S2': '2', 'S3': '1', 'S4': '2', 'corr': ' 1', 'incorr': ' 2', 'text': 'Victoria born in 1. George born in 2. Christian born in 1. Greg born in 2. April born in'}, {'S1': '2', 'S2': '1', 'S3': '2', 'S4': '1', 'corr': ' 2', 'incorr': ' 1', 'text': 'Matthew born in 2. Lisa born in 1. Paul born in 2. Aaron born in 1. Lee born in'}, {'S1': '1', 'S2': '2', 'S3': '1', 'S4': '2', 'corr': ' 1', 'incorr': ' 2', 'text': 'Brandon born in 1. Craig born in 2. Carl born in 1. William born in 2. Jeff born in'}, {'S1': '2', 'S2': '1', 'S3': '2', 'S4': '1', 'corr': ' 2', 'incorr': ' 1', 'text': 'Kyle born in 2. Steve born in 1. Jo born in 2. Bill born in 1. Eric born in'}, {'S1': '1', 'S2': '2', 'S3': '1', 'S4': '2', 'corr': ' 1', 'incorr': ' 2', 'text': 'Maria born in 1. Albert born in 2. Terry born in 1. George born in 2. Victoria born in'}, {'S1': '2', 'S2': '1', 'S3': '2', 'S4': '1', 'corr': ' 2', 'incorr': ' 1', 'text': 'Gary born in 2. Carl born in 1. Anna born in 2. Adam born in 1. Rick born in'}, {'S1': '1', 'S2': '2', 'S3': '1', 'S4': '2', 'corr': ' 1', 'incorr': ' 2', 'text': 'Sean born in 1. Allen born in 2. Maria born in 1. Joshua born in 2. Aaron born in'}, {'S1': '2', 'S2': '1', 'S3': '2', 'S4': '1', 'corr': ' 2', 'incorr': ' 1', 'text': 'Steve born in 2. Aaron born in 1. April born in 2. Ann born in 1. Jay born in'}, {'S1': '1', 'S2': '2', 'S3': '1', 'S4': '2', 'corr': ' 1', 'incorr': ' 2', 'text': 'Rose born in 1. Tom born in 2. Sean born in 1. Rachel born in 2. Andre born in'}, {'S1': '2', 'S2': '1', 'S3': '2', 'S4': '1', 'corr': ' 2', 'incorr': ' 1', 'text': 'Steven born in 2. Elizabeth born in 1. George born in 2. Donald born in 1. Taylor born in'}, {'S1': '1', 'S2': '2', 'S3': '1', 'S4': '2', 'corr': ' 1', 'incorr': ' 2', 'text': 'Matthew born in 1. Chelsea born in 2. Kevin born in 1. Jessica born in 2. Kim born in'}, {'S1': '2', 'S2': '1', 'S3': '2', 'S4': '1', 'corr': ' 2', 'incorr': ' 1', 'text': 'Lee born in 2. Christian born in 1. Chris born in 2. Steven born in 1. Andre born in'}, {'S1': '1', 'S2': '2', 'S3': '1', 'S4': '2', 'corr': ' 1', 'incorr': ' 2', 'text': 'Peter born in 1. Chris born in 2. Victoria born in 1. Kyle born in 2. Tyler born in'}, {'S1': '2', 'S2': '1', 'S3': '2', 'S4': '1', 'corr': ' 2', 'incorr': ' 1', 'text': 'Jo born in 2. Charles born in 1. Robert born in 2. Maria born in 1. Mike born in'}, {'S1': '1', 'S2': '2', 'S3': '1', 'S4': '2', 'corr': ' 1', 'incorr': ' 2', 'text': 'Anthony born in 1. Tom born in 2. Steven born in 1. Stephen born in 2. Howard born in'}, {'S1': '2', 'S2': '1', 'S3': '2', 'S4': '1', 'corr': ' 2', 'incorr': ' 1', 'text': 'Thomas born in 2. Bruce born in 1. Larry born in 2. Mary born in 1. Brandon born in'}, {'S1': '1', 'S2': '2', 'S3': '1', 'S4': '2', 'corr': ' 1', 'incorr': ' 2', 'text': 'Taylor born in 1. Keith born in 2. Jamie born in 1. Morgan born in 2. Roy born in'}, {'S1': '2', 'S2': '1', 'S3': '2', 'S4': '1', 'corr': ' 2', 'incorr': ' 1', 'text': 'April born in 2. Keith born in 1. Connor born in 2. Elizabeth born in 1. Alex born in'}, {'S1': '1', 'S2': '2', 'S3': '1', 'S4': '2', 'corr': ' 1', 'incorr': ' 2', 'text': 'Brandon born in 1. Hunter born in 2. Jim born in 1. Gordon born in 2. Charles born in'}, {'S1': '2', 'S2': '1', 'S3': '2', 'S4': '1', 'corr': ' 2', 'incorr': ' 1', 'text': 'Henry born in 2. Jim born in 1. William born in 2. Rick born in 1. Joseph born in'}, {'S1': '1', 'S2': '2', 'S3': '1', 'S4': '2', 'corr': ' 1', 'incorr': ' 2', 'text': 'Alex born in 1. Bill born in 2. Terry born in 1. Taylor born in 2. David born in'}, {'S1': '2', 'S2': '1', 'S3': '2', 'S4': '1', 'corr': ' 2', 'incorr': ' 1', 'text': 'Victoria born in 2. Allen born in 1. Scott born in 2. Hunter born in 1. Joseph born in'}, {'S1': '1', 'S2': '2', 'S3': '1', 'S4': '2', 'corr': ' 1', 'incorr': ' 2', 'text': 'Tyler born in 1. John born in 2. Alan born in 1. Ian born in 2. Jay born in'}, {'S1': '2', 'S2': '1', 'S3': '2', 'S4': '1', 'corr': ' 2', 'incorr': ' 1', 'text': 'Lisa born in 2. Allen born in 1. Chris born in 2. Bruce born in 1. Connor born in'}, {'S1': '1', 'S2': '2', 'S3': '1', 'S4': '2', 'corr': ' 1', 'incorr': ' 2', 'text': 'Jack born in 1. Tyler born in 2. Andre born in 1. John born in 2. Steven born in'}, {'S1': '2', 'S2': '1', 'S3': '2', 'S4': '1', 'corr': ' 2', 'incorr': ' 1', 'text': 'Ian born in 2. Luke born in 1. Connor born in 2. Andre born in 1. Ryan born in'}, {'S1': '1', 'S2': '2', 'S3': '1', 'S4': '2', 'corr': ' 1', 'incorr': ' 2', 'text': 'Laura born in 1. Larry born in 2. Gene born in 1. Rachel born in 2. Sean born in'}, {'S1': '2', 'S2': '1', 'S3': '2', 'S4': '1', 'corr': ' 2', 'incorr': ' 1', 'text': 'Gene born in 2. Alex born in 1. Lee born in 2. Connor born in 1. Maria born in'}, {'S1': '1', 'S2': '2', 'S3': '1', 'S4': '2', 'corr': ' 1', 'incorr': ' 2', 'text': 'Howard born in 1. Luke born in 2. William born in 1. Marcus born in 2. Arthur born in'}, {'S1': '2', 'S2': '1', 'S3': '2', 'S4': '1', 'corr': ' 2', 'incorr': ' 1', 'text': 'Joseph born in 2. Jennifer born in 1. Matthew born in 2. Rick born in 1. Ryan born in'}, {'S1': '1', 'S2': '2', 'S3': '1', 'S4': '2', 'corr': ' 1', 'incorr': ' 2', 'text': 'Ian born in 1. Joseph born in 2. Morgan born in 1. Mark born in 2. Steve born in'}, {'S1': '2', 'S2': '1', 'S3': '2', 'S4': '1', 'corr': ' 2', 'incorr': ' 1', 'text': 'William born in 2. Rose born in 1. Jon born in 2. Gary born in 1. David born in'}, {'S1': '1', 'S2': '2', 'S3': '1', 'S4': '2', 'corr': ' 1', 'incorr': ' 2', 'text': 'Matthew born in 1. Gordon born in 2. Kim born in 1. Jo born in 2. Roger born in'}, {'S1': '2', 'S2': '1', 'S3': '2', 'S4': '1', 'corr': ' 2', 'incorr': ' 1', 'text': 'Jessica born in 2. Michael born in 1. Jon born in 2. Connor born in 1. Alex born in'}, {'S1': '1', 'S2': '2', 'S3': '1', 'S4': '2', 'corr': ' 1', 'incorr': ' 2', 'text': 'Thomas born in 1. Gary born in 2. Lee born in 1. Chelsea born in 2. Peter born in'}, {'S1': '2', 'S2': '1', 'S3': '2', 'S4': '1', 'corr': ' 2', 'incorr': ' 1', 'text': 'Bruce born in 2. Jimmy born in 1. Hunter born in 2. Tom born in 1. Richard born in'}, {'S1': '1', 'S2': '2', 'S3': '1', 'S4': '2', 'corr': ' 1', 'incorr': ' 2', 'text': 'Rick born in 1. Luke born in 2. Taylor born in 1. Kelly born in 2. Brandon born in'}, {'S1': '2', 'S2': '1', 'S3': '2', 'S4': '1', 'corr': ' 2', 'incorr': ' 1', 'text': 'Robert born in 2. Bruce born in 1. Mary born in 2. Chelsea born in 1. Jessica born in'}, {'S1': '1', 'S2': '2', 'S3': '1', 'S4': '2', 'corr': ' 1', 'incorr': ' 2', 'text': 'Mike born in 1. Jacob born in 2. Diamond born in 1. Jessica born in 2. Brandon born in'}, {'S1': '2', 'S2': '1', 'S3': '2', 'S4': '1', 'corr': ' 2', 'incorr': ' 1', 'text': 'Diamond born in 2. Aaron born in 1. Ryan born in 2. Matthew born in 1. Edward born in'}, {'S1': '1', 'S2': '2', 'S3': '1', 'S4': '2', 'corr': ' 1', 'incorr': ' 2', 'text': 'Terry born in 1. Diamond born in 2. George born in 1. Joseph born in 2. Jay born in'}, {'S1': '2', 'S2': '1', 'S3': '2', 'S4': '1', 'corr': ' 2', 'incorr': ' 1', 'text': 'Ryan born in 2. Laura born in 1. Madison born in 2. Aaron born in 1. Tom born in'}, {'S1': '1', 'S2': '2', 'S3': '1', 'S4': '2', 'corr': ' 1', 'incorr': ' 2', 'text': 'Bruce born in 1. Jon born in 2. Jim born in 1. Jeff born in 2. James born in'}, {'S1': '2', 'S2': '1', 'S3': '2', 'S4': '1', 'corr': ' 2', 'incorr': ' 1', 'text': 'Greg born in 2. Ryan born in 1. Mary born in 2. Brandon born in 1. Lisa born in'}, {'S1': '1', 'S2': '2', 'S3': '1', 'S4': '2', 'corr': ' 1', 'incorr': ' 2', 'text': 'Carl born in 1. Alex born in 2. Lisa born in 1. Marcus born in 2. Ryan born in'}, {'S1': '2', 'S2': '1', 'S3': '2', 'S4': '1', 'corr': ' 2', 'incorr': ' 1', 'text': 'Jon born in 2. Scott born in 1. Rick born in 2. Charles born in 1. Carl born in'}, {'S1': '1', 'S2': '2', 'S3': '1', 'S4': '2', 'corr': ' 1', 'incorr': ' 2', 'text': 'Ryan born in 1. Eric born in 2. Jeff born in 1. Connor born in 2. Joseph born in'}, {'S1': '2', 'S2': '1', 'S3': '2', 'S4': '1', 'corr': ' 2', 'incorr': ' 1', 'text': 'Paul born in 2. Charles born in 1. Andre born in 2. Ian born in 1. Maria born in'}, {'S1': '1', 'S2': '2', 'S3': '1', 'S4': '2', 'corr': ' 1', 'incorr': ' 2', 'text': 'Jim born in 1. Roger born in 2. Alex born in 1. Maria born in 2. Donald born in'}, {'S1': '2', 'S2': '1', 'S3': '2', 'S4': '1', 'corr': ' 2', 'incorr': ' 1', 'text': 'James born in 2. Larry born in 1. Madison born in 2. Allen born in 1. Diamond born in'}, {'S1': '1', 'S2': '2', 'S3': '1', 'S4': '2', 'corr': ' 1', 'incorr': ' 2', 'text': 'Scott born in 1. Christopher born in 2. Rachel born in 1. Roy born in 2. Anne born in'}, {'S1': '2', 'S2': '1', 'S3': '2', 'S4': '1', 'corr': ' 2', 'incorr': ' 1', 'text': 'Mark born in 2. Morgan born in 1. Rachel born in 2. Greg born in 1. Tyler born in'}, {'S1': '1', 'S2': '2', 'S3': '1', 'S4': '2', 'corr': ' 1', 'incorr': ' 2', 'text': 'Ryan born in 1. Peter born in 2. Roger born in 1. Victoria born in 2. Arthur born in'}, {'S1': '2', 'S2': '1', 'S3': '2', 'S4': '1', 'corr': ' 2', 'incorr': ' 1', 'text': 'James born in 2. Hunter born in 1. Marc born in 2. Gary born in 1. Jack born in'}, {'S1': '1', 'S2': '2', 'S3': '1', 'S4': '2', 'corr': ' 1', 'incorr': ' 2', 'text': 'Jennifer born in 1. Jose born in 2. Rose born in 1. Donald born in 2. Michael born in'}, {'S1': '2', 'S2': '1', 'S3': '2', 'S4': '1', 'corr': ' 2', 'incorr': ' 1', 'text': 'James born in 2. Jacob born in 1. Jennifer born in 2. Kelly born in 1. Alan born in'}, {'S1': '1', 'S2': '2', 'S3': '1', 'S4': '2', 'corr': ' 1', 'incorr': ' 2', 'text': 'Mark born in 1. Tyler born in 2. Jimmy born in 1. Tom born in 2. Howard born in'}, {'S1': '2', 'S2': '1', 'S3': '2', 'S4': '1', 'corr': ' 2', 'incorr': ' 1', 'text': 'William born in 2. Albert born in 1. Hunter born in 2. Larry born in 1. Anne born in'}, {'S1': '1', 'S2': '2', 'S3': '1', 'S4': '2', 'corr': ' 1', 'incorr': ' 2', 'text': 'Jo born in 1. Donald born in 2. Hunter born in 1. Scott born in 2. Jay born in'}, {'S1': '2', 'S2': '1', 'S3': '2', 'S4': '1', 'corr': ' 2', 'incorr': ' 1', 'text': 'Alex born in 2. Donald born in 1. Chelsea born in 2. Maria born in 1. Alan born in'}, {'S1': '1', 'S2': '2', 'S3': '1', 'S4': '2', 'corr': ' 1', 'incorr': ' 2', 'text': 'Brandon born in 1. Jeremy born in 2. Howard born in 1. Christopher born in 2. Madison born in'}, {'S1': '2', 'S2': '1', 'S3': '2', 'S4': '1', 'corr': ' 2', 'incorr': ' 1', 'text': 'Morgan born in 2. Rose born in 1. Ryan born in 2. Robert born in 1. Roger born in'}, {'S1': '1', 'S2': '2', 'S3': '1', 'S4': '2', 'corr': ' 1', 'incorr': ' 2', 'text': 'Andre born in 1. Terry born in 2. Gene born in 1. Gordon born in 2. John born in'}, {'S1': '2', 'S2': '1', 'S3': '2', 'S4': '1', 'corr': ' 2', 'incorr': ' 1', 'text': 'Andre born in 2. Lee born in 1. Alex born in 2. Steven born in 1. Lisa born in'}, {'S1': '1', 'S2': '2', 'S3': '1', 'S4': '2', 'corr': ' 1', 'incorr': ' 2', 'text': 'Steve born in 1. Stephen born in 2. Kevin born in 1. Taylor born in 2. David born in'}, {'S1': '2', 'S2': '1', 'S3': '2', 'S4': '1', 'corr': ' 2', 'incorr': ' 1', 'text': 'Connor born in 2. Donald born in 1. John born in 2. Madison born in 1. Danny born in'}, {'S1': '1', 'S2': '2', 'S3': '1', 'S4': '2', 'corr': ' 1', 'incorr': ' 2', 'text': 'Jamie born in 1. Allen born in 2. Chelsea born in 1. Jennifer born in 2. Maria born in'}, {'S1': '2', 'S2': '1', 'S3': '2', 'S4': '1', 'corr': ' 2', 'incorr': ' 1', 'text': 'Jacob born in 2. Craig born in 1. Luke born in 2. Tom born in 1. Keith born in'}, {'S1': '1', 'S2': '2', 'S3': '1', 'S4': '2', 'corr': ' 1', 'incorr': ' 2', 'text': 'Jack born in 1. Hunter born in 2. Sean born in 1. Chelsea born in 2. Thomas born in'}, {'S1': '2', 'S2': '1', 'S3': '2', 'S4': '1', 'corr': ' 2', 'incorr': ' 1', 'text': 'Paul born in 2. Anne born in 1. Rachel born in 2. Edward born in 1. Lee born in'}, {'S1': '1', 'S2': '2', 'S3': '1', 'S4': '2', 'corr': ' 1', 'incorr': ' 2', 'text': 'Andre born in 1. Elizabeth born in 2. Charles born in 1. Paul born in 2. Lisa born in'}, {'S1': '2', 'S2': '1', 'S3': '2', 'S4': '1', 'corr': ' 2', 'incorr': ' 1', 'text': 'John born in 2. Terry born in 1. Mary born in 2. Lee born in 1. Gary born in'}, {'S1': '1', 'S2': '2', 'S3': '1', 'S4': '2', 'corr': ' 1', 'incorr': ' 2', 'text': 'Joseph born in 1. Allen born in 2. Joshua born in 1. Connor born in 2. Carl born in'}, {'S1': '2', 'S2': '1', 'S3': '2', 'S4': '1', 'corr': ' 2', 'incorr': ' 1', 'text': 'Christian born in 2. Aaron born in 1. Rick born in 2. Laura born in 1. Anthony born in'}, {'S1': '1', 'S2': '2', 'S3': '1', 'S4': '2', 'corr': ' 1', 'incorr': ' 2', 'text': 'Scott born in 1. Victoria born in 2. Jacob born in 1. Donald born in 2. Allen born in'}, {'S1': '2', 'S2': '1', 'S3': '2', 'S4': '1', 'corr': ' 2', 'incorr': ' 1', 'text': 'Ann born in 2. Scott born in 1. Kelly born in 2. Mark born in 1. Anna born in'}, {'S1': '1', 'S2': '2', 'S3': '1', 'S4': '2', 'corr': ' 1', 'incorr': ' 2', 'text': 'Jessica born in 1. Taylor born in 2. Alan born in 1. Richard born in 2. Jennifer born in'}, {'S1': '2', 'S2': '1', 'S3': '2', 'S4': '1', 'corr': ' 2', 'incorr': ' 1', 'text': 'Anne born in 2. Jon born in 1. Lee born in 2. Steven born in 1. Terry born in'}, {'S1': '1', 'S2': '2', 'S3': '1', 'S4': '2', 'corr': ' 1', 'incorr': ' 2', 'text': 'David born in 1. Alex born in 2. Mike born in 1. Lee born in 2. Arthur born in'}, {'S1': '2', 'S2': '1', 'S3': '2', 'S4': '1', 'corr': ' 2', 'incorr': ' 1', 'text': 'George born in 2. Lisa born in 1. Gene born in 2. Greg born in 1. Marcus born in'}, {'S1': '1', 'S2': '2', 'S3': '1', 'S4': '2', 'corr': ' 1', 'incorr': ' 2', 'text': 'Adam born in 1. Danny born in 2. George born in 1. Madison born in 2. Roger born in'}, {'S1': '2', 'S2': '1', 'S3': '2', 'S4': '1', 'corr': ' 2', 'incorr': ' 1', 'text': 'Taylor born in 2. Greg born in 1. Connor born in 2. Hunter born in 1. Elizabeth born in'}, {'S1': '1', 'S2': '2', 'S3': '1', 'S4': '2', 'corr': ' 1', 'incorr': ' 2', 'text': 'Jose born in 1. Ian born in 2. Jennifer born in 1. Joshua born in 2. Larry born in'}, {'S1': '2', 'S2': '1', 'S3': '2', 'S4': '1', 'corr': ' 2', 'incorr': ' 1', 'text': 'Carl born in 2. Larry born in 1. Paul born in 2. Lisa born in 1. John born in'}, {'S1': '1', 'S2': '2', 'S3': '1', 'S4': '2', 'corr': ' 1', 'incorr': ' 2', 'text': 'Ryan born in 1. Anna born in 2. Roy born in 1. Craig born in 2. Keith born in'}, {'S1': '2', 'S2': '1', 'S3': '2', 'S4': '1', 'corr': ' 2', 'incorr': ' 1', 'text': 'Adam born in 2. Joshua born in 1. Kevin born in 2. Maria born in 1. Donald born in'}, {'S1': '1', 'S2': '2', 'S3': '1', 'S4': '2', 'corr': ' 1', 'incorr': ' 2', 'text': 'Anne born in 1. Matthew born in 2. Chelsea born in 1. Tyler born in 2. Jamie born in'}, {'S1': '2', 'S2': '1', 'S3': '2', 'S4': '1', 'corr': ' 2', 'incorr': ' 1', 'text': 'Lisa born in 2. Christian born in 1. Henry born in 2. Terry born in 1. Jon born in'}, {'S1': '1', 'S2': '2', 'S3': '1', 'S4': '2', 'corr': ' 1', 'incorr': ' 2', 'text': 'Gary born in 1. Marc born in 2. April born in 1. Robert born in 2. Paul born in'}, {'S1': '2', 'S2': '1', 'S3': '2', 'S4': '1', 'corr': ' 2', 'incorr': ' 1', 'text': 'Gary born in 2. Gene born in 1. Marcus born in 2. Rick born in 1. Roger born in'}, {'S1': '1', 'S2': '2', 'S3': '1', 'S4': '2', 'corr': ' 1', 'incorr': ' 2', 'text': 'Marcus born in 1. Rachel born in 2. Keith born in 1. Paul born in 2. Jo born in'}, {'S1': '2', 'S2': '1', 'S3': '2', 'S4': '1', 'corr': ' 2', 'incorr': ' 1', 'text': 'Chris born in 2. Maria born in 1. James born in 2. Andre born in 1. Madison born in'}, {'S1': '1', 'S2': '2', 'S3': '1', 'S4': '2', 'corr': ' 1', 'incorr': ' 2', 'text': 'Jacob born in 1. David born in 2. James born in 1. Larry born in 2. Scott born in'}, {'S1': '2', 'S2': '1', 'S3': '2', 'S4': '1', 'corr': ' 2', 'incorr': ' 1', 'text': 'Jon born in 2. Victoria born in 1. Jeremy born in 2. Gary born in 1. Steve born in'}, {'S1': '1', 'S2': '2', 'S3': '1', 'S4': '2', 'corr': ' 1', 'incorr': ' 2', 'text': 'Jim born in 1. David born in 2. Jennifer born in 1. Jack born in 2. Jo born in'}, {'S1': '2', 'S2': '1', 'S3': '2', 'S4': '1', 'corr': ' 2', 'incorr': ' 1', 'text': 'Gene born in 2. Jeff born in 1. Diamond born in 2. Kyle born in 1. Bruce born in'}, {'S1': '1', 'S2': '2', 'S3': '1', 'S4': '2', 'corr': ' 1', 'incorr': ' 2', 'text': 'Elizabeth born in 1. Bill born in 2. Jeff born in 1. Kim born in 2. Tyler born in'}, {'S1': '2', 'S2': '1', 'S3': '2', 'S4': '1', 'corr': ' 2', 'incorr': ' 1', 'text': 'Jennifer born in 2. Mary born in 1. Jim born in 2. Larry born in 1. Robert born in'}, {'S1': '1', 'S2': '2', 'S3': '1', 'S4': '2', 'corr': ' 1', 'incorr': ' 2', 'text': 'Scott born in 1. Luke born in 2. Henry born in 1. Jose born in 2. Thomas born in'}, {'S1': '2', 'S2': '1', 'S3': '2', 'S4': '1', 'corr': ' 2', 'incorr': ' 1', 'text': 'Joshua born in 2. Andre born in 1. Tom born in 2. Kim born in 1. Jay born in'}, {'S1': '1', 'S2': '2', 'S3': '1', 'S4': '2', 'corr': ' 1', 'incorr': ' 2', 'text': 'Jacob born in 1. Marcus born in 2. Tyler born in 1. Allen born in 2. Eric born in'}, {'S1': '2', 'S2': '1', 'S3': '2', 'S4': '1', 'corr': ' 2', 'incorr': ' 1', 'text': 'Paul born in 2. Aaron born in 1. Brandon born in 2. Hunter born in 1. Lee born in'}, {'S1': '1', 'S2': '2', 'S3': '1', 'S4': '2', 'corr': ' 1', 'incorr': ' 2', 'text': 'Jay born in 1. Chelsea born in 2. Rick born in 1. April born in 2. Bill born in'}, {'S1': '2', 'S2': '1', 'S3': '2', 'S4': '1', 'corr': ' 2', 'incorr': ' 1', 'text': 'Mike born in 2. Craig born in 1. Jessica born in 2. Gene born in 1. Lee born in'}, {'S1': '1', 'S2': '2', 'S3': '1', 'S4': '2', 'corr': ' 1', 'incorr': ' 2', 'text': 'Albert born in 1. Craig born in 2. Tyler born in 1. Charles born in 2. Joseph born in'}, {'S1': '2', 'S2': '1', 'S3': '2', 'S4': '1', 'corr': ' 2', 'incorr': ' 1', 'text': 'Robert born in 2. Kyle born in 1. Madison born in 2. Stephen born in 1. Andre born in'}, {'S1': '1', 'S2': '2', 'S3': '1', 'S4': '2', 'corr': ' 1', 'incorr': ' 2', 'text': 'Larry born in 1. Jack born in 2. Taylor born in 1. Jeremy born in 2. Jim born in'}, {'S1': '2', 'S2': '1', 'S3': '2', 'S4': '1', 'corr': ' 2', 'incorr': ' 1', 'text': 'Jennifer born in 2. Keith born in 1. Danny born in 2. Jose born in 1. Scott born in'}, {'S1': '1', 'S2': '2', 'S3': '1', 'S4': '2', 'corr': ' 1', 'incorr': ' 2', 'text': 'Terry born in 1. Hunter born in 2. Jack born in 1. Stephen born in 2. Maria born in'}, {'S1': '2', 'S2': '1', 'S3': '2', 'S4': '1', 'corr': ' 2', 'incorr': ' 1', 'text': 'Joseph born in 2. Keith born in 1. Ann born in 2. Jacob born in 1. Eric born in'}, {'S1': '1', 'S2': '2', 'S3': '1', 'S4': '2', 'corr': ' 1', 'incorr': ' 2', 'text': 'Laura born in 1. Mike born in 2. Richard born in 1. Victoria born in 2. Larry born in'}, {'S1': '2', 'S2': '1', 'S3': '2', 'S4': '1', 'corr': ' 2', 'incorr': ' 1', 'text': 'Arthur born in 2. Kim born in 1. James born in 2. Madison born in 1. Jacob born in'}, {'S1': '1', 'S2': '2', 'S3': '1', 'S4': '2', 'corr': ' 1', 'incorr': ' 2', 'text': 'Connor born in 1. Richard born in 2. Roy born in 1. Jo born in 2. Greg born in'}, {'S1': '2', 'S2': '1', 'S3': '2', 'S4': '1', 'corr': ' 2', 'incorr': ' 1', 'text': 'Gary born in 2. Scott born in 1. Anna born in 2. Luke born in 1. Bruce born in'}, {'S1': '1', 'S2': '2', 'S3': '1', 'S4': '2', 'corr': ' 1', 'incorr': ' 2', 'text': 'Justin born in 1. Jon born in 2. Craig born in 1. Edward born in 2. Hunter born in'}, {'S1': '2', 'S2': '1', 'S3': '2', 'S4': '1', 'corr': ' 2', 'incorr': ' 1', 'text': 'Scott born in 2. Maria born in 1. Peter born in 2. Ryan born in 1. Keith born in'}, {'S1': '1', 'S2': '2', 'S3': '1', 'S4': '2', 'corr': ' 1', 'incorr': ' 2', 'text': 'Allen born in 1. Kelly born in 2. Edward born in 1. Gene born in 2. Taylor born in'}, {'S1': '2', 'S2': '1', 'S3': '2', 'S4': '1', 'corr': ' 2', 'incorr': ' 1', 'text': 'Kelly born in 2. Craig born in 1. Ryan born in 2. Peter born in 1. Luke born in'}, {'S1': '1', 'S2': '2', 'S3': '1', 'S4': '2', 'corr': ' 1', 'incorr': ' 2', 'text': 'Anna born in 1. Adam born in 2. Gary born in 1. Diamond born in 2. Victoria born in'}, {'S1': '2', 'S2': '1', 'S3': '2', 'S4': '1', 'corr': ' 2', 'incorr': ' 1', 'text': 'Jon born in 2. Carl born in 1. Roy born in 2. Anna born in 1. Marc born in'}, {'S1': '1', 'S2': '2', 'S3': '1', 'S4': '2', 'corr': ' 1', 'incorr': ' 2', 'text': 'Anthony born in 1. Jim born in 2. April born in 1. David born in 2. Victoria born in'}, {'S1': '2', 'S2': '1', 'S3': '2', 'S4': '1', 'corr': ' 2', 'incorr': ' 1', 'text': 'Kelly born in 2. Jim born in 1. Bill born in 2. Jay born in 1. John born in'}, {'S1': '1', 'S2': '2', 'S3': '1', 'S4': '2', 'corr': ' 1', 'incorr': ' 2', 'text': 'Howard born in 1. Michael born in 2. Jessica born in 1. Christian born in 2. Rachel born in'}, {'S1': '2', 'S2': '1', 'S3': '2', 'S4': '1', 'corr': ' 2', 'incorr': ' 1', 'text': 'Allen born in 2. Jo born in 1. George born in 2. Kevin born in 1. Joseph born in'}, {'S1': '1', 'S2': '2', 'S3': '1', 'S4': '2', 'corr': ' 1', 'incorr': ' 2', 'text': 'Eric born in 1. Lee born in 2. Rose born in 1. Ann born in 2. Morgan born in'}, {'S1': '2', 'S2': '1', 'S3': '2', 'S4': '1', 'corr': ' 2', 'incorr': ' 1', 'text': 'Michael born in 2. Kim born in 1. Adam born in 2. Mike born in 1. Eric born in'}, {'S1': '1', 'S2': '2', 'S3': '1', 'S4': '2', 'corr': ' 1', 'incorr': ' 2', 'text': 'Kelly born in 1. William born in 2. Victoria born in 1. Aaron born in 2. Bruce born in'}, {'S1': '2', 'S2': '1', 'S3': '2', 'S4': '1', 'corr': ' 2', 'incorr': ' 1', 'text': 'Peter born in 2. Richard born in 1. George born in 2. Ann born in 1. Christian born in'}, {'S1': '1', 'S2': '2', 'S3': '1', 'S4': '2', 'corr': ' 1', 'incorr': ' 2', 'text': 'James born in 1. Morgan born in 2. Tom born in 1. Michael born in 2. Jessica born in'}, {'S1': '2', 'S2': '1', 'S3': '2', 'S4': '1', 'corr': ' 2', 'incorr': ' 1', 'text': 'Roy born in 2. Lee born in 1. Greg born in 2. Christian born in 1. Chelsea born in'}, {'S1': '1', 'S2': '2', 'S3': '1', 'S4': '2', 'corr': ' 1', 'incorr': ' 2', 'text': 'Gary born in 1. Kyle born in 2. Stephen born in 1. Maria born in 2. Alan born in'}, {'S1': '2', 'S2': '1', 'S3': '2', 'S4': '1', 'corr': ' 2', 'incorr': ' 1', 'text': 'Madison born in 2. Kevin born in 1. Luke born in 2. Donald born in 1. Albert born in'}, {'S1': '1', 'S2': '2', 'S3': '1', 'S4': '2', 'corr': ' 1', 'incorr': ' 2', 'text': 'Christian born in 1. Christopher born in 2. Victoria born in 1. Donald born in 2. Steven born in'}, {'S1': '2', 'S2': '1', 'S3': '2', 'S4': '1', 'corr': ' 2', 'incorr': ' 1', 'text': 'Jose born in 2. Christopher born in 1. Paul born in 2. Bruce born in 1. Charles born in'}, {'S1': '1', 'S2': '2', 'S3': '1', 'S4': '2', 'corr': ' 1', 'incorr': ' 2', 'text': 'Greg born in 1. Steven born in 2. Thomas born in 1. Eric born in 2. Peter born in'}, {'S1': '2', 'S2': '1', 'S3': '2', 'S4': '1', 'corr': ' 2', 'incorr': ' 1', 'text': 'Connor born in 2. Jimmy born in 1. Jeff born in 2. Allen born in 1. Chelsea born in'}, {'S1': '1', 'S2': '2', 'S3': '1', 'S4': '2', 'corr': ' 1', 'incorr': ' 2', 'text': 'Matthew born in 1. Maria born in 2. Morgan born in 1. Larry born in 2. Connor born in'}, {'S1': '2', 'S2': '1', 'S3': '2', 'S4': '1', 'corr': ' 2', 'incorr': ' 1', 'text': 'Mike born in 2. Lisa born in 1. Matthew born in 2. James born in 1. Thomas born in'}, {'S1': '1', 'S2': '2', 'S3': '1', 'S4': '2', 'corr': ' 1', 'incorr': ' 2', 'text': 'Matthew born in 1. Jimmy born in 2. Arthur born in 1. Jeff born in 2. Kyle born in'}, {'S1': '2', 'S2': '1', 'S3': '2', 'S4': '1', 'corr': ' 2', 'incorr': ' 1', 'text': 'Alex born in 2. Anthony born in 1. Jamie born in 2. William born in 1. Christopher born in'}, {'S1': '1', 'S2': '2', 'S3': '1', 'S4': '2', 'corr': ' 1', 'incorr': ' 2', 'text': 'Mary born in 1. Jessica born in 2. Joshua born in 1. Mike born in 2. Alan born in'}, {'S1': '2', 'S2': '1', 'S3': '2', 'S4': '1', 'corr': ' 2', 'incorr': ' 1', 'text': 'Gary born in 2. Bill born in 1. Ann born in 2. Jeff born in 1. Gordon born in'}, {'S1': '1', 'S2': '2', 'S3': '1', 'S4': '2', 'corr': ' 1', 'incorr': ' 2', 'text': 'Donald born in 1. Laura born in 2. Carl born in 1. Jessica born in 2. Paul born in'}, {'S1': '2', 'S2': '1', 'S3': '2', 'S4': '1', 'corr': ' 2', 'incorr': ' 1', 'text': 'Alan born in 2. James born in 1. Andre born in 2. Joseph born in 1. Christian born in'}, {'S1': '1', 'S2': '2', 'S3': '1', 'S4': '2', 'corr': ' 1', 'incorr': ' 2', 'text': 'Jim born in 1. Rick born in 2. Stephen born in 1. Jimmy born in 2. Terry born in'}, {'S1': '2', 'S2': '1', 'S3': '2', 'S4': '1', 'corr': ' 2', 'incorr': ' 1', 'text': 'Adam born in 2. Steve born in 1. Laura born in 2. Jeremy born in 1. William born in'}, {'S1': '1', 'S2': '2', 'S3': '1', 'S4': '2', 'corr': ' 1', 'incorr': ' 2', 'text': 'Arthur born in 1. Henry born in 2. Ian born in 1. Connor born in 2. Danny born in'}, {'S1': '2', 'S2': '1', 'S3': '2', 'S4': '1', 'corr': ' 2', 'incorr': ' 1', 'text': 'Paul born in 2. Jo born in 1. Justin born in 2. April born in 1. Anna born in'}, {'S1': '1', 'S2': '2', 'S3': '1', 'S4': '2', 'corr': ' 1', 'incorr': ' 2', 'text': 'Donald born in 1. Gene born in 2. Carl born in 1. Charles born in 2. Jamie born in'}, {'S1': '2', 'S2': '1', 'S3': '2', 'S4': '1', 'corr': ' 2', 'incorr': ' 1', 'text': 'Kelly born in 2. Madison born in 1. Gordon born in 2. Morgan born in 1. Charles born in'}, {'S1': '1', 'S2': '2', 'S3': '1', 'S4': '2', 'corr': ' 1', 'incorr': ' 2', 'text': 'James born in 1. Roger born in 2. Scott born in 1. Alan born in 2. Jamie born in'}, {'S1': '2', 'S2': '1', 'S3': '2', 'S4': '1', 'corr': ' 2', 'incorr': ' 1', 'text': 'Eric born in 2. Jay born in 1. Albert born in 2. Rachel born in 1. Howard born in'}, {'S1': '1', 'S2': '2', 'S3': '1', 'S4': '2', 'corr': ' 1', 'incorr': ' 2', 'text': 'Sean born in 1. Mary born in 2. Brandon born in 1. Keith born in 2. Joshua born in'}, {'S1': '2', 'S2': '1', 'S3': '2', 'S4': '1', 'corr': ' 2', 'incorr': ' 1', 'text': 'William born in 2. Scott born in 1. Henry born in 2. George born in 1. Jennifer born in'}, {'S1': '1', 'S2': '2', 'S3': '1', 'S4': '2', 'corr': ' 1', 'incorr': ' 2', 'text': 'Taylor born in 1. Jacob born in 2. Peter born in 1. Kevin born in 2. Jeremy born in'}, {'S1': '2', 'S2': '1', 'S3': '2', 'S4': '1', 'corr': ' 2', 'incorr': ' 1', 'text': 'Hunter born in 2. Roy born in 1. Eric born in 2. Scott born in 1. Jon born in'}, {'S1': '1', 'S2': '2', 'S3': '1', 'S4': '2', 'corr': ' 1', 'incorr': ' 2', 'text': 'Joshua born in 1. Adam born in 2. Justin born in 1. Keith born in 2. Mike born in'}, {'S1': '2', 'S2': '1', 'S3': '2', 'S4': '1', 'corr': ' 2', 'incorr': ' 1', 'text': 'James born in 2. Jo born in 1. Jimmy born in 2. Craig born in 1. Chelsea born in'}, {'S1': '1', 'S2': '2', 'S3': '1', 'S4': '2', 'corr': ' 1', 'incorr': ' 2', 'text': 'Christopher born in 1. Rick born in 2. Ann born in 1. Victoria born in 2. Anthony born in'}, {'S1': '2', 'S2': '1', 'S3': '2', 'S4': '1', 'corr': ' 2', 'incorr': ' 1', 'text': 'Roger born in 2. Eric born in 1. Larry born in 2. Marcus born in 1. Bill born in'}, {'S1': '1', 'S2': '2', 'S3': '1', 'S4': '2', 'corr': ' 1', 'incorr': ' 2', 'text': 'Elizabeth born in 1. Michael born in 2. Rose born in 1. Anna born in 2. Jamie born in'}, {'S1': '2', 'S2': '1', 'S3': '2', 'S4': '1', 'corr': ' 2', 'incorr': ' 1', 'text': 'Donald born in 2. Richard born in 1. Roger born in 2. Lee born in 1. Sean born in'}, {'S1': '1', 'S2': '2', 'S3': '1', 'S4': '2', 'corr': ' 1', 'incorr': ' 2', 'text': 'Jo born in 1. Ryan born in 2. Elizabeth born in 1. Joshua born in 2. Tyler born in'}, {'S1': '2', 'S2': '1', 'S3': '2', 'S4': '1', 'corr': ' 2', 'incorr': ' 1', 'text': 'Tyler born in 2. Lisa born in 1. Jimmy born in 2. Ann born in 1. Justin born in'}, {'S1': '1', 'S2': '2', 'S3': '1', 'S4': '2', 'corr': ' 1', 'incorr': ' 2', 'text': 'Howard born in 1. Brandon born in 2. Jon born in 1. Jennifer born in 2. Diamond born in'}, {'S1': '2', 'S2': '1', 'S3': '2', 'S4': '1', 'corr': ' 2', 'incorr': ' 1', 'text': 'Rick born in 2. Allen born in 1. Luke born in 2. Michael born in 1. Steven born in'}, {'S1': '1', 'S2': '2', 'S3': '1', 'S4': '2', 'corr': ' 1', 'incorr': ' 2', 'text': 'Hunter born in 1. Bill born in 2. Jim born in 1. Diamond born in 2. Rachel born in'}, {'S1': '2', 'S2': '1', 'S3': '2', 'S4': '1', 'corr': ' 2', 'incorr': ' 1', 'text': 'Kim born in 2. Terry born in 1. Connor born in 2. Brandon born in 1. Andre born in'}, {'S1': '1', 'S2': '2', 'S3': '1', 'S4': '2', 'corr': ' 1', 'incorr': ' 2', 'text': 'Jennifer born in 1. Keith born in 2. Bill born in 1. Adam born in 2. Peter born in'}, {'S1': '2', 'S2': '1', 'S3': '2', 'S4': '1', 'corr': ' 2', 'incorr': ' 1', 'text': 'Kevin born in 2. Bruce born in 1. William born in 2. Lee born in 1. Joshua born in'}, {'S1': '1', 'S2': '2', 'S3': '1', 'S4': '2', 'corr': ' 1', 'incorr': ' 2', 'text': 'Laura born in 1. Matthew born in 2. Joshua born in 1. Anna born in 2. Maria born in'}, {'S1': '2', 'S2': '1', 'S3': '2', 'S4': '1', 'corr': ' 2', 'incorr': ' 1', 'text': 'Sean born in 2. Anthony born in 1. Diamond born in 2. Kevin born in 1. Roy born in'}, {'S1': '1', 'S2': '2', 'S3': '1', 'S4': '2', 'corr': ' 1', 'incorr': ' 2', 'text': 'Albert born in 1. Sean born in 2. Christian born in 1. Bruce born in 2. Steve born in'}, {'S1': '2', 'S2': '1', 'S3': '2', 'S4': '1', 'corr': ' 2', 'incorr': ' 1', 'text': 'Michael born in 2. Roger born in 1. Jack born in 2. Mike born in 1. John born in'}, {'S1': '1', 'S2': '2', 'S3': '1', 'S4': '2', 'corr': ' 1', 'incorr': ' 2', 'text': 'Arthur born in 1. Jessica born in 2. Bruce born in 1. Chris born in 2. Brandon born in'}, {'S1': '2', 'S2': '1', 'S3': '2', 'S4': '1', 'corr': ' 2', 'incorr': ' 1', 'text': 'Terry born in 2. Rachel born in 1. Jacob born in 2. Richard born in 1. Jennifer born in'}, {'S1': '1', 'S2': '2', 'S3': '1', 'S4': '2', 'corr': ' 1', 'incorr': ' 2', 'text': 'Jamie born in 1. Victoria born in 2. Andre born in 1. Adam born in 2. Kim born in'}, {'S1': '2', 'S2': '1', 'S3': '2', 'S4': '1', 'corr': ' 2', 'incorr': ' 1', 'text': 'Marcus born in 2. April born in 1. Ryan born in 2. Jeremy born in 1. Jim born in'}, {'S1': '1', 'S2': '2', 'S3': '1', 'S4': '2', 'corr': ' 1', 'incorr': ' 2', 'text': 'Steven born in 1. Morgan born in 2. Taylor born in 1. Aaron born in 2. Jay born in'}, {'S1': '2', 'S2': '1', 'S3': '2', 'S4': '1', 'corr': ' 2', 'incorr': ' 1', 'text': 'Albert born in 2. Sean born in 1. Roger born in 2. Hunter born in 1. Richard born in'}, {'S1': '1', 'S2': '2', 'S3': '1', 'S4': '2', 'corr': ' 1', 'incorr': ' 2', 'text': 'David born in 1. Sean born in 2. Tyler born in 1. Gordon born in 2. Howard born in'}, {'S1': '2', 'S2': '1', 'S3': '2', 'S4': '1', 'corr': ' 2', 'incorr': ' 1', 'text': 'Sean born in 2. Steven born in 1. William born in 2. Jack born in 1. John born in'}, {'S1': '1', 'S2': '2', 'S3': '1', 'S4': '2', 'corr': ' 1', 'incorr': ' 2', 'text': 'Matthew born in 1. Lee born in 2. Anna born in 1. Bill born in 2. Marcus born in'}, {'S1': '2', 'S2': '1', 'S3': '2', 'S4': '1', 'corr': ' 2', 'incorr': ' 1', 'text': 'Paul born in 2. Chelsea born in 1. Andre born in 2. Rick born in 1. Mark born in'}, {'S1': '1', 'S2': '2', 'S3': '1', 'S4': '2', 'corr': ' 1', 'incorr': ' 2', 'text': 'Michael born in 1. Aaron born in 2. April born in 1. Lee born in 2. Charles born in'}, {'S1': '2', 'S2': '1', 'S3': '2', 'S4': '1', 'corr': ' 2', 'incorr': ' 1', 'text': 'Anne born in 2. Steve born in 1. Kim born in 2. Danny born in 1. Jimmy born in'}, {'S1': '1', 'S2': '2', 'S3': '1', 'S4': '2', 'corr': ' 1', 'incorr': ' 2', 'text': 'Justin born in 1. Alex born in 2. Christian born in 1. Jamie born in 2. Aaron born in'}, {'S1': '2', 'S2': '1', 'S3': '2', 'S4': '1', 'corr': ' 2', 'incorr': ' 1', 'text': 'Victoria born in 2. Jo born in 1. Stephen born in 2. Donald born in 1. Kelly born in'}, {'S1': '1', 'S2': '2', 'S3': '1', 'S4': '2', 'corr': ' 1', 'incorr': ' 2', 'text': 'Ryan born in 1. Brandon born in 2. Aaron born in 1. Paul born in 2. Marc born in'}, {'S1': '2', 'S2': '1', 'S3': '2', 'S4': '1', 'corr': ' 2', 'incorr': ' 1', 'text': 'Brandon born in 2. Thomas born in 1. Lisa born in 2. Kevin born in 1. Gene born in'}, {'S1': '1', 'S2': '2', 'S3': '1', 'S4': '2', 'corr': ' 1', 'incorr': ' 2', 'text': 'Jennifer born in 1. John born in 2. Connor born in 1. Jacob born in 2. Sean born in'}, {'S1': '2', 'S2': '1', 'S3': '2', 'S4': '1', 'corr': ' 2', 'incorr': ' 1', 'text': 'Jimmy born in 2. Albert born in 1. Kelly born in 2. George born in 1. Chris born in'}, {'S1': '1', 'S2': '2', 'S3': '1', 'S4': '2', 'corr': ' 1', 'incorr': ' 2', 'text': 'Donald born in 1. Terry born in 2. Bill born in 1. Chris born in 2. Ann born in'}, {'S1': '2', 'S2': '1', 'S3': '2', 'S4': '1', 'corr': ' 2', 'incorr': ' 1', 'text': 'Adam born in 2. Allen born in 1. Craig born in 2. Morgan born in 1. Gene born in'}, {'S1': '1', 'S2': '2', 'S3': '1', 'S4': '2', 'corr': ' 1', 'incorr': ' 2', 'text': 'Bill born in 1. Jim born in 2. Roger born in 1. Greg born in 2. Danny born in'}, {'S1': '2', 'S2': '1', 'S3': '2', 'S4': '1', 'corr': ' 2', 'incorr': ' 1', 'text': 'Brandon born in 2. Jeff born in 1. Mark born in 2. Michael born in 1. George born in'}, {'S1': '1', 'S2': '2', 'S3': '1', 'S4': '2', 'corr': ' 1', 'incorr': ' 2', 'text': 'Sean born in 1. Roger born in 2. William born in 1. Bill born in 2. Lisa born in'}, {'S1': '2', 'S2': '1', 'S3': '2', 'S4': '1', 'corr': ' 2', 'incorr': ' 1', 'text': 'Jeremy born in 2. Morgan born in 1. Sean born in 2. Luke born in 1. Lisa born in'}, {'S1': '1', 'S2': '2', 'S3': '1', 'S4': '2', 'corr': ' 1', 'incorr': ' 2', 'text': 'Ian born in 1. Terry born in 2. James born in 1. Peter born in 2. Gene born in'}, {'S1': '2', 'S2': '1', 'S3': '2', 'S4': '1', 'corr': ' 2', 'incorr': ' 1', 'text': 'Edward born in 2. Andre born in 1. Paul born in 2. Eric born in 1. Terry born in'}, {'S1': '1', 'S2': '2', 'S3': '1', 'S4': '2', 'corr': ' 1', 'incorr': ' 2', 'text': 'Kim born in 1. Jessica born in 2. Robert born in 1. Gene born in 2. Taylor born in'}, {'S1': '2', 'S2': '1', 'S3': '2', 'S4': '1', 'corr': ' 2', 'incorr': ' 1', 'text': 'Rose born in 2. Joseph born in 1. George born in 2. Mary born in 1. John born in'}, {'S1': '1', 'S2': '2', 'S3': '1', 'S4': '2', 'corr': ' 1', 'incorr': ' 2', 'text': 'Kelly born in 1. Jon born in 2. Andre born in 1. Steve born in 2. April born in'}, {'S1': '2', 'S2': '1', 'S3': '2', 'S4': '1', 'corr': ' 2', 'incorr': ' 1', 'text': 'Gary born in 2. George born in 1. Kim born in 2. William born in 1. Richard born in'}, {'S1': '1', 'S2': '2', 'S3': '1', 'S4': '2', 'corr': ' 1', 'incorr': ' 2', 'text': 'Donald born in 1. Greg born in 2. John born in 1. Rachel born in 2. Marcus born in'}, {'S1': '2', 'S2': '1', 'S3': '2', 'S4': '1', 'corr': ' 2', 'incorr': ' 1', 'text': 'Steven born in 2. Luke born in 1. Mark born in 2. Chelsea born in 1. Donald born in'}, {'S1': '1', 'S2': '2', 'S3': '1', 'S4': '2', 'corr': ' 1', 'incorr': ' 2', 'text': 'Richard born in 1. Lisa born in 2. James born in 1. Jack born in 2. Paul born in'}, {'S1': '2', 'S2': '1', 'S3': '2', 'S4': '1', 'corr': ' 2', 'incorr': ' 1', 'text': 'Adam born in 2. Mike born in 1. Jamie born in 2. Henry born in 1. Christian born in'}, {'S1': '1', 'S2': '2', 'S3': '1', 'S4': '2', 'corr': ' 1', 'incorr': ' 2', 'text': 'Jose born in 1. Victoria born in 2. Joseph born in 1. Kyle born in 2. Albert born in'}, {'S1': '2', 'S2': '1', 'S3': '2', 'S4': '1', 'corr': ' 2', 'incorr': ' 1', 'text': 'Rose born in 2. Paul born in 1. Jessica born in 2. Aaron born in 1. Scott born in'}, {'S1': '1', 'S2': '2', 'S3': '1', 'S4': '2', 'corr': ' 1', 'incorr': ' 2', 'text': 'Jay born in 1. Mike born in 2. Danny born in 1. Gary born in 2. Edward born in'}, {'S1': '2', 'S2': '1', 'S3': '2', 'S4': '1', 'corr': ' 2', 'incorr': ' 1', 'text': 'Hunter born in 2. Alex born in 1. Adam born in 2. Carl born in 1. Danny born in'}, {'S1': '1', 'S2': '2', 'S3': '1', 'S4': '2', 'corr': ' 1', 'incorr': ' 2', 'text': 'Stephen born in 1. Howard born in 2. Edward born in 1. Steven born in 2. John born in'}, {'S1': '2', 'S2': '1', 'S3': '2', 'S4': '1', 'corr': ' 2', 'incorr': ' 1', 'text': 'Scott born in 2. Mike born in 1. Rose born in 2. Edward born in 1. Adam born in'}, {'S1': '1', 'S2': '2', 'S3': '1', 'S4': '2', 'corr': ' 1', 'incorr': ' 2', 'text': 'Mark born in 1. James born in 2. Jack born in 1. Justin born in 2. Tom born in'}, {'S1': '2', 'S2': '1', 'S3': '2', 'S4': '1', 'corr': ' 2', 'incorr': ' 1', 'text': 'David born in 2. Ryan born in 1. Gary born in 2. Jeremy born in 1. Jack born in'}, {'S1': '1', 'S2': '2', 'S3': '1', 'S4': '2', 'corr': ' 1', 'incorr': ' 2', 'text': 'Jack born in 1. Aaron born in 2. David born in 1. Arthur born in 2. Rachel born in'}, {'S1': '2', 'S2': '1', 'S3': '2', 'S4': '1', 'corr': ' 2', 'incorr': ' 1', 'text': 'Luke born in 2. Stephen born in 1. Marcus born in 2. Peter born in 1. Ryan born in'}, {'S1': '1', 'S2': '2', 'S3': '1', 'S4': '2', 'corr': ' 1', 'incorr': ' 2', 'text': 'Gary born in 1. Steven born in 2. Rachel born in 1. Larry born in 2. Jennifer born in'}, {'S1': '2', 'S2': '1', 'S3': '2', 'S4': '1', 'corr': ' 2', 'incorr': ' 1', 'text': 'Morgan born in 2. Taylor born in 1. Robert born in 2. Tom born in 1. Rachel born in'}, {'S1': '1', 'S2': '2', 'S3': '1', 'S4': '2', 'corr': ' 1', 'incorr': ' 2', 'text': 'Kyle born in 1. Paul born in 2. Brandon born in 1. Madison born in 2. Gene born in'}, {'S1': '2', 'S2': '1', 'S3': '2', 'S4': '1', 'corr': ' 2', 'incorr': ' 1', 'text': 'Jeremy born in 2. Scott born in 1. Larry born in 2. Gene born in 1. Jack born in'}, {'S1': '1', 'S2': '2', 'S3': '1', 'S4': '2', 'corr': ' 1', 'incorr': ' 2', 'text': 'Laura born in 1. Matthew born in 2. Jimmy born in 1. Andre born in 2. Jacob born in'}, {'S1': '2', 'S2': '1', 'S3': '2', 'S4': '1', 'corr': ' 2', 'incorr': ' 1', 'text': 'Rick born in 2. Jessica born in 1. Terry born in 2. Matthew born in 1. Gordon born in'}, {'S1': '1', 'S2': '2', 'S3': '1', 'S4': '2', 'corr': ' 1', 'incorr': ' 2', 'text': 'Aaron born in 1. Chris born in 2. Elizabeth born in 1. April born in 2. Gene born in'}, {'S1': '2', 'S2': '1', 'S3': '2', 'S4': '1', 'corr': ' 2', 'incorr': ' 1', 'text': 'Jacob born in 2. Kim born in 1. Jim born in 2. Danny born in 1. Terry born in'}, {'S1': '1', 'S2': '2', 'S3': '1', 'S4': '2', 'corr': ' 1', 'incorr': ' 2', 'text': 'Jo born in 1. Jamie born in 2. Terry born in 1. Carl born in 2. Thomas born in'}, {'S1': '2', 'S2': '1', 'S3': '2', 'S4': '1', 'corr': ' 2', 'incorr': ' 1', 'text': 'Chris born in 2. Greg born in 1. William born in 2. Jack born in 1. Gene born in'}, {'S1': '1', 'S2': '2', 'S3': '1', 'S4': '2', 'corr': ' 1', 'incorr': ' 2', 'text': 'Joshua born in 1. Peter born in 2. Steven born in 1. Andre born in 2. Jon born in'}, {'S1': '2', 'S2': '1', 'S3': '2', 'S4': '1', 'corr': ' 2', 'incorr': ' 1', 'text': 'Jimmy born in 2. Gary born in 1. Gordon born in 2. Ann born in 1. Aaron born in'}, {'S1': '1', 'S2': '2', 'S3': '1', 'S4': '2', 'corr': ' 1', 'incorr': ' 2', 'text': 'Steve born in 1. Jack born in 2. Jennifer born in 1. Charles born in 2. Richard born in'}, {'S1': '2', 'S2': '1', 'S3': '2', 'S4': '1', 'corr': ' 2', 'incorr': ' 1', 'text': 'Aaron born in 2. Jay born in 1. John born in 2. Mike born in 1. David born in'}, {'S1': '1', 'S2': '2', 'S3': '1', 'S4': '2', 'corr': ' 1', 'incorr': ' 2', 'text': 'Alan born in 1. Michael born in 2. Connor born in 1. Maria born in 2. Robert born in'}, {'S1': '2', 'S2': '1', 'S3': '2', 'S4': '1', 'corr': ' 2', 'incorr': ' 1', 'text': 'Steven born in 2. Ann born in 1. Anna born in 2. Rick born in 1. Ryan born in'}, {'S1': '1', 'S2': '2', 'S3': '1', 'S4': '2', 'corr': ' 1', 'incorr': ' 2', 'text': 'Roger born in 1. Morgan born in 2. Danny born in 1. Anne born in 2. Jessica born in'}, {'S1': '2', 'S2': '1', 'S3': '2', 'S4': '1', 'corr': ' 2', 'incorr': ' 1', 'text': 'Jacob born in 2. Anthony born in 1. Stephen born in 2. Terry born in 1. Gordon born in'}, {'S1': '1', 'S2': '2', 'S3': '1', 'S4': '2', 'corr': ' 1', 'incorr': ' 2', 'text': 'Ann born in 1. Jeff born in 2. Larry born in 1. Ian born in 2. Lee born in'}, {'S1': '2', 'S2': '1', 'S3': '2', 'S4': '1', 'corr': ' 2', 'incorr': ' 1', 'text': 'Ian born in 2. Paul born in 1. Terry born in 2. Howard born in 1. Steve born in'}, {'S1': '1', 'S2': '2', 'S3': '1', 'S4': '2', 'corr': ' 1', 'incorr': ' 2', 'text': 'Luke born in 1. Bruce born in 2. Jon born in 1. Arthur born in 2. Mike born in'}, {'S1': '2', 'S2': '1', 'S3': '2', 'S4': '1', 'corr': ' 2', 'incorr': ' 1', 'text': 'Brandon born in 2. Andre born in 1. Alan born in 2. Rachel born in 1. Kelly born in'}, {'S1': '1', 'S2': '2', 'S3': '1', 'S4': '2', 'corr': ' 1', 'incorr': ' 2', 'text': 'Steve born in 1. Marc born in 2. Anthony born in 1. Lisa born in 2. Roger born in'}, {'S1': '2', 'S2': '1', 'S3': '2', 'S4': '1', 'corr': ' 2', 'incorr': ' 1', 'text': 'Thomas born in 2. Christian born in 1. Mary born in 2. Jo born in 1. Henry born in'}, {'S1': '1', 'S2': '2', 'S3': '1', 'S4': '2', 'corr': ' 1', 'incorr': ' 2', 'text': 'Kyle born in 1. Jo born in 2. Keith born in 1. Craig born in 2. Gary born in'}, {'S1': '2', 'S2': '1', 'S3': '2', 'S4': '1', 'corr': ' 2', 'incorr': ' 1', 'text': 'Steven born in 2. Christian born in 1. Larry born in 2. Roy born in 1. James born in'}, {'S1': '1', 'S2': '2', 'S3': '1', 'S4': '2', 'corr': ' 1', 'incorr': ' 2', 'text': 'Jim born in 1. Laura born in 2. Jeff born in 1. Steven born in 2. Joshua born in'}, {'S1': '2', 'S2': '1', 'S3': '2', 'S4': '1', 'corr': ' 2', 'incorr': ' 1', 'text': 'Steve born in 2. Steven born in 1. Adam born in 2. Jeff born in 1. Connor born in'}, {'S1': '1', 'S2': '2', 'S3': '1', 'S4': '2', 'corr': ' 1', 'incorr': ' 2', 'text': 'Mary born in 1. Henry born in 2. Marc born in 1. Jim born in 2. Jay born in'}, {'S1': '2', 'S2': '1', 'S3': '2', 'S4': '1', 'corr': ' 2', 'incorr': ' 1', 'text': 'Luke born in 2. Roger born in 1. Christian born in 2. Roy born in 1. Carl born in'}, {'S1': '1', 'S2': '2', 'S3': '1', 'S4': '2', 'corr': ' 1', 'incorr': ' 2', 'text': 'Steven born in 1. Keith born in 2. Maria born in 1. Craig born in 2. Jamie born in'}, {'S1': '2', 'S2': '1', 'S3': '2', 'S4': '1', 'corr': ' 2', 'incorr': ' 1', 'text': 'Elizabeth born in 2. Andre born in 1. Gary born in 2. Eric born in 1. Kevin born in'}, {'S1': '1', 'S2': '2', 'S3': '1', 'S4': '2', 'corr': ' 1', 'incorr': ' 2', 'text': 'Mark born in 1. Mike born in 2. Jamie born in 1. Scott born in 2. David born in'}, {'S1': '2', 'S2': '1', 'S3': '2', 'S4': '1', 'corr': ' 2', 'incorr': ' 1', 'text': 'Hunter born in 2. Roy born in 1. Alan born in 2. Lisa born in 1. Diamond born in'}, {'S1': '1', 'S2': '2', 'S3': '1', 'S4': '2', 'corr': ' 1', 'incorr': ' 2', 'text': 'Charles born in 1. Diamond born in 2. Tyler born in 1. Jo born in 2. Roy born in'}, {'S1': '2', 'S2': '1', 'S3': '2', 'S4': '1', 'corr': ' 2', 'incorr': ' 1', 'text': 'Anna born in 2. Jose born in 1. Edward born in 2. Carl born in 1. Justin born in'}, {'S1': '1', 'S2': '2', 'S3': '1', 'S4': '2', 'corr': ' 1', 'incorr': ' 2', 'text': 'Larry born in 1. Diamond born in 2. Lisa born in 1. Laura born in 2. Paul born in'}, {'S1': '2', 'S2': '1', 'S3': '2', 'S4': '1', 'corr': ' 2', 'incorr': ' 1', 'text': 'Rose born in 2. Jamie born in 1. Gordon born in 2. Kelly born in 1. Stephen born in'}, {'S1': '1', 'S2': '2', 'S3': '1', 'S4': '2', 'corr': ' 1', 'incorr': ' 2', 'text': 'John born in 1. Anna born in 2. Jack born in 1. Jessica born in 2. Howard born in'}, {'S1': '2', 'S2': '1', 'S3': '2', 'S4': '1', 'corr': ' 2', 'incorr': ' 1', 'text': 'Jessica born in 2. Alan born in 1. John born in 2. Terry born in 1. Greg born in'}, {'S1': '1', 'S2': '2', 'S3': '1', 'S4': '2', 'corr': ' 1', 'incorr': ' 2', 'text': 'Howard born in 1. Mark born in 2. Marc born in 1. Arthur born in 2. Joseph born in'}, {'S1': '2', 'S2': '1', 'S3': '2', 'S4': '1', 'corr': ' 2', 'incorr': ' 1', 'text': 'Ryan born in 2. Jay born in 1. Andre born in 2. Mark born in 1. Larry born in'}, {'S1': '1', 'S2': '2', 'S3': '1', 'S4': '2', 'corr': ' 1', 'incorr': ' 2', 'text': 'John born in 1. Steve born in 2. Carl born in 1. Thomas born in 2. April born in'}, {'S1': '2', 'S2': '1', 'S3': '2', 'S4': '1', 'corr': ' 2', 'incorr': ' 1', 'text': 'Jessica born in 2. Joshua born in 1. Jeremy born in 2. Ryan born in 1. Adam born in'}, {'S1': '1', 'S2': '2', 'S3': '1', 'S4': '2', 'corr': ' 1', 'incorr': ' 2', 'text': 'Kim born in 1. Brandon born in 2. Jessica born in 1. Hunter born in 2. Tyler born in'}, {'S1': '2', 'S2': '1', 'S3': '2', 'S4': '1', 'corr': ' 2', 'incorr': ' 1', 'text': 'Andre born in 2. Mary born in 1. Carl born in 2. Tyler born in 1. Chelsea born in'}, {'S1': '1', 'S2': '2', 'S3': '1', 'S4': '2', 'corr': ' 1', 'incorr': ' 2', 'text': 'Jon born in 1. Stephen born in 2. Rick born in 1. John born in 2. Jose born in'}, {'S1': '2', 'S2': '1', 'S3': '2', 'S4': '1', 'corr': ' 2', 'incorr': ' 1', 'text': 'Madison born in 2. Luke born in 1. Steven born in 2. Tyler born in 1. Gordon born in'}, {'S1': '1', 'S2': '2', 'S3': '1', 'S4': '2', 'corr': ' 1', 'incorr': ' 2', 'text': 'Matthew born in 1. Rachel born in 2. Elizabeth born in 1. Marc born in 2. Peter born in'}, {'S1': '2', 'S2': '1', 'S3': '2', 'S4': '1', 'corr': ' 2', 'incorr': ' 1', 'text': 'Mark born in 2. Kelly born in 1. Jimmy born in 2. Lisa born in 1. Ian born in'}, {'S1': '1', 'S2': '2', 'S3': '1', 'S4': '2', 'corr': ' 1', 'incorr': ' 2', 'text': 'Marc born in 1. Rachel born in 2. Christopher born in 1. Gary born in 2. Lisa born in'}, {'S1': '2', 'S2': '1', 'S3': '2', 'S4': '1', 'corr': ' 2', 'incorr': ' 1', 'text': 'Alan born in 2. Chelsea born in 1. Chris born in 2. Donald born in 1. Adam born in'}, {'S1': '1', 'S2': '2', 'S3': '1', 'S4': '2', 'corr': ' 1', 'incorr': ' 2', 'text': 'Roy born in 1. Keith born in 2. Matthew born in 1. Jose born in 2. Gordon born in'}, {'S1': '2', 'S2': '1', 'S3': '2', 'S4': '1', 'corr': ' 2', 'incorr': ' 1', 'text': 'Danny born in 2. Connor born in 1. Stephen born in 2. Jo born in 1. Michael born in'}, {'S1': '1', 'S2': '2', 'S3': '1', 'S4': '2', 'corr': ' 1', 'incorr': ' 2', 'text': 'Kevin born in 1. Stephen born in 2. Jeremy born in 1. Jeff born in 2. Roger born in'}, {'S1': '2', 'S2': '1', 'S3': '2', 'S4': '1', 'corr': ' 2', 'incorr': ' 1', 'text': 'Jacob born in 2. Terry born in 1. Jeremy born in 2. Craig born in 1. Richard born in'}, {'S1': '1', 'S2': '2', 'S3': '1', 'S4': '2', 'corr': ' 1', 'incorr': ' 2', 'text': 'Madison born in 1. Kyle born in 2. Marcus born in 1. Tom born in 2. Anthony born in'}, {'S1': '2', 'S2': '1', 'S3': '2', 'S4': '1', 'corr': ' 2', 'incorr': ' 1', 'text': 'Paul born in 2. Roy born in 1. Roger born in 2. Jack born in 1. Gene born in'}, {'S1': '1', 'S2': '2', 'S3': '1', 'S4': '2', 'corr': ' 1', 'incorr': ' 2', 'text': 'Robert born in 1. Laura born in 2. Kevin born in 1. Chelsea born in 2. Rick born in'}, {'S1': '2', 'S2': '1', 'S3': '2', 'S4': '1', 'corr': ' 2', 'incorr': ' 1', 'text': 'Jeremy born in 2. Peter born in 1. Andre born in 2. Sean born in 1. Rick born in'}, {'S1': '1', 'S2': '2', 'S3': '1', 'S4': '2', 'corr': ' 1', 'incorr': ' 2', 'text': 'Jo born in 1. Eric born in 2. Rachel born in 1. Craig born in 2. Andre born in'}, {'S1': '2', 'S2': '1', 'S3': '2', 'S4': '1', 'corr': ' 2', 'incorr': ' 1', 'text': 'Scott born in 2. Rick born in 1. Christopher born in 2. Keith born in 1. Peter born in'}, {'S1': '1', 'S2': '2', 'S3': '1', 'S4': '2', 'corr': ' 1', 'incorr': ' 2', 'text': 'Rick born in 1. Richard born in 2. Albert born in 1. Henry born in 2. Lee born in'}, {'S1': '2', 'S2': '1', 'S3': '2', 'S4': '1', 'corr': ' 2', 'incorr': ' 1', 'text': 'Lisa born in 2. John born in 1. David born in 2. Mike born in 1. Ryan born in'}, {'S1': '1', 'S2': '2', 'S3': '1', 'S4': '2', 'corr': ' 1', 'incorr': ' 2', 'text': 'Matthew born in 1. Christian born in 2. Gene born in 1. Ian born in 2. Greg born in'}, {'S1': '2', 'S2': '1', 'S3': '2', 'S4': '1', 'corr': ' 2', 'incorr': ' 1', 'text': 'James born in 2. Roger born in 1. Bill born in 2. Justin born in 1. Greg born in'}, {'S1': '1', 'S2': '2', 'S3': '1', 'S4': '2', 'corr': ' 1', 'incorr': ' 2', 'text': 'Jack born in 1. Eric born in 2. Jim born in 1. Sean born in 2. Roger born in'}, {'S1': '2', 'S2': '1', 'S3': '2', 'S4': '1', 'corr': ' 2', 'incorr': ' 1', 'text': 'Greg born in 2. Steve born in 1. Christopher born in 2. April born in 1. George born in'}, {'S1': '1', 'S2': '2', 'S3': '1', 'S4': '2', 'corr': ' 1', 'incorr': ' 2', 'text': 'Marc born in 1. Craig born in 2. Rachel born in 1. Anne born in 2. Howard born in'}, {'S1': '2', 'S2': '1', 'S3': '2', 'S4': '1', 'corr': ' 2', 'incorr': ' 1', 'text': 'Ann born in 2. Terry born in 1. Thomas born in 2. Alex born in 1. Jimmy born in'}, {'S1': '1', 'S2': '2', 'S3': '1', 'S4': '2', 'corr': ' 1', 'incorr': ' 2', 'text': 'Peter born in 1. Mary born in 2. Elizabeth born in 1. Rick born in 2. Paul born in'}, {'S1': '2', 'S2': '1', 'S3': '2', 'S4': '1', 'corr': ' 2', 'incorr': ' 1', 'text': 'Danny born in 2. Craig born in 1. Mary born in 2. Joshua born in 1. Jimmy born in'}, {'S1': '1', 'S2': '2', 'S3': '1', 'S4': '2', 'corr': ' 1', 'incorr': ' 2', 'text': 'Charles born in 1. Alex born in 2. Steven born in 1. Christopher born in 2. William born in'}, {'S1': '2', 'S2': '1', 'S3': '2', 'S4': '1', 'corr': ' 2', 'incorr': ' 1', 'text': 'Gordon born in 2. Kyle born in 1. Rachel born in 2. Scott born in 1. Laura born in'}, {'S1': '1', 'S2': '2', 'S3': '1', 'S4': '2', 'corr': ' 1', 'incorr': ' 2', 'text': 'Eric born in 1. Carl born in 2. Jack born in 1. Alex born in 2. Victoria born in'}, {'S1': '2', 'S2': '1', 'S3': '2', 'S4': '1', 'corr': ' 2', 'incorr': ' 1', 'text': 'Jimmy born in 2. Gordon born in 1. Jamie born in 2. Arthur born in 1. Marc born in'}, {'S1': '1', 'S2': '2', 'S3': '1', 'S4': '2', 'corr': ' 1', 'incorr': ' 2', 'text': 'Carl born in 1. Arthur born in 2. Eric born in 1. April born in 2. Sean born in'}, {'S1': '2', 'S2': '1', 'S3': '2', 'S4': '1', 'corr': ' 2', 'incorr': ' 1', 'text': 'Kim born in 2. Connor born in 1. William born in 2. Adam born in 1. Rachel born in'}, {'S1': '1', 'S2': '2', 'S3': '1', 'S4': '2', 'corr': ' 1', 'incorr': ' 2', 'text': 'Anne born in 1. Kim born in 2. Chris born in 1. Hunter born in 2. Andre born in'}, {'S1': '2', 'S2': '1', 'S3': '2', 'S4': '1', 'corr': ' 2', 'incorr': ' 1', 'text': 'Jimmy born in 2. Steve born in 1. Bruce born in 2. Justin born in 1. Anthony born in'}, {'S1': '1', 'S2': '2', 'S3': '1', 'S4': '2', 'corr': ' 1', 'incorr': ' 2', 'text': 'Danny born in 1. Roger born in 2. Thomas born in 1. Mike born in 2. Jose born in'}, {'S1': '2', 'S2': '1', 'S3': '2', 'S4': '1', 'corr': ' 2', 'incorr': ' 1', 'text': 'Bruce born in 2. David born in 1. Chelsea born in 2. Adam born in 1. Jo born in'}, {'S1': '1', 'S2': '2', 'S3': '1', 'S4': '2', 'corr': ' 1', 'incorr': ' 2', 'text': 'Maria born in 1. Brandon born in 2. Jeff born in 1. Andre born in 2. Mark born in'}, {'S1': '2', 'S2': '1', 'S3': '2', 'S4': '1', 'corr': ' 2', 'incorr': ' 1', 'text': 'Jon born in 2. Alan born in 1. Maria born in 2. William born in 1. Kyle born in'}, {'S1': '1', 'S2': '2', 'S3': '1', 'S4': '2', 'corr': ' 1', 'incorr': ' 2', 'text': 'Albert born in 1. Greg born in 2. John born in 1. Richard born in 2. Kelly born in'}, {'S1': '2', 'S2': '1', 'S3': '2', 'S4': '1', 'corr': ' 2', 'incorr': ' 1', 'text': 'Jeff born in 2. Rick born in 1. Kelly born in 2. Roger born in 1. Jacob born in'}, {'S1': '1', 'S2': '2', 'S3': '1', 'S4': '2', 'corr': ' 1', 'incorr': ' 2', 'text': 'Richard born in 1. Diamond born in 2. Donald born in 1. Steven born in 2. Carl born in'}, {'S1': '2', 'S2': '1', 'S3': '2', 'S4': '1', 'corr': ' 2', 'incorr': ' 1', 'text': 'Alan born in 2. Jimmy born in 1. Roy born in 2. Adam born in 1. Kelly born in'}, {'S1': '1', 'S2': '2', 'S3': '1', 'S4': '2', 'corr': ' 1', 'incorr': ' 2', 'text': 'Ian born in 1. Jessica born in 2. Greg born in 1. Jay born in 2. Jose born in'}, {'S1': '2', 'S2': '1', 'S3': '2', 'S4': '1', 'corr': ' 2', 'incorr': ' 1', 'text': 'Brandon born in 2. Eric born in 1. Aaron born in 2. Michael born in 1. Edward born in'}, {'S1': '1', 'S2': '2', 'S3': '1', 'S4': '2', 'corr': ' 1', 'incorr': ' 2', 'text': 'Jimmy born in 1. Kevin born in 2. Christopher born in 1. Jacob born in 2. Ann born in'}, {'S1': '2', 'S2': '1', 'S3': '2', 'S4': '1', 'corr': ' 2', 'incorr': ' 1', 'text': 'Bill born in 2. Lee born in 1. Christopher born in 2. Rick born in 1. Anna born in'}, {'S1': '1', 'S2': '2', 'S3': '1', 'S4': '2', 'corr': ' 1', 'incorr': ' 2', 'text': 'Sean born in 1. Jessica born in 2. Anne born in 1. Christian born in 2. Lee born in'}, {'S1': '2', 'S2': '1', 'S3': '2', 'S4': '1', 'corr': ' 2', 'incorr': ' 1', 'text': 'Larry born in 2. Anne born in 1. Charles born in 2. Jo born in 1. Laura born in'}, {'S1': '1', 'S2': '2', 'S3': '1', 'S4': '2', 'corr': ' 1', 'incorr': ' 2', 'text': 'Chris born in 1. Aaron born in 2. Terry born in 1. Roy born in 2. Alex born in'}, {'S1': '2', 'S2': '1', 'S3': '2', 'S4': '1', 'corr': ' 2', 'incorr': ' 1', 'text': 'Adam born in 2. Maria born in 1. Larry born in 2. Rose born in 1. Eric born in'}, {'S1': '1', 'S2': '2', 'S3': '1', 'S4': '2', 'corr': ' 1', 'incorr': ' 2', 'text': 'Tom born in 1. Alan born in 2. Keith born in 1. Jeremy born in 2. Kim born in'}, {'S1': '2', 'S2': '1', 'S3': '2', 'S4': '1', 'corr': ' 2', 'incorr': ' 1', 'text': 'Madison born in 2. Jim born in 1. Diamond born in 2. Jessica born in 1. April born in'}, {'S1': '1', 'S2': '2', 'S3': '1', 'S4': '2', 'corr': ' 1', 'incorr': ' 2', 'text': 'Edward born in 1. Diamond born in 2. Jessica born in 1. Stephen born in 2. Connor born in'}, {'S1': '2', 'S2': '1', 'S3': '2', 'S4': '1', 'corr': ' 2', 'incorr': ' 1', 'text': 'Marcus born in 2. Rose born in 1. Michael born in 2. Jeff born in 1. Keith born in'}, {'S1': '1', 'S2': '2', 'S3': '1', 'S4': '2', 'corr': ' 1', 'incorr': ' 2', 'text': 'Mary born in 1. Carl born in 2. Ryan born in 1. Luke born in 2. Charles born in'}, {'S1': '2', 'S2': '1', 'S3': '2', 'S4': '1', 'corr': ' 2', 'incorr': ' 1', 'text': 'Jacob born in 2. Howard born in 1. Mark born in 2. Marcus born in 1. Maria born in'}, {'S1': '1', 'S2': '2', 'S3': '1', 'S4': '2', 'corr': ' 1', 'incorr': ' 2', 'text': 'Jay born in 1. Richard born in 2. Rose born in 1. Kyle born in 2. Lisa born in'}, {'S1': '2', 'S2': '1', 'S3': '2', 'S4': '1', 'corr': ' 2', 'incorr': ' 1', 'text': 'Jim born in 2. William born in 1. Marc born in 2. Thomas born in 1. Madison born in'}, {'S1': '1', 'S2': '2', 'S3': '1', 'S4': '2', 'corr': ' 1', 'incorr': ' 2', 'text': 'David born in 1. Terry born in 2. Taylor born in 1. James born in 2. April born in'}, {'S1': '2', 'S2': '1', 'S3': '2', 'S4': '1', 'corr': ' 2', 'incorr': ' 1', 'text': 'Taylor born in 2. Mike born in 1. James born in 2. Robert born in 1. Adam born in'}, {'S1': '1', 'S2': '2', 'S3': '1', 'S4': '2', 'corr': ' 1', 'incorr': ' 2', 'text': 'Taylor born in 1. Gordon born in 2. Jeremy born in 1. Anna born in 2. Matthew born in'}, {'S1': '2', 'S2': '1', 'S3': '2', 'S4': '1', 'corr': ' 2', 'incorr': ' 1', 'text': 'Mark born in 2. Morgan born in 1. Jamie born in 2. Adam born in 1. Thomas born in'}, {'S1': '1', 'S2': '2', 'S3': '1', 'S4': '2', 'corr': ' 1', 'incorr': ' 2', 'text': 'Chelsea born in 1. Craig born in 2. Luke born in 1. Paul born in 2. Marcus born in'}, {'S1': '2', 'S2': '1', 'S3': '2', 'S4': '1', 'corr': ' 2', 'incorr': ' 1', 'text': 'Jose born in 2. Matthew born in 1. Sean born in 2. Diamond born in 1. William born in'}, {'S1': '1', 'S2': '2', 'S3': '1', 'S4': '2', 'corr': ' 1', 'incorr': ' 2', 'text': 'Jack born in 1. Anna born in 2. Jose born in 1. Carl born in 2. Gordon born in'}, {'S1': '2', 'S2': '1', 'S3': '2', 'S4': '1', 'corr': ' 2', 'incorr': ' 1', 'text': 'Alex born in 2. Robert born in 1. Mike born in 2. Jessica born in 1. Taylor born in'}, {'S1': '1', 'S2': '2', 'S3': '1', 'S4': '2', 'corr': ' 1', 'incorr': ' 2', 'text': 'Ian born in 1. Kelly born in 2. Jim born in 1. Steven born in 2. Lee born in'}, {'S1': '2', 'S2': '1', 'S3': '2', 'S4': '1', 'corr': ' 2', 'incorr': ' 1', 'text': 'Alex born in 2. Roy born in 1. Peter born in 2. Albert born in 1. Luke born in'}, {'S1': '1', 'S2': '2', 'S3': '1', 'S4': '2', 'corr': ' 1', 'incorr': ' 2', 'text': 'Lisa born in 1. Steven born in 2. Jim born in 1. George born in 2. Jo born in'}, {'S1': '2', 'S2': '1', 'S3': '2', 'S4': '1', 'corr': ' 2', 'incorr': ' 1', 'text': 'Jessica born in 2. Mark born in 1. Roger born in 2. Brandon born in 1. Diamond born in'}, {'S1': '1', 'S2': '2', 'S3': '1', 'S4': '2', 'corr': ' 1', 'incorr': ' 2', 'text': 'Joshua born in 1. Jose born in 2. Luke born in 1. Scott born in 2. Edward born in'}, {'S1': '2', 'S2': '1', 'S3': '2', 'S4': '1', 'corr': ' 2', 'incorr': ' 1', 'text': 'Alan born in 2. William born in 1. Taylor born in 2. Jennifer born in 1. Steven born in'}, {'S1': '1', 'S2': '2', 'S3': '1', 'S4': '2', 'corr': ' 1', 'incorr': ' 2', 'text': 'Kyle born in 1. Carl born in 2. Gary born in 1. Mary born in 2. Christian born in'}, {'S1': '2', 'S2': '1', 'S3': '2', 'S4': '1', 'corr': ' 2', 'incorr': ' 1', 'text': 'Chelsea born in 2. Richard born in 1. James born in 2. Kyle born in 1. Michael born in'}, {'S1': '1', 'S2': '2', 'S3': '1', 'S4': '2', 'corr': ' 1', 'incorr': ' 2', 'text': 'Jon born in 1. Tyler born in 2. Morgan born in 1. Laura born in 2. Steven born in'}, {'S1': '2', 'S2': '1', 'S3': '2', 'S4': '1', 'corr': ' 2', 'incorr': ' 1', 'text': 'Matthew born in 2. Jessica born in 1. Anne born in 2. Aaron born in 1. Michael born in'}, {'S1': '1', 'S2': '2', 'S3': '1', 'S4': '2', 'corr': ' 1', 'incorr': ' 2', 'text': 'Mary born in 1. Jay born in 2. Marcus born in 1. Jim born in 2. Andre born in'}, {'S1': '2', 'S2': '1', 'S3': '2', 'S4': '1', 'corr': ' 2', 'incorr': ' 1', 'text': 'Keith born in 2. John born in 1. Jessica born in 2. Steven born in 1. Eric born in'}, {'S1': '1', 'S2': '2', 'S3': '1', 'S4': '2', 'corr': ' 1', 'incorr': ' 2', 'text': 'Jeremy born in 1. Christopher born in 2. Peter born in 1. Jim born in 2. Michael born in'}, {'S1': '2', 'S2': '1', 'S3': '2', 'S4': '1', 'corr': ' 2', 'incorr': ' 1', 'text': 'Jon born in 2. Jack born in 1. Gary born in 2. Anna born in 1. John born in'}, {'S1': '1', 'S2': '2', 'S3': '1', 'S4': '2', 'corr': ' 1', 'incorr': ' 2', 'text': 'Mark born in 1. Hunter born in 2. Christopher born in 1. Robert born in 2. Sean born in'}, {'S1': '2', 'S2': '1', 'S3': '2', 'S4': '1', 'corr': ' 2', 'incorr': ' 1', 'text': 'Michael born in 2. Lisa born in 1. Adam born in 2. Jack born in 1. Kelly born in'}, {'S1': '1', 'S2': '2', 'S3': '1', 'S4': '2', 'corr': ' 1', 'incorr': ' 2', 'text': 'Jeremy born in 1. Albert born in 2. Sean born in 1. Mary born in 2. Roy born in'}, {'S1': '2', 'S2': '1', 'S3': '2', 'S4': '1', 'corr': ' 2', 'incorr': ' 1', 'text': 'Connor born in 2. Lee born in 1. Stephen born in 2. Victoria born in 1. Elizabeth born in'}, {'S1': '1', 'S2': '2', 'S3': '1', 'S4': '2', 'corr': ' 1', 'incorr': ' 2', 'text': 'Jessica born in 1. Mike born in 2. Adam born in 1. Christopher born in 2. Jon born in'}, {'S1': '2', 'S2': '1', 'S3': '2', 'S4': '1', 'corr': ' 2', 'incorr': ' 1', 'text': 'William born in 2. Richard born in 1. Elizabeth born in 2. Steven born in 1. Jon born in'}, {'S1': '1', 'S2': '2', 'S3': '1', 'S4': '2', 'corr': ' 1', 'incorr': ' 2', 'text': 'Jose born in 1. Jon born in 2. Edward born in 1. Tom born in 2. Greg born in'}, {'S1': '2', 'S2': '1', 'S3': '2', 'S4': '1', 'corr': ' 2', 'incorr': ' 1', 'text': 'Diamond born in 2. April born in 1. Taylor born in 2. Jeff born in 1. Howard born in'}, {'S1': '1', 'S2': '2', 'S3': '1', 'S4': '2', 'corr': ' 1', 'incorr': ' 2', 'text': 'Gary born in 1. Bruce born in 2. Henry born in 1. Jack born in 2. Richard born in'}, {'S1': '2', 'S2': '1', 'S3': '2', 'S4': '1', 'corr': ' 2', 'incorr': ' 1', 'text': 'Jennifer born in 2. Christopher born in 1. Sean born in 2. Rose born in 1. Maria born in'}, {'S1': '1', 'S2': '2', 'S3': '1', 'S4': '2', 'corr': ' 1', 'incorr': ' 2', 'text': 'Steven born in 1. Sean born in 2. Terry born in 1. George born in 2. Jessica born in'}, {'S1': '2', 'S2': '1', 'S3': '2', 'S4': '1', 'corr': ' 2', 'incorr': ' 1', 'text': 'Michael born in 2. Kelly born in 1. Rose born in 2. Larry born in 1. Steve born in'}, {'S1': '1', 'S2': '2', 'S3': '1', 'S4': '2', 'corr': ' 1', 'incorr': ' 2', 'text': 'Danny born in 1. Joseph born in 2. Joshua born in 1. Anthony born in 2. Jessica born in'}, {'S1': '2', 'S2': '1', 'S3': '2', 'S4': '1', 'corr': ' 2', 'incorr': ' 1', 'text': 'Jay born in 2. Bill born in 1. Mark born in 2. Richard born in 1. Anne born in'}, {'S1': '1', 'S2': '2', 'S3': '1', 'S4': '2', 'corr': ' 1', 'incorr': ' 2', 'text': 'Anthony born in 1. John born in 2. Matthew born in 1. Jimmy born in 2. Diamond born in'}, {'S1': '2', 'S2': '1', 'S3': '2', 'S4': '1', 'corr': ' 2', 'incorr': ' 1', 'text': 'Jacob born in 2. April born in 1. Connor born in 2. Kyle born in 1. Jimmy born in'}, {'S1': '1', 'S2': '2', 'S3': '1', 'S4': '2', 'corr': ' 1', 'incorr': ' 2', 'text': 'Bill born in 1. Matthew born in 2. Anne born in 1. Roy born in 2. Rick born in'}, {'S1': '2', 'S2': '1', 'S3': '2', 'S4': '1', 'corr': ' 2', 'incorr': ' 1', 'text': 'Morgan born in 2. William born in 1. Jamie born in 2. Rick born in 1. Mary born in'}, {'S1': '1', 'S2': '2', 'S3': '1', 'S4': '2', 'corr': ' 1', 'incorr': ' 2', 'text': 'Marcus born in 1. Howard born in 2. Matthew born in 1. Jeremy born in 2. Aaron born in'}, {'S1': '2', 'S2': '1', 'S3': '2', 'S4': '1', 'corr': ' 2', 'incorr': ' 1', 'text': 'David born in 2. Marcus born in 1. William born in 2. Aaron born in 1. Mark born in'}, {'S1': '1', 'S2': '2', 'S3': '1', 'S4': '2', 'corr': ' 1', 'incorr': ' 2', 'text': 'Paul born in 1. Eric born in 2. Anna born in 1. Christian born in 2. Diamond born in'}, {'S1': '2', 'S2': '1', 'S3': '2', 'S4': '1', 'corr': ' 2', 'incorr': ' 1', 'text': 'Sean born in 2. Matthew born in 1. Marcus born in 2. Ryan born in 1. Andre born in'}, {'S1': '1', 'S2': '2', 'S3': '1', 'S4': '2', 'corr': ' 1', 'incorr': ' 2', 'text': 'Maria born in 1. Scott born in 2. Rose born in 1. Kim born in 2. Mike born in'}, {'S1': '2', 'S2': '1', 'S3': '2', 'S4': '1', 'corr': ' 2', 'incorr': ' 1', 'text': 'Eric born in 2. Stephen born in 1. Adam born in 2. Mark born in 1. Ryan born in'}, {'S1': '1', 'S2': '2', 'S3': '1', 'S4': '2', 'corr': ' 1', 'incorr': ' 2', 'text': 'Luke born in 1. Kim born in 2. Eric born in 1. Steve born in 2. Howard born in'}, {'S1': '2', 'S2': '1', 'S3': '2', 'S4': '1', 'corr': ' 2', 'incorr': ' 1', 'text': 'Roger born in 2. Alan born in 1. Laura born in 2. Marc born in 1. Hunter born in'}, {'S1': '1', 'S2': '2', 'S3': '1', 'S4': '2', 'corr': ' 1', 'incorr': ' 2', 'text': 'Allen born in 1. Roger born in 2. Stephen born in 1. Henry born in 2. Steve born in'}, {'S1': '2', 'S2': '1', 'S3': '2', 'S4': '1', 'corr': ' 2', 'incorr': ' 1', 'text': 'Joshua born in 2. Jim born in 1. Christian born in 2. Roy born in 1. Gordon born in'}, {'S1': '1', 'S2': '2', 'S3': '1', 'S4': '2', 'corr': ' 1', 'incorr': ' 2', 'text': 'Eric born in 1. Adam born in 2. Jay born in 1. Victoria born in 2. Lee born in'}, {'S1': '2', 'S2': '1', 'S3': '2', 'S4': '1', 'corr': ' 2', 'incorr': ' 1', 'text': 'Ian born in 2. John born in 1. Christopher born in 2. Aaron born in 1. Thomas born in'}, {'S1': '1', 'S2': '2', 'S3': '1', 'S4': '2', 'corr': ' 1', 'incorr': ' 2', 'text': 'Alex born in 1. Lee born in 2. Steve born in 1. Gordon born in 2. Kelly born in'}, {'S1': '2', 'S2': '1', 'S3': '2', 'S4': '1', 'corr': ' 2', 'incorr': ' 1', 'text': 'Howard born in 2. Elizabeth born in 1. April born in 2. Craig born in 1. Kyle born in'}, {'S1': '1', 'S2': '2', 'S3': '1', 'S4': '2', 'corr': ' 1', 'incorr': ' 2', 'text': 'Albert born in 1. Richard born in 2. Keith born in 1. Kelly born in 2. Kevin born in'}, {'S1': '2', 'S2': '1', 'S3': '2', 'S4': '1', 'corr': ' 2', 'incorr': ' 1', 'text': 'Henry born in 2. Greg born in 1. Jeremy born in 2. Arthur born in 1. Jose born in'}, {'S1': '1', 'S2': '2', 'S3': '1', 'S4': '2', 'corr': ' 1', 'incorr': ' 2', 'text': 'Donald born in 1. Scott born in 2. Chelsea born in 1. Jay born in 2. Ian born in'}, {'S1': '2', 'S2': '1', 'S3': '2', 'S4': '1', 'corr': ' 2', 'incorr': ' 1', 'text': 'Greg born in 2. Mike born in 1. Alan born in 2. Craig born in 1. Terry born in'}, {'S1': '1', 'S2': '2', 'S3': '1', 'S4': '2', 'corr': ' 1', 'incorr': ' 2', 'text': 'Alan born in 1. Anna born in 2. Jeremy born in 1. Steven born in 2. William born in'}, {'S1': '2', 'S2': '1', 'S3': '2', 'S4': '1', 'corr': ' 2', 'incorr': ' 1', 'text': 'Kim born in 2. Kyle born in 1. Lisa born in 2. Kevin born in 1. Bill born in'}, {'S1': '1', 'S2': '2', 'S3': '1', 'S4': '2', 'corr': ' 1', 'incorr': ' 2', 'text': 'Connor born in 1. Scott born in 2. Victoria born in 1. April born in 2. Jose born in'}, {'S1': '2', 'S2': '1', 'S3': '2', 'S4': '1', 'corr': ' 2', 'incorr': ' 1', 'text': 'Bruce born in 2. Albert born in 1. Justin born in 2. Robert born in 1. Gary born in'}, {'S1': '1', 'S2': '2', 'S3': '1', 'S4': '2', 'corr': ' 1', 'incorr': ' 2', 'text': 'Lee born in 1. Aaron born in 2. Hunter born in 1. Marcus born in 2. Terry born in'}, {'S1': '2', 'S2': '1', 'S3': '2', 'S4': '1', 'corr': ' 2', 'incorr': ' 1', 'text': 'Thomas born in 2. April born in 1. Aaron born in 2. James born in 1. Donald born in'}, {'S1': '1', 'S2': '2', 'S3': '1', 'S4': '2', 'corr': ' 1', 'incorr': ' 2', 'text': 'Chris born in 1. Anthony born in 2. Anne born in 1. Tom born in 2. Mike born in'}, {'S1': '2', 'S2': '1', 'S3': '2', 'S4': '1', 'corr': ' 2', 'incorr': ' 1', 'text': 'Scott born in 2. Jeff born in 1. Taylor born in 2. Elizabeth born in 1. Mary born in'}, {'S1': '1', 'S2': '2', 'S3': '1', 'S4': '2', 'corr': ' 1', 'incorr': ' 2', 'text': 'Bill born in 1. David born in 2. Gordon born in 1. Kelly born in 2. Adam born in'}, {'S1': '2', 'S2': '1', 'S3': '2', 'S4': '1', 'corr': ' 2', 'incorr': ' 1', 'text': 'Anthony born in 2. Kelly born in 1. Alan born in 2. Peter born in 1. Jon born in'}, {'S1': '1', 'S2': '2', 'S3': '1', 'S4': '2', 'corr': ' 1', 'incorr': ' 2', 'text': 'Jamie born in 1. Albert born in 2. Donald born in 1. Chelsea born in 2. Charles born in'}, {'S1': '2', 'S2': '1', 'S3': '2', 'S4': '1', 'corr': ' 2', 'incorr': ' 1', 'text': 'Kelly born in 2. Michael born in 1. Laura born in 2. Larry born in 1. Madison born in'}, {'S1': '1', 'S2': '2', 'S3': '1', 'S4': '2', 'corr': ' 1', 'incorr': ' 2', 'text': 'Anna born in 1. Andre born in 2. Marc born in 1. Joshua born in 2. Lisa born in'}, {'S1': '2', 'S2': '1', 'S3': '2', 'S4': '1', 'corr': ' 2', 'incorr': ' 1', 'text': 'Gene born in 2. Anna born in 1. Craig born in 2. Christopher born in 1. Gary born in'}, {'S1': '1', 'S2': '2', 'S3': '1', 'S4': '2', 'corr': ' 1', 'incorr': ' 2', 'text': 'Tom born in 1. Edward born in 2. Kelly born in 1. Jeff born in 2. Luke born in'}, {'S1': '2', 'S2': '1', 'S3': '2', 'S4': '1', 'corr': ' 2', 'incorr': ' 1', 'text': 'Greg born in 2. Lee born in 1. George born in 2. Anne born in 1. Christopher born in'}, {'S1': '1', 'S2': '2', 'S3': '1', 'S4': '2', 'corr': ' 1', 'incorr': ' 2', 'text': 'Jeremy born in 1. Richard born in 2. Morgan born in 1. Marc born in 2. Greg born in'}, {'S1': '2', 'S2': '1', 'S3': '2', 'S4': '1', 'corr': ' 2', 'incorr': ' 1', 'text': 'Rick born in 2. Joseph born in 1. Jay born in 2. Mary born in 1. Jose born in'}, {'S1': '1', 'S2': '2', 'S3': '1', 'S4': '2', 'corr': ' 1', 'incorr': ' 2', 'text': 'Chelsea born in 1. Joseph born in 2. Gene born in 1. Henry born in 2. Arthur born in'}, {'S1': '2', 'S2': '1', 'S3': '2', 'S4': '1', 'corr': ' 2', 'incorr': ' 1', 'text': 'Christopher born in 2. Terry born in 1. Rick born in 2. Ryan born in 1. Kevin born in'}, {'S1': '1', 'S2': '2', 'S3': '1', 'S4': '2', 'corr': ' 1', 'incorr': ' 2', 'text': 'Larry born in 1. Justin born in 2. Jennifer born in 1. Carl born in 2. Alex born in'}, {'S1': '2', 'S2': '1', 'S3': '2', 'S4': '1', 'corr': ' 2', 'incorr': ' 1', 'text': 'Jacob born in 2. April born in 1. Michael born in 2. Ryan born in 1. Alan born in'}, {'S1': '1', 'S2': '2', 'S3': '1', 'S4': '2', 'corr': ' 1', 'incorr': ' 2', 'text': 'Sean born in 1. Matthew born in 2. Alan born in 1. Howard born in 2. Jessica born in'}, {'S1': '2', 'S2': '1', 'S3': '2', 'S4': '1', 'corr': ' 2', 'incorr': ' 1', 'text': 'Victoria born in 2. Connor born in 1. Chelsea born in 2. Lee born in 1. Keith born in'}, {'S1': '1', 'S2': '2', 'S3': '1', 'S4': '2', 'corr': ' 1', 'incorr': ' 2', 'text': 'Gene born in 1. Jim born in 2. Justin born in 1. Luke born in 2. Gordon born in'}, {'S1': '2', 'S2': '1', 'S3': '2', 'S4': '1', 'corr': ' 2', 'incorr': ' 1', 'text': 'Marc born in 2. Lee born in 1. Eric born in 2. Roy born in 1. Anne born in'}, {'S1': '1', 'S2': '2', 'S3': '1', 'S4': '2', 'corr': ' 1', 'incorr': ' 2', 'text': 'Keith born in 1. Kelly born in 2. Rachel born in 1. Jacob born in 2. Chris born in'}, {'S1': '2', 'S2': '1', 'S3': '2', 'S4': '1', 'corr': ' 2', 'incorr': ' 1', 'text': 'Richard born in 2. Kevin born in 1. William born in 2. Elizabeth born in 1. Keith born in'}, {'S1': '1', 'S2': '2', 'S3': '1', 'S4': '2', 'corr': ' 1', 'incorr': ' 2', 'text': 'Thomas born in 1. Danny born in 2. Scott born in 1. Alan born in 2. Larry born in'}, {'S1': '2', 'S2': '1', 'S3': '2', 'S4': '1', 'corr': ' 2', 'incorr': ' 1', 'text': 'Ian born in 2. Donald born in 1. Thomas born in 2. Jon born in 1. Christopher born in'}, {'S1': '1', 'S2': '2', 'S3': '1', 'S4': '2', 'corr': ' 1', 'incorr': ' 2', 'text': 'Alan born in 1. Taylor born in 2. Christopher born in 1. James born in 2. Sean born in'}, {'S1': '2', 'S2': '1', 'S3': '2', 'S4': '1', 'corr': ' 2', 'incorr': ' 1', 'text': 'Ryan born in 2. Chelsea born in 1. Hunter born in 2. April born in 1. Ian born in'}, {'S1': '1', 'S2': '2', 'S3': '1', 'S4': '2', 'corr': ' 1', 'incorr': ' 2', 'text': 'Steve born in 1. James born in 2. Jeff born in 1. Jo born in 2. Marc born in'}, {'S1': '2', 'S2': '1', 'S3': '2', 'S4': '1', 'corr': ' 2', 'incorr': ' 1', 'text': 'Alex born in 2. Joseph born in 1. Tom born in 2. Marcus born in 1. Sean born in'}, {'S1': '1', 'S2': '2', 'S3': '1', 'S4': '2', 'corr': ' 1', 'incorr': ' 2', 'text': 'Steve born in 1. Edward born in 2. Victoria born in 1. Kelly born in 2. Danny born in'}, {'S1': '2', 'S2': '1', 'S3': '2', 'S4': '1', 'corr': ' 2', 'incorr': ' 1', 'text': 'Stephen born in 2. Bruce born in 1. Joshua born in 2. Laura born in 1. Robert born in'}, {'S1': '1', 'S2': '2', 'S3': '1', 'S4': '2', 'corr': ' 1', 'incorr': ' 2', 'text': 'Michael born in 1. William born in 2. David born in 1. Kevin born in 2. Jacob born in'}, {'S1': '2', 'S2': '1', 'S3': '2', 'S4': '1', 'corr': ' 2', 'incorr': ' 1', 'text': 'Justin born in 2. Maria born in 1. Luke born in 2. Roger born in 1. Matthew born in'}, {'S1': '1', 'S2': '2', 'S3': '1', 'S4': '2', 'corr': ' 1', 'incorr': ' 2', 'text': 'Gordon born in 1. Anne born in 2. Matthew born in 1. Rose born in 2. Christopher born in'}, {'S1': '2', 'S2': '1', 'S3': '2', 'S4': '1', 'corr': ' 2', 'incorr': ' 1', 'text': 'Justin born in 2. Michael born in 1. Eric born in 2. Anne born in 1. Carl born in'}, {'S1': '1', 'S2': '2', 'S3': '1', 'S4': '2', 'corr': ' 1', 'incorr': ' 2', 'text': 'Scott born in 1. Kim born in 2. Joseph born in 1. Christian born in 2. Jon born in'}, {'S1': '2', 'S2': '1', 'S3': '2', 'S4': '1', 'corr': ' 2', 'incorr': ' 1', 'text': 'Larry born in 2. Marc born in 1. Terry born in 2. William born in 1. Anthony born in'}, {'S1': '1', 'S2': '2', 'S3': '1', 'S4': '2', 'corr': ' 1', 'incorr': ' 2', 'text': 'Kyle born in 1. John born in 2. Anna born in 1. Jacob born in 2. Gordon born in'}, {'S1': '2', 'S2': '1', 'S3': '2', 'S4': '1', 'corr': ' 2', 'incorr': ' 1', 'text': 'Laura born in 2. Alan born in 1. Greg born in 2. Matthew born in 1. Scott born in'}, {'S1': '1', 'S2': '2', 'S3': '1', 'S4': '2', 'corr': ' 1', 'incorr': ' 2', 'text': 'Keith born in 1. Jose born in 2. Aaron born in 1. Jim born in 2. Anthony born in'}, {'S1': '2', 'S2': '1', 'S3': '2', 'S4': '1', 'corr': ' 2', 'incorr': ' 1', 'text': 'Christopher born in 2. Lisa born in 1. Sean born in 2. Gene born in 1. Albert born in'}, {'S1': '1', 'S2': '2', 'S3': '1', 'S4': '2', 'corr': ' 1', 'incorr': ' 2', 'text': 'Terry born in 1. Christopher born in 2. Rick born in 1. Ian born in 2. David born in'}, {'S1': '2', 'S2': '1', 'S3': '2', 'S4': '1', 'corr': ' 2', 'incorr': ' 1', 'text': 'Stephen born in 2. Donald born in 1. Tom born in 2. Morgan born in 1. Rose born in'}, {'S1': '1', 'S2': '2', 'S3': '1', 'S4': '2', 'corr': ' 1', 'incorr': ' 2', 'text': 'Albert born in 1. Jimmy born in 2. Connor born in 1. James born in 2. Joseph born in'}, {'S1': '2', 'S2': '1', 'S3': '2', 'S4': '1', 'corr': ' 2', 'incorr': ' 1', 'text': 'Victoria born in 2. Donald born in 1. Adam born in 2. Bill born in 1. Brandon born in'}, {'S1': '1', 'S2': '2', 'S3': '1', 'S4': '2', 'corr': ' 1', 'incorr': ' 2', 'text': 'Mary born in 1. Rose born in 2. Alan born in 1. Gary born in 2. Connor born in'}, {'S1': '2', 'S2': '1', 'S3': '2', 'S4': '1', 'corr': ' 2', 'incorr': ' 1', 'text': 'Jeff born in 2. Bruce born in 1. Joshua born in 2. Edward born in 1. Jon born in'}, {'S1': '1', 'S2': '2', 'S3': '1', 'S4': '2', 'corr': ' 1', 'incorr': ' 2', 'text': 'Adam born in 1. Jack born in 2. Morgan born in 1. Stephen born in 2. Gordon born in'}, {'S1': '2', 'S2': '1', 'S3': '2', 'S4': '1', 'corr': ' 2', 'incorr': ' 1', 'text': 'Sean born in 2. James born in 1. William born in 2. Kelly born in 1. Taylor born in'}, {'S1': '1', 'S2': '2', 'S3': '1', 'S4': '2', 'corr': ' 1', 'incorr': ' 2', 'text': 'Brandon born in 1. Eric born in 2. Jay born in 1. Kelly born in 2. Joseph born in'}, {'S1': '2', 'S2': '1', 'S3': '2', 'S4': '1', 'corr': ' 2', 'incorr': ' 1', 'text': 'Terry born in 2. Marc born in 1. Rachel born in 2. Gary born in 1. Jo born in'}, {'S1': '1', 'S2': '2', 'S3': '1', 'S4': '2', 'corr': ' 1', 'incorr': ' 2', 'text': 'Howard born in 1. Larry born in 2. Luke born in 1. Sean born in 2. Elizabeth born in'}, {'S1': '2', 'S2': '1', 'S3': '2', 'S4': '1', 'corr': ' 2', 'incorr': ' 1', 'text': 'Gary born in 2. Elizabeth born in 1. Roy born in 2. Jimmy born in 1. Jennifer born in'}, {'S1': '1', 'S2': '2', 'S3': '1', 'S4': '2', 'corr': ' 1', 'incorr': ' 2', 'text': 'Gene born in 1. Henry born in 2. Ian born in 1. Hunter born in 2. Joshua born in'}, {'S1': '2', 'S2': '1', 'S3': '2', 'S4': '1', 'corr': ' 2', 'incorr': ' 1', 'text': 'Tyler born in 2. Keith born in 1. Stephen born in 2. Chelsea born in 1. Victoria born in'}, {'S1': '1', 'S2': '2', 'S3': '1', 'S4': '2', 'corr': ' 1', 'incorr': ' 2', 'text': 'Albert born in 1. Anne born in 2. Ian born in 1. Gordon born in 2. Ann born in'}, {'S1': '2', 'S2': '1', 'S3': '2', 'S4': '1', 'corr': ' 2', 'incorr': ' 1', 'text': 'Mary born in 2. Hunter born in 1. John born in 2. Gary born in 1. Jeff born in'}, {'S1': '1', 'S2': '2', 'S3': '1', 'S4': '2', 'corr': ' 1', 'incorr': ' 2', 'text': 'Stephen born in 1. Larry born in 2. James born in 1. Taylor born in 2. Marcus born in'}, {'S1': '2', 'S2': '1', 'S3': '2', 'S4': '1', 'corr': ' 2', 'incorr': ' 1', 'text': 'Diamond born in 2. Greg born in 1. Eric born in 2. Luke born in 1. Sean born in'}, {'S1': '1', 'S2': '2', 'S3': '1', 'S4': '2', 'corr': ' 1', 'incorr': ' 2', 'text': 'Albert born in 1. Adam born in 2. Alex born in 1. Charles born in 2. Kyle born in'}, {'S1': '2', 'S2': '1', 'S3': '2', 'S4': '1', 'corr': ' 2', 'incorr': ' 1', 'text': 'Terry born in 2. William born in 1. Christian born in 2. Edward born in 1. David born in'}, {'S1': '1', 'S2': '2', 'S3': '1', 'S4': '2', 'corr': ' 1', 'incorr': ' 2', 'text': 'Donald born in 1. Howard born in 2. Edward born in 1. Adam born in 2. Bruce born in'}, {'S1': '2', 'S2': '1', 'S3': '2', 'S4': '1', 'corr': ' 2', 'incorr': ' 1', 'text': 'Chelsea born in 2. Keith born in 1. Roger born in 2. Lisa born in 1. Jo born in'}, {'S1': '1', 'S2': '2', 'S3': '1', 'S4': '2', 'corr': ' 1', 'incorr': ' 2', 'text': 'Alan born in 1. William born in 2. Jo born in 1. Brandon born in 2. Tyler born in'}, {'S1': '2', 'S2': '1', 'S3': '2', 'S4': '1', 'corr': ' 2', 'incorr': ' 1', 'text': 'Jose born in 2. Richard born in 1. Kelly born in 2. Christian born in 1. Matthew born in'}, {'S1': '1', 'S2': '2', 'S3': '1', 'S4': '2', 'corr': ' 1', 'incorr': ' 2', 'text': 'Bruce born in 1. Richard born in 2. Madison born in 1. Sean born in 2. Andre born in'}, {'S1': '2', 'S2': '1', 'S3': '2', 'S4': '1', 'corr': ' 2', 'incorr': ' 1', 'text': 'Adam born in 2. Jack born in 1. Kevin born in 2. Alex born in 1. Craig born in'}, {'S1': '1', 'S2': '2', 'S3': '1', 'S4': '2', 'corr': ' 1', 'incorr': ' 2', 'text': 'Joseph born in 1. Edward born in 2. Luke born in 1. Chris born in 2. Keith born in'}, {'S1': '2', 'S2': '1', 'S3': '2', 'S4': '1', 'corr': ' 2', 'incorr': ' 1', 'text': 'Jack born in 2. Chris born in 1. Christian born in 2. Carl born in 1. Jamie born in'}, {'S1': '1', 'S2': '2', 'S3': '1', 'S4': '2', 'corr': ' 1', 'incorr': ' 2', 'text': 'Hunter born in 1. Robert born in 2. Sean born in 1. Gary born in 2. Jose born in'}, {'S1': '2', 'S2': '1', 'S3': '2', 'S4': '1', 'corr': ' 2', 'incorr': ' 1', 'text': 'Jo born in 2. Bruce born in 1. Edward born in 2. Donald born in 1. Jamie born in'}, {'S1': '1', 'S2': '2', 'S3': '1', 'S4': '2', 'corr': ' 1', 'incorr': ' 2', 'text': 'Brandon born in 1. Marc born in 2. Donald born in 1. Henry born in 2. Bruce born in'}, {'S1': '2', 'S2': '1', 'S3': '2', 'S4': '1', 'corr': ' 2', 'incorr': ' 1', 'text': 'Steve born in 2. Jessica born in 1. Brandon born in 2. Albert born in 1. Rick born in'}, {'S1': '1', 'S2': '2', 'S3': '1', 'S4': '2', 'corr': ' 1', 'incorr': ' 2', 'text': 'Andre born in 1. Jennifer born in 2. Scott born in 1. Edward born in 2. Henry born in'}, {'S1': '2', 'S2': '1', 'S3': '2', 'S4': '1', 'corr': ' 2', 'incorr': ' 1', 'text': 'Brandon born in 2. Stephen born in 1. James born in 2. Connor born in 1. Sean born in'}, {'S1': '1', 'S2': '2', 'S3': '1', 'S4': '2', 'corr': ' 1', 'incorr': ' 2', 'text': 'Madison born in 1. Mary born in 2. Anna born in 1. Carl born in 2. Jacob born in'}, {'S1': '2', 'S2': '1', 'S3': '2', 'S4': '1', 'corr': ' 2', 'incorr': ' 1', 'text': 'Mark born in 2. Jeremy born in 1. Sean born in 2. Ryan born in 1. Maria born in'}, {'S1': '1', 'S2': '2', 'S3': '1', 'S4': '2', 'corr': ' 1', 'incorr': ' 2', 'text': 'Bruce born in 1. Joshua born in 2. Tyler born in 1. Jo born in 2. Jimmy born in'}, {'S1': '2', 'S2': '1', 'S3': '2', 'S4': '1', 'corr': ' 2', 'incorr': ' 1', 'text': 'James born in 2. Eric born in 1. Chelsea born in 2. Aaron born in 1. Carl born in'}, {'S1': '1', 'S2': '2', 'S3': '1', 'S4': '2', 'corr': ' 1', 'incorr': ' 2', 'text': 'Allen born in 1. Chelsea born in 2. Kelly born in 1. Edward born in 2. Jeff born in'}, {'S1': '2', 'S2': '1', 'S3': '2', 'S4': '1', 'corr': ' 2', 'incorr': ' 1', 'text': 'Greg born in 2. Jon born in 1. Hunter born in 2. Ann born in 1. Gary born in'}, {'S1': '1', 'S2': '2', 'S3': '1', 'S4': '2', 'corr': ' 1', 'incorr': ' 2', 'text': 'Alan born in 1. Morgan born in 2. Peter born in 1. George born in 2. Chris born in'}, {'S1': '2', 'S2': '1', 'S3': '2', 'S4': '1', 'corr': ' 2', 'incorr': ' 1', 'text': 'Kyle born in 2. Thomas born in 1. Stephen born in 2. Peter born in 1. Scott born in'}, {'S1': '1', 'S2': '2', 'S3': '1', 'S4': '2', 'corr': ' 1', 'incorr': ' 2', 'text': 'James born in 1. Mark born in 2. Greg born in 1. Michael born in 2. Edward born in'}, {'S1': '2', 'S2': '1', 'S3': '2', 'S4': '1', 'corr': ' 2', 'incorr': ' 1', 'text': 'Justin born in 2. Andre born in 1. Roy born in 2. Brandon born in 1. Henry born in'}, {'S1': '1', 'S2': '2', 'S3': '1', 'S4': '2', 'corr': ' 1', 'incorr': ' 2', 'text': 'Joseph born in 1. Madison born in 2. Danny born in 1. April born in 2. Lee born in'}, {'S1': '2', 'S2': '1', 'S3': '2', 'S4': '1', 'corr': ' 2', 'incorr': ' 1', 'text': 'Jeff born in 2. Brandon born in 1. Richard born in 2. Aaron born in 1. Charles born in'}, {'S1': '1', 'S2': '2', 'S3': '1', 'S4': '2', 'corr': ' 1', 'incorr': ' 2', 'text': 'Jennifer born in 1. Rose born in 2. Gary born in 1. Jo born in 2. Aaron born in'}, {'S1': '2', 'S2': '1', 'S3': '2', 'S4': '1', 'corr': ' 2', 'incorr': ' 1', 'text': 'Michael born in 2. Christian born in 1. Sean born in 2. Christopher born in 1. William born in'}, {'S1': '1', 'S2': '2', 'S3': '1', 'S4': '2', 'corr': ' 1', 'incorr': ' 2', 'text': 'Connor born in 1. Greg born in 2. Steven born in 1. James born in 2. Taylor born in'}, {'S1': '2', 'S2': '1', 'S3': '2', 'S4': '1', 'corr': ' 2', 'incorr': ' 1', 'text': 'Marcus born in 2. Diamond born in 1. Gene born in 2. Chelsea born in 1. Jamie born in'}, {'S1': '1', 'S2': '2', 'S3': '1', 'S4': '2', 'corr': ' 1', 'incorr': ' 2', 'text': 'Kyle born in 1. Craig born in 2. Gary born in 1. Allen born in 2. Kim born in'}, {'S1': '2', 'S2': '1', 'S3': '2', 'S4': '1', 'corr': ' 2', 'incorr': ' 1', 'text': 'Luke born in 2. Edward born in 1. Terry born in 2. Richard born in 1. Arthur born in'}, {'S1': '1', 'S2': '2', 'S3': '1', 'S4': '2', 'corr': ' 1', 'incorr': ' 2', 'text': 'Jimmy born in 1. Craig born in 2. Ryan born in 1. Mary born in 2. Scott born in'}, {'S1': '2', 'S2': '1', 'S3': '2', 'S4': '1', 'corr': ' 2', 'incorr': ' 1', 'text': 'Steven born in 2. William born in 1. Laura born in 2. Thomas born in 1. Brandon born in'}, {'S1': '1', 'S2': '2', 'S3': '1', 'S4': '2', 'corr': ' 1', 'incorr': ' 2', 'text': 'Edward born in 1. Terry born in 2. Michael born in 1. Gene born in 2. Lee born in'}, {'S1': '2', 'S2': '1', 'S3': '2', 'S4': '1', 'corr': ' 2', 'incorr': ' 1', 'text': 'Rick born in 2. Chris born in 1. Jon born in 2. Stephen born in 1. Richard born in'}, {'S1': '1', 'S2': '2', 'S3': '1', 'S4': '2', 'corr': ' 1', 'incorr': ' 2', 'text': 'Kevin born in 1. April born in 2. Connor born in 1. Marc born in 2. Anna born in'}, {'S1': '2', 'S2': '1', 'S3': '2', 'S4': '1', 'corr': ' 2', 'incorr': ' 1', 'text': 'Rick born in 2. Brandon born in 1. Tom born in 2. Taylor born in 1. Chelsea born in'}, {'S1': '1', 'S2': '2', 'S3': '1', 'S4': '2', 'corr': ' 1', 'incorr': ' 2', 'text': 'Jon born in 1. Lee born in 2. Charles born in 1. Ian born in 2. Kelly born in'}, {'S1': '2', 'S2': '1', 'S3': '2', 'S4': '1', 'corr': ' 2', 'incorr': ' 1', 'text': 'Connor born in 2. Ian born in 1. Chris born in 2. Kelly born in 1. Jim born in'}, {'S1': '1', 'S2': '2', 'S3': '1', 'S4': '2', 'corr': ' 1', 'incorr': ' 2', 'text': 'Roger born in 1. Terry born in 2. Jim born in 1. Howard born in 2. Larry born in'}, {'S1': '2', 'S2': '1', 'S3': '2', 'S4': '1', 'corr': ' 2', 'incorr': ' 1', 'text': 'Connor born in 2. Steve born in 1. Marc born in 2. Elizabeth born in 1. April born in'}, {'S1': '1', 'S2': '2', 'S3': '1', 'S4': '2', 'corr': ' 1', 'incorr': ' 2', 'text': 'Eric born in 1. Ann born in 2. Gordon born in 1. Sean born in 2. Tom born in'}, {'S1': '2', 'S2': '1', 'S3': '2', 'S4': '1', 'corr': ' 2', 'incorr': ' 1', 'text': 'Marc born in 2. Laura born in 1. Allen born in 2. Aaron born in 1. Arthur born in'}, {'S1': '1', 'S2': '2', 'S3': '1', 'S4': '2', 'corr': ' 1', 'incorr': ' 2', 'text': 'Jose born in 1. Allen born in 2. Marcus born in 1. John born in 2. Paul born in'}, {'S1': '2', 'S2': '1', 'S3': '2', 'S4': '1', 'corr': ' 2', 'incorr': ' 1', 'text': 'Diamond born in 2. Ian born in 1. Bill born in 2. Keith born in 1. Gordon born in'}, {'S1': '1', 'S2': '2', 'S3': '1', 'S4': '2', 'corr': ' 1', 'incorr': ' 2', 'text': 'Jessica born in 1. Chris born in 2. Anna born in 1. Aaron born in 2. Scott born in'}, {'S1': '2', 'S2': '1', 'S3': '2', 'S4': '1', 'corr': ' 2', 'incorr': ' 1', 'text': 'James born in 2. Keith born in 1. Steven born in 2. Peter born in 1. Brandon born in'}, {'S1': '1', 'S2': '2', 'S3': '1', 'S4': '2', 'corr': ' 1', 'incorr': ' 2', 'text': 'Jeff born in 1. Diamond born in 2. Roger born in 1. Adam born in 2. Gene born in'}, {'S1': '2', 'S2': '1', 'S3': '2', 'S4': '1', 'corr': ' 2', 'incorr': ' 1', 'text': 'Craig born in 2. Maria born in 1. Justin born in 2. Roger born in 1. Robert born in'}, {'S1': '1', 'S2': '2', 'S3': '1', 'S4': '2', 'corr': ' 1', 'incorr': ' 2', 'text': 'Stephen born in 1. Brandon born in 2. April born in 1. Marc born in 2. Jeff born in'}, {'S1': '2', 'S2': '1', 'S3': '2', 'S4': '1', 'corr': ' 2', 'incorr': ' 1', 'text': 'Brandon born in 2. Tyler born in 1. Danny born in 2. Thomas born in 1. Anna born in'}, {'S1': '1', 'S2': '2', 'S3': '1', 'S4': '2', 'corr': ' 1', 'incorr': ' 2', 'text': 'Aaron born in 1. Diamond born in 2. Arthur born in 1. Jennifer born in 2. Craig born in'}, {'S1': '2', 'S2': '1', 'S3': '2', 'S4': '1', 'corr': ' 2', 'incorr': ' 1', 'text': 'Ian born in 2. Rose born in 1. Marcus born in 2. George born in 1. Laura born in'}, {'S1': '1', 'S2': '2', 'S3': '1', 'S4': '2', 'corr': ' 1', 'incorr': ' 2', 'text': 'Morgan born in 1. Jamie born in 2. Steven born in 1. Mary born in 2. Chris born in'}, {'S1': '2', 'S2': '1', 'S3': '2', 'S4': '1', 'corr': ' 2', 'incorr': ' 1', 'text': 'Jamie born in 2. Richard born in 1. Tom born in 2. Anne born in 1. Jo born in'}, {'S1': '1', 'S2': '2', 'S3': '1', 'S4': '2', 'corr': ' 1', 'incorr': ' 2', 'text': 'Connor born in 1. Eric born in 2. Hunter born in 1. Brandon born in 2. George born in'}, {'S1': '2', 'S2': '1', 'S3': '2', 'S4': '1', 'corr': ' 2', 'incorr': ' 1', 'text': 'Albert born in 2. Jack born in 1. Paul born in 2. Mark born in 1. Arthur born in'}, {'S1': '1', 'S2': '2', 'S3': '1', 'S4': '2', 'corr': ' 1', 'incorr': ' 2', 'text': 'Anne born in 1. Taylor born in 2. Jay born in 1. Tyler born in 2. Rachel born in'}, {'S1': '2', 'S2': '1', 'S3': '2', 'S4': '1', 'corr': ' 2', 'incorr': ' 1', 'text': 'Bruce born in 2. Peter born in 1. Jose born in 2. Ann born in 1. Christopher born in'}, {'S1': '1', 'S2': '2', 'S3': '1', 'S4': '2', 'corr': ' 1', 'incorr': ' 2', 'text': 'Marcus born in 1. Jose born in 2. Anne born in 1. Joseph born in 2. Connor born in'}, {'S1': '2', 'S2': '1', 'S3': '2', 'S4': '1', 'corr': ' 2', 'incorr': ' 1', 'text': 'Steve born in 2. Gordon born in 1. Steven born in 2. John born in 1. Peter born in'}, {'S1': '1', 'S2': '2', 'S3': '1', 'S4': '2', 'corr': ' 1', 'incorr': ' 2', 'text': 'David born in 1. Terry born in 2. Michael born in 1. Sean born in 2. April born in'}, {'S1': '2', 'S2': '1', 'S3': '2', 'S4': '1', 'corr': ' 2', 'incorr': ' 1', 'text': 'Morgan born in 2. Mary born in 1. Alan born in 2. Aaron born in 1. Bill born in'}, {'S1': '1', 'S2': '2', 'S3': '1', 'S4': '2', 'corr': ' 1', 'incorr': ' 2', 'text': 'Ann born in 1. Chelsea born in 2. Howard born in 1. Laura born in 2. Donald born in'}, {'S1': '2', 'S2': '1', 'S3': '2', 'S4': '1', 'corr': ' 2', 'incorr': ' 1', 'text': 'Kevin born in 2. Terry born in 1. Maria born in 2. Victoria born in 1. Jessica born in'}, {'S1': '1', 'S2': '2', 'S3': '1', 'S4': '2', 'corr': ' 1', 'incorr': ' 2', 'text': 'Danny born in 1. Justin born in 2. Jon born in 1. Craig born in 2. Keith born in'}, {'S1': '2', 'S2': '1', 'S3': '2', 'S4': '1', 'corr': ' 2', 'incorr': ' 1', 'text': 'Marc born in 2. April born in 1. Diamond born in 2. Jimmy born in 1. Anthony born in'}, {'S1': '1', 'S2': '2', 'S3': '1', 'S4': '2', 'corr': ' 1', 'incorr': ' 2', 'text': 'Tyler born in 1. Maria born in 2. Jim born in 1. Laura born in 2. Anne born in'}, {'S1': '2', 'S2': '1', 'S3': '2', 'S4': '1', 'corr': ' 2', 'incorr': ' 1', 'text': 'Jose born in 2. Howard born in 1. Bill born in 2. Ian born in 1. Jimmy born in'}, {'S1': '1', 'S2': '2', 'S3': '1', 'S4': '2', 'corr': ' 1', 'incorr': ' 2', 'text': 'Jennifer born in 1. Gordon born in 2. Diamond born in 1. Charles born in 2. Steve born in'}, {'S1': '2', 'S2': '1', 'S3': '2', 'S4': '1', 'corr': ' 2', 'incorr': ' 1', 'text': 'Gene born in 2. Donald born in 1. Hunter born in 2. Maria born in 1. Albert born in'}, {'S1': '1', 'S2': '2', 'S3': '1', 'S4': '2', 'corr': ' 1', 'incorr': ' 2', 'text': 'John born in 1. Jessica born in 2. Jennifer born in 1. Arthur born in 2. Stephen born in'}, {'S1': '2', 'S2': '1', 'S3': '2', 'S4': '1', 'corr': ' 2', 'incorr': ' 1', 'text': 'Kyle born in 2. Tyler born in 1. Danny born in 2. William born in 1. Chelsea born in'}, {'S1': '1', 'S2': '2', 'S3': '1', 'S4': '2', 'corr': ' 1', 'incorr': ' 2', 'text': 'Ian born in 1. Jo born in 2. Rose born in 1. Aaron born in 2. Maria born in'}, {'S1': '2', 'S2': '1', 'S3': '2', 'S4': '1', 'corr': ' 2', 'incorr': ' 1', 'text': 'Marc born in 2. Bruce born in 1. Christian born in 2. Rachel born in 1. Bill born in'}, {'S1': '1', 'S2': '2', 'S3': '1', 'S4': '2', 'corr': ' 1', 'incorr': ' 2', 'text': 'Jacob born in 1. Christian born in 2. Anne born in 1. Marcus born in 2. Steven born in'}, {'S1': '2', 'S2': '1', 'S3': '2', 'S4': '1', 'corr': ' 2', 'incorr': ' 1', 'text': 'Jack born in 2. Paul born in 1. Kyle born in 2. Mary born in 1. Jo born in'}, {'S1': '1', 'S2': '2', 'S3': '1', 'S4': '2', 'corr': ' 1', 'incorr': ' 2', 'text': 'Jay born in 1. Jeremy born in 2. Bruce born in 1. Robert born in 2. Kyle born in'}, {'S1': '2', 'S2': '1', 'S3': '2', 'S4': '1', 'corr': ' 2', 'incorr': ' 1', 'text': 'Edward born in 2. Christian born in 1. Mary born in 2. Anthony born in 1. Michael born in'}, {'S1': '1', 'S2': '2', 'S3': '1', 'S4': '2', 'corr': ' 1', 'incorr': ' 2', 'text': 'Keith born in 1. Allen born in 2. Christian born in 1. Jennifer born in 2. Henry born in'}, {'S1': '2', 'S2': '1', 'S3': '2', 'S4': '1', 'corr': ' 2', 'incorr': ' 1', 'text': 'Kyle born in 2. Mike born in 1. Luke born in 2. Ann born in 1. Elizabeth born in'}, {'S1': '1', 'S2': '2', 'S3': '1', 'S4': '2', 'corr': ' 1', 'incorr': ' 2', 'text': 'April born in 1. Mike born in 2. Allen born in 1. Charles born in 2. Joseph born in'}, {'S1': '2', 'S2': '1', 'S3': '2', 'S4': '1', 'corr': ' 2', 'incorr': ' 1', 'text': 'Roy born in 2. Elizabeth born in 1. William born in 2. Jessica born in 1. Jeremy born in'}, {'S1': '1', 'S2': '2', 'S3': '1', 'S4': '2', 'corr': ' 1', 'incorr': ' 2', 'text': 'Donald born in 1. Joseph born in 2. Robert born in 1. Anna born in 2. Anne born in'}, {'S1': '2', 'S2': '1', 'S3': '2', 'S4': '1', 'corr': ' 2', 'incorr': ' 1', 'text': 'Tom born in 2. Anne born in 1. Rick born in 2. Hunter born in 1. Alex born in'}, {'S1': '1', 'S2': '2', 'S3': '1', 'S4': '2', 'corr': ' 1', 'incorr': ' 2', 'text': 'Marcus born in 1. Chris born in 2. Gary born in 1. Keith born in 2. Arthur born in'}, {'S1': '2', 'S2': '1', 'S3': '2', 'S4': '1', 'corr': ' 2', 'incorr': ' 1', 'text': 'Sean born in 2. Henry born in 1. Jo born in 2. Keith born in 1. Matthew born in'}, {'S1': '1', 'S2': '2', 'S3': '1', 'S4': '2', 'corr': ' 1', 'incorr': ' 2', 'text': 'Bill born in 1. Connor born in 2. Anna born in 1. Scott born in 2. April born in'}, {'S1': '2', 'S2': '1', 'S3': '2', 'S4': '1', 'corr': ' 2', 'incorr': ' 1', 'text': 'Gene born in 2. Sean born in 1. David born in 2. Donald born in 1. Marc born in'}, {'S1': '1', 'S2': '2', 'S3': '1', 'S4': '2', 'corr': ' 1', 'incorr': ' 2', 'text': 'Diamond born in 1. Jeff born in 2. Roger born in 1. Jacob born in 2. Charles born in'}, {'S1': '2', 'S2': '1', 'S3': '2', 'S4': '1', 'corr': ' 2', 'incorr': ' 1', 'text': 'Craig born in 2. Jose born in 1. Justin born in 2. Taylor born in 1. Larry born in'}, {'S1': '1', 'S2': '2', 'S3': '1', 'S4': '2', 'corr': ' 1', 'incorr': ' 2', 'text': 'Allen born in 1. Chelsea born in 2. Jimmy born in 1. Lee born in 2. Stephen born in'}, {'S1': '2', 'S2': '1', 'S3': '2', 'S4': '1', 'corr': ' 2', 'incorr': ' 1', 'text': 'Hunter born in 2. Gene born in 1. Jack born in 2. Marcus born in 1. Donald born in'}, {'S1': '1', 'S2': '2', 'S3': '1', 'S4': '2', 'corr': ' 1', 'incorr': ' 2', 'text': 'Mary born in 1. Roy born in 2. Morgan born in 1. Christian born in 2. Brandon born in'}, {'S1': '2', 'S2': '1', 'S3': '2', 'S4': '1', 'corr': ' 2', 'incorr': ' 1', 'text': 'Jeremy born in 2. Taylor born in 1. Larry born in 2. Kelly born in 1. Chris born in'}, {'S1': '1', 'S2': '2', 'S3': '1', 'S4': '2', 'corr': ' 1', 'incorr': ' 2', 'text': 'Matthew born in 1. Jessica born in 2. Tyler born in 1. Sean born in 2. Taylor born in'}, {'S1': '2', 'S2': '1', 'S3': '2', 'S4': '1', 'corr': ' 2', 'incorr': ' 1', 'text': 'Connor born in 2. Mary born in 1. Victoria born in 2. Chelsea born in 1. Tyler born in'}, {'S1': '1', 'S2': '2', 'S3': '1', 'S4': '2', 'corr': ' 1', 'incorr': ' 2', 'text': 'Justin born in 1. Henry born in 2. Danny born in 1. Howard born in 2. Charles born in'}, {'S1': '2', 'S2': '1', 'S3': '2', 'S4': '1', 'corr': ' 2', 'incorr': ' 1', 'text': 'Jamie born in 2. Jose born in 1. Jack born in 2. John born in 1. Roy born in'}, {'S1': '1', 'S2': '2', 'S3': '1', 'S4': '2', 'corr': ' 1', 'incorr': ' 2', 'text': 'Sean born in 1. Danny born in 2. Maria born in 1. Charles born in 2. Bill born in'}, {'S1': '2', 'S2': '1', 'S3': '2', 'S4': '1', 'corr': ' 2', 'incorr': ' 1', 'text': 'Tyler born in 2. Mike born in 1. Diamond born in 2. John born in 1. Bruce born in'}, {'S1': '1', 'S2': '2', 'S3': '1', 'S4': '2', 'corr': ' 1', 'incorr': ' 2', 'text': 'Ryan born in 1. Rose born in 2. Christopher born in 1. Jack born in 2. Victoria born in'}, {'S1': '2', 'S2': '1', 'S3': '2', 'S4': '1', 'corr': ' 2', 'incorr': ' 1', 'text': 'Arthur born in 2. Taylor born in 1. Tyler born in 2. Carl born in 1. Mark born in'}, {'S1': '1', 'S2': '2', 'S3': '1', 'S4': '2', 'corr': ' 1', 'incorr': ' 2', 'text': 'Arthur born in 1. Marcus born in 2. Chelsea born in 1. Diamond born in 2. Bruce born in'}, {'S1': '2', 'S2': '1', 'S3': '2', 'S4': '1', 'corr': ' 2', 'incorr': ' 1', 'text': 'Lee born in 2. Jeff born in 1. Eric born in 2. Rose born in 1. Joseph born in'}, {'S1': '1', 'S2': '2', 'S3': '1', 'S4': '2', 'corr': ' 1', 'incorr': ' 2', 'text': 'Steve born in 1. Donald born in 2. Ian born in 1. Tyler born in 2. Carl born in'}, {'S1': '2', 'S2': '1', 'S3': '2', 'S4': '1', 'corr': ' 2', 'incorr': ' 1', 'text': 'Gordon born in 2. Diamond born in 1. Ian born in 2. Chris born in 1. Jeremy born in'}, {'S1': '1', 'S2': '2', 'S3': '1', 'S4': '2', 'corr': ' 1', 'incorr': ' 2', 'text': 'James born in 1. Alan born in 2. Thomas born in 1. Madison born in 2. Greg born in'}, {'S1': '2', 'S2': '1', 'S3': '2', 'S4': '1', 'corr': ' 2', 'incorr': ' 1', 'text': 'Luke born in 2. Jack born in 1. James born in 2. Kelly born in 1. Henry born in'}, {'S1': '1', 'S2': '2', 'S3': '1', 'S4': '2', 'corr': ' 1', 'incorr': ' 2', 'text': 'Gene born in 1. Morgan born in 2. Jamie born in 1. Albert born in 2. Gordon born in'}, {'S1': '2', 'S2': '1', 'S3': '2', 'S4': '1', 'corr': ' 2', 'incorr': ' 1', 'text': 'Ian born in 2. Terry born in 1. Laura born in 2. Anna born in 1. April born in'}, {'S1': '1', 'S2': '2', 'S3': '1', 'S4': '2', 'corr': ' 1', 'incorr': ' 2', 'text': 'Ann born in 1. Chris born in 2. Lee born in 1. Kevin born in 2. James born in'}, {'S1': '2', 'S2': '1', 'S3': '2', 'S4': '1', 'corr': ' 2', 'incorr': ' 1', 'text': 'Christopher born in 2. Michael born in 1. Sean born in 2. Keith born in 1. Jay born in'}, {'S1': '1', 'S2': '2', 'S3': '1', 'S4': '2', 'corr': ' 1', 'incorr': ' 2', 'text': 'Terry born in 1. Chelsea born in 2. Rachel born in 1. Adam born in 2. Mark born in'}, {'S1': '2', 'S2': '1', 'S3': '2', 'S4': '1', 'corr': ' 2', 'incorr': ' 1', 'text': 'Tom born in 2. Jacob born in 1. Roger born in 2. Gordon born in 1. Brandon born in'}, {'S1': '1', 'S2': '2', 'S3': '1', 'S4': '2', 'corr': ' 1', 'incorr': ' 2', 'text': 'Bill born in 1. Aaron born in 2. Alan born in 1. George born in 2. Kyle born in'}, {'S1': '2', 'S2': '1', 'S3': '2', 'S4': '1', 'corr': ' 2', 'incorr': ' 1', 'text': 'Luke born in 2. Tom born in 1. Allen born in 2. Anna born in 1. Gene born in'}, {'S1': '1', 'S2': '2', 'S3': '1', 'S4': '2', 'corr': ' 1', 'incorr': ' 2', 'text': 'Madison born in 1. Jessica born in 2. Greg born in 1. Joseph born in 2. Joshua born in'}, {'S1': '2', 'S2': '1', 'S3': '2', 'S4': '1', 'corr': ' 2', 'incorr': ' 1', 'text': 'Robert born in 2. Carl born in 1. Terry born in 2. Madison born in 1. Alan born in'}, {'S1': '1', 'S2': '2', 'S3': '1', 'S4': '2', 'corr': ' 1', 'incorr': ' 2', 'text': 'Hunter born in 1. Jimmy born in 2. Chelsea born in 1. Arthur born in 2. David born in'}, {'S1': '2', 'S2': '1', 'S3': '2', 'S4': '1', 'corr': ' 2', 'incorr': ' 1', 'text': 'Jessica born in 2. Kim born in 1. Joseph born in 2. Elizabeth born in 1. Larry born in'}, {'S1': '1', 'S2': '2', 'S3': '1', 'S4': '2', 'corr': ' 1', 'incorr': ' 2', 'text': 'Gene born in 1. Rick born in 2. Greg born in 1. Alan born in 2. April born in'}, {'S1': '2', 'S2': '1', 'S3': '2', 'S4': '1', 'corr': ' 2', 'incorr': ' 1', 'text': 'Aaron born in 2. Connor born in 1. Jimmy born in 2. Lee born in 1. Rick born in'}, {'S1': '1', 'S2': '2', 'S3': '1', 'S4': '2', 'corr': ' 1', 'incorr': ' 2', 'text': 'John born in 1. Chris born in 2. Terry born in 1. Paul born in 2. Roy born in'}, {'S1': '2', 'S2': '1', 'S3': '2', 'S4': '1', 'corr': ' 2', 'incorr': ' 1', 'text': 'Richard born in 2. Jeff born in 1. Kelly born in 2. Andre born in 1. Luke born in'}, {'S1': '1', 'S2': '2', 'S3': '1', 'S4': '2', 'corr': ' 1', 'incorr': ' 2', 'text': 'Anthony born in 1. James born in 2. Paul born in 1. Thomas born in 2. Kevin born in'}, {'S1': '2', 'S2': '1', 'S3': '2', 'S4': '1', 'corr': ' 2', 'incorr': ' 1', 'text': 'Paul born in 2. Jon born in 1. Tom born in 2. Jamie born in 1. Adam born in'}, {'S1': '1', 'S2': '2', 'S3': '1', 'S4': '2', 'corr': ' 1', 'incorr': ' 2', 'text': 'Kevin born in 1. Greg born in 2. Kelly born in 1. Anna born in 2. Arthur born in'}, {'S1': '2', 'S2': '1', 'S3': '2', 'S4': '1', 'corr': ' 2', 'incorr': ' 1', 'text': 'Larry born in 2. Stephen born in 1. Aaron born in 2. Paul born in 1. Mark born in'}, {'S1': '1', 'S2': '2', 'S3': '1', 'S4': '2', 'corr': ' 1', 'incorr': ' 2', 'text': 'Jamie born in 1. Matthew born in 2. Maria born in 1. Hunter born in 2. Morgan born in'}, {'S1': '2', 'S2': '1', 'S3': '2', 'S4': '1', 'corr': ' 2', 'incorr': ' 1', 'text': 'Greg born in 2. Tyler born in 1. Stephen born in 2. Anna born in 1. Terry born in'}, {'S1': '1', 'S2': '2', 'S3': '1', 'S4': '2', 'corr': ' 1', 'incorr': ' 2', 'text': 'Matthew born in 1. Aaron born in 2. Carl born in 1. Rick born in 2. Keith born in'}, {'S1': '2', 'S2': '1', 'S3': '2', 'S4': '1', 'corr': ' 2', 'incorr': ' 1', 'text': 'Eric born in 2. Jay born in 1. Tom born in 2. Luke born in 1. Robert born in'}, {'S1': '1', 'S2': '2', 'S3': '1', 'S4': '2', 'corr': ' 1', 'incorr': ' 2', 'text': 'Michael born in 1. Kim born in 2. Hunter born in 1. Jeff born in 2. Rose born in'}, {'S1': '2', 'S2': '1', 'S3': '2', 'S4': '1', 'corr': ' 2', 'incorr': ' 1', 'text': 'Justin born in 2. Jay born in 1. Allen born in 2. Jeff born in 1. Jacob born in'}, {'S1': '1', 'S2': '2', 'S3': '1', 'S4': '2', 'corr': ' 1', 'incorr': ' 2', 'text': 'Peter born in 1. Elizabeth born in 2. Kyle born in 1. Jennifer born in 2. Mary born in'}, {'S1': '2', 'S2': '1', 'S3': '2', 'S4': '1', 'corr': ' 2', 'incorr': ' 1', 'text': 'Mark born in 2. Anthony born in 1. Taylor born in 2. Jose born in 1. Adam born in'}, {'S1': '1', 'S2': '2', 'S3': '1', 'S4': '2', 'corr': ' 1', 'incorr': ' 2', 'text': 'Adam born in 1. Joseph born in 2. Tom born in 1. Brandon born in 2. Steven born in'}, {'S1': '2', 'S2': '1', 'S3': '2', 'S4': '1', 'corr': ' 2', 'incorr': ' 1', 'text': 'Gene born in 2. Steven born in 1. Taylor born in 2. Rachel born in 1. Kim born in'}, {'S1': '1', 'S2': '2', 'S3': '1', 'S4': '2', 'corr': ' 1', 'incorr': ' 2', 'text': 'Ryan born in 1. Terry born in 2. Charles born in 1. William born in 2. Keith born in'}, {'S1': '2', 'S2': '1', 'S3': '2', 'S4': '1', 'corr': ' 2', 'incorr': ' 1', 'text': 'Jack born in 2. Morgan born in 1. Maria born in 2. Kelly born in 1. Jamie born in'}, {'S1': '1', 'S2': '2', 'S3': '1', 'S4': '2', 'corr': ' 1', 'incorr': ' 2', 'text': 'Peter born in 1. Tom born in 2. Joseph born in 1. Henry born in 2. Edward born in'}, {'S1': '2', 'S2': '1', 'S3': '2', 'S4': '1', 'corr': ' 2', 'incorr': ' 1', 'text': 'Ann born in 2. Alan born in 1. Edward born in 2. Morgan born in 1. Gene born in'}, {'S1': '1', 'S2': '2', 'S3': '1', 'S4': '2', 'corr': ' 1', 'incorr': ' 2', 'text': 'Peter born in 1. Jack born in 2. Diamond born in 1. Adam born in 2. Jon born in'}, {'S1': '2', 'S2': '1', 'S3': '2', 'S4': '1', 'corr': ' 2', 'incorr': ' 1', 'text': 'Tyler born in 2. James born in 1. Greg born in 2. Andre born in 1. Christian born in'}, {'S1': '1', 'S2': '2', 'S3': '1', 'S4': '2', 'corr': ' 1', 'incorr': ' 2', 'text': 'Allen born in 1. Thomas born in 2. Steven born in 1. Steve born in 2. Adam born in'}, {'S1': '2', 'S2': '1', 'S3': '2', 'S4': '1', 'corr': ' 2', 'incorr': ' 1', 'text': 'Jamie born in 2. Brandon born in 1. Terry born in 2. Donald born in 1. Tom born in'}, {'S1': '1', 'S2': '2', 'S3': '1', 'S4': '2', 'corr': ' 1', 'incorr': ' 2', 'text': 'Diamond born in 1. Jimmy born in 2. Anne born in 1. Hunter born in 2. Rachel born in'}, {'S1': '2', 'S2': '1', 'S3': '2', 'S4': '1', 'corr': ' 2', 'incorr': ' 1', 'text': 'Chris born in 2. Roy born in 1. Gene born in 2. Arthur born in 1. Scott born in'}, {'S1': '1', 'S2': '2', 'S3': '1', 'S4': '2', 'corr': ' 1', 'incorr': ' 2', 'text': 'Justin born in 1. Donald born in 2. Alan born in 1. Thomas born in 2. Rose born in'}, {'S1': '2', 'S2': '1', 'S3': '2', 'S4': '1', 'corr': ' 2', 'incorr': ' 1', 'text': 'Taylor born in 2. James born in 1. Ryan born in 2. Connor born in 1. Jacob born in'}, {'S1': '1', 'S2': '2', 'S3': '1', 'S4': '2', 'corr': ' 1', 'incorr': ' 2', 'text': 'Henry born in 1. Alan born in 2. Keith born in 1. Justin born in 2. David born in'}, {'S1': '2', 'S2': '1', 'S3': '2', 'S4': '1', 'corr': ' 2', 'incorr': ' 1', 'text': 'Ian born in 2. Peter born in 1. Bill born in 2. Rachel born in 1. Jacob born in'}, {'S1': '1', 'S2': '2', 'S3': '1', 'S4': '2', 'corr': ' 1', 'incorr': ' 2', 'text': 'Jon born in 1. Jose born in 2. Kim born in 1. Tyler born in 2. Diamond born in'}, {'S1': '2', 'S2': '1', 'S3': '2', 'S4': '1', 'corr': ' 2', 'incorr': ' 1', 'text': 'Stephen born in 2. David born in 1. Joshua born in 2. Michael born in 1. Sean born in'}, {'S1': '1', 'S2': '2', 'S3': '1', 'S4': '2', 'corr': ' 1', 'incorr': ' 2', 'text': 'Jon born in 1. Joshua born in 2. Donald born in 1. Scott born in 2. James born in'}, {'S1': '2', 'S2': '1', 'S3': '2', 'S4': '1', 'corr': ' 2', 'incorr': ' 1', 'text': 'Marcus born in 2. Stephen born in 1. April born in 2. Steve born in 1. Taylor born in'}, {'S1': '1', 'S2': '2', 'S3': '1', 'S4': '2', 'corr': ' 1', 'incorr': ' 2', 'text': 'Lisa born in 1. Marc born in 2. Bruce born in 1. Marcus born in 2. Gordon born in'}, {'S1': '2', 'S2': '1', 'S3': '2', 'S4': '1', 'corr': ' 2', 'incorr': ' 1', 'text': 'Carl born in 2. Michael born in 1. Bill born in 2. Justin born in 1. James born in'}, {'S1': '1', 'S2': '2', 'S3': '1', 'S4': '2', 'corr': ' 1', 'incorr': ' 2', 'text': 'Justin born in 1. Jim born in 2. Rose born in 1. Paul born in 2. Steven born in'}, {'S1': '2', 'S2': '1', 'S3': '2', 'S4': '1', 'corr': ' 2', 'incorr': ' 1', 'text': 'Justin born in 2. Jessica born in 1. Rose born in 2. Andre born in 1. Jose born in'}, {'S1': '1', 'S2': '2', 'S3': '1', 'S4': '2', 'corr': ' 1', 'incorr': ' 2', 'text': 'Madison born in 1. Robert born in 2. Jennifer born in 1. Lisa born in 2. Rose born in'}, {'S1': '2', 'S2': '1', 'S3': '2', 'S4': '1', 'corr': ' 2', 'incorr': ' 1', 'text': 'Ian born in 2. Jeff born in 1. Jay born in 2. Stephen born in 1. Mark born in'}, {'S1': '1', 'S2': '2', 'S3': '1', 'S4': '2', 'corr': ' 1', 'incorr': ' 2', 'text': 'Kyle born in 1. Jim born in 2. Jimmy born in 1. Roy born in 2. Ryan born in'}, {'S1': '2', 'S2': '1', 'S3': '2', 'S4': '1', 'corr': ' 2', 'incorr': ' 1', 'text': 'Andre born in 2. Jack born in 1. Sean born in 2. Jeremy born in 1. Chelsea born in'}, {'S1': '1', 'S2': '2', 'S3': '1', 'S4': '2', 'corr': ' 1', 'incorr': ' 2', 'text': 'Brandon born in 1. Christopher born in 2. Andre born in 1. Danny born in 2. Matthew born in'}, {'S1': '2', 'S2': '1', 'S3': '2', 'S4': '1', 'corr': ' 2', 'incorr': ' 1', 'text': 'Kyle born in 2. Kevin born in 1. Chelsea born in 2. Bruce born in 1. Greg born in'}, {'S1': '1', 'S2': '2', 'S3': '1', 'S4': '2', 'corr': ' 1', 'incorr': ' 2', 'text': 'Hunter born in 1. George born in 2. Edward born in 1. Allen born in 2. Morgan born in'}, {'S1': '2', 'S2': '1', 'S3': '2', 'S4': '1', 'corr': ' 2', 'incorr': ' 1', 'text': 'Ryan born in 2. Sean born in 1. Jeremy born in 2. Edward born in 1. Bill born in'}, {'S1': '1', 'S2': '2', 'S3': '1', 'S4': '2', 'corr': ' 1', 'incorr': ' 2', 'text': 'Jon born in 1. Mike born in 2. Richard born in 1. Eric born in 2. Rick born in'}, {'S1': '2', 'S2': '1', 'S3': '2', 'S4': '1', 'corr': ' 2', 'incorr': ' 1', 'text': 'Lee born in 2. Peter born in 1. Steven born in 2. Jennifer born in 1. Matthew born in'}, {'S1': '1', 'S2': '2', 'S3': '1', 'S4': '2', 'corr': ' 1', 'incorr': ' 2', 'text': 'Danny born in 1. Marc born in 2. Tyler born in 1. Jose born in 2. Gary born in'}, {'S1': '2', 'S2': '1', 'S3': '2', 'S4': '1', 'corr': ' 2', 'incorr': ' 1', 'text': 'Peter born in 2. Michael born in 1. Marc born in 2. Tom born in 1. Jennifer born in'}, {'S1': '1', 'S2': '2', 'S3': '1', 'S4': '2', 'corr': ' 1', 'incorr': ' 2', 'text': 'Morgan born in 1. Gene born in 2. Gary born in 1. Jacob born in 2. Kelly born in'}, {'S1': '2', 'S2': '1', 'S3': '2', 'S4': '1', 'corr': ' 2', 'incorr': ' 1', 'text': 'Albert born in 2. Jimmy born in 1. Jim born in 2. Paul born in 1. Stephen born in'}, {'S1': '1', 'S2': '2', 'S3': '1', 'S4': '2', 'corr': ' 1', 'incorr': ' 2', 'text': 'George born in 1. Jamie born in 2. David born in 1. Robert born in 2. Elizabeth born in'}, {'S1': '2', 'S2': '1', 'S3': '2', 'S4': '1', 'corr': ' 2', 'incorr': ' 1', 'text': 'Rick born in 2. Brandon born in 1. Laura born in 2. Michael born in 1. Greg born in'}, {'S1': '1', 'S2': '2', 'S3': '1', 'S4': '2', 'corr': ' 1', 'incorr': ' 2', 'text': 'Lisa born in 1. Arthur born in 2. Tyler born in 1. Jacob born in 2. Kyle born in'}, {'S1': '2', 'S2': '1', 'S3': '2', 'S4': '1', 'corr': ' 2', 'incorr': ' 1', 'text': 'Ann born in 2. David born in 1. Christopher born in 2. John born in 1. Gordon born in'}, {'S1': '1', 'S2': '2', 'S3': '1', 'S4': '2', 'corr': ' 1', 'incorr': ' 2', 'text': 'Jeff born in 1. Kim born in 2. Mary born in 1. Peter born in 2. Jo born in'}, {'S1': '2', 'S2': '1', 'S3': '2', 'S4': '1', 'corr': ' 2', 'incorr': ' 1', 'text': 'Ann born in 2. Craig born in 1. Steven born in 2. Aaron born in 1. Gordon born in'}, {'S1': '1', 'S2': '2', 'S3': '1', 'S4': '2', 'corr': ' 1', 'incorr': ' 2', 'text': 'Jessica born in 1. Taylor born in 2. Anna born in 1. Greg born in 2. Connor born in'}, {'S1': '2', 'S2': '1', 'S3': '2', 'S4': '1', 'corr': ' 2', 'incorr': ' 1', 'text': 'Rachel born in 2. Aaron born in 1. Jo born in 2. Laura born in 1. Marc born in'}, {'S1': '1', 'S2': '2', 'S3': '1', 'S4': '2', 'corr': ' 1', 'incorr': ' 2', 'text': 'Luke born in 1. Jacob born in 2. Keith born in 1. Jimmy born in 2. Connor born in'}, {'S1': '2', 'S2': '1', 'S3': '2', 'S4': '1', 'corr': ' 2', 'incorr': ' 1', 'text': 'Charles born in 2. Joshua born in 1. Chris born in 2. John born in 1. Jon born in'}, {'S1': '1', 'S2': '2', 'S3': '1', 'S4': '2', 'corr': ' 1', 'incorr': ' 2', 'text': 'Larry born in 1. Kim born in 2. Chelsea born in 1. Rick born in 2. Morgan born in'}, {'S1': '2', 'S2': '1', 'S3': '2', 'S4': '1', 'corr': ' 2', 'incorr': ' 1', 'text': 'Kelly born in 2. Thomas born in 1. Carl born in 2. Keith born in 1. Diamond born in'}, {'S1': '1', 'S2': '2', 'S3': '1', 'S4': '2', 'corr': ' 1', 'incorr': ' 2', 'text': 'Jon born in 1. Kevin born in 2. Jay born in 1. Lee born in 2. Kim born in'}, {'S1': '2', 'S2': '1', 'S3': '2', 'S4': '1', 'corr': ' 2', 'incorr': ' 1', 'text': 'Lisa born in 2. Brandon born in 1. Kevin born in 2. Kim born in 1. Allen born in'}, {'S1': '1', 'S2': '2', 'S3': '1', 'S4': '2', 'corr': ' 1', 'incorr': ' 2', 'text': 'Anna born in 1. Maria born in 2. Marc born in 1. Jo born in 2. Tyler born in'}, {'S1': '2', 'S2': '1', 'S3': '2', 'S4': '1', 'corr': ' 2', 'incorr': ' 1', 'text': 'Anthony born in 2. Lisa born in 1. Elizabeth born in 2. Kim born in 1. Robert born in'}, {'S1': '1', 'S2': '2', 'S3': '1', 'S4': '2', 'corr': ' 1', 'incorr': ' 2', 'text': 'William born in 1. Roy born in 2. Anne born in 1. Ian born in 2. Chris born in'}, {'S1': '2', 'S2': '1', 'S3': '2', 'S4': '1', 'corr': ' 2', 'incorr': ' 1', 'text': 'Roger born in 2. Joseph born in 1. Jamie born in 2. Rachel born in 1. Jim born in'}, {'S1': '1', 'S2': '2', 'S3': '1', 'S4': '2', 'corr': ' 1', 'incorr': ' 2', 'text': 'Stephen born in 1. Gene born in 2. Jack born in 1. George born in 2. Jo born in'}, {'S1': '2', 'S2': '1', 'S3': '2', 'S4': '1', 'corr': ' 2', 'incorr': ' 1', 'text': 'Jeremy born in 2. Jo born in 1. Roy born in 2. Arthur born in 1. Lisa born in'}, {'S1': '1', 'S2': '2', 'S3': '1', 'S4': '2', 'corr': ' 1', 'incorr': ' 2', 'text': 'Alex born in 1. Rose born in 2. Steven born in 1. Lisa born in 2. Joshua born in'}, {'S1': '2', 'S2': '1', 'S3': '2', 'S4': '1', 'corr': ' 2', 'incorr': ' 1', 'text': 'Andre born in 2. Aaron born in 1. Danny born in 2. Robert born in 1. Sean born in'}, {'S1': '1', 'S2': '2', 'S3': '1', 'S4': '2', 'corr': ' 1', 'incorr': ' 2', 'text': 'Gene born in 1. Bruce born in 2. Madison born in 1. Arthur born in 2. Andre born in'}, {'S1': '2', 'S2': '1', 'S3': '2', 'S4': '1', 'corr': ' 2', 'incorr': ' 1', 'text': 'Michael born in 2. William born in 1. Chelsea born in 2. Jon born in 1. Greg born in'}, {'S1': '1', 'S2': '2', 'S3': '1', 'S4': '2', 'corr': ' 1', 'incorr': ' 2', 'text': 'Christian born in 1. Alan born in 2. Elizabeth born in 1. Joshua born in 2. Christopher born in'}, {'S1': '2', 'S2': '1', 'S3': '2', 'S4': '1', 'corr': ' 2', 'incorr': ' 1', 'text': 'Luke born in 2. Marcus born in 1. Jeremy born in 2. Greg born in 1. Henry born in'}, {'S1': '1', 'S2': '2', 'S3': '1', 'S4': '2', 'corr': ' 1', 'incorr': ' 2', 'text': 'Connor born in 1. Rachel born in 2. Howard born in 1. Jose born in 2. Edward born in'}, {'S1': '2', 'S2': '1', 'S3': '2', 'S4': '1', 'corr': ' 2', 'incorr': ' 1', 'text': 'Ian born in 2. Jimmy born in 1. Rose born in 2. Peter born in 1. Hunter born in'}, {'S1': '1', 'S2': '2', 'S3': '1', 'S4': '2', 'corr': ' 1', 'incorr': ' 2', 'text': 'Kyle born in 1. Gene born in 2. Jennifer born in 1. James born in 2. Jim born in'}, {'S1': '2', 'S2': '1', 'S3': '2', 'S4': '1', 'corr': ' 2', 'incorr': ' 1', 'text': 'Robert born in 2. Jessica born in 1. Michael born in 2. Jim born in 1. Ann born in'}, {'S1': '1', 'S2': '2', 'S3': '1', 'S4': '2', 'corr': ' 1', 'incorr': ' 2', 'text': 'Ryan born in 1. Anthony born in 2. Kim born in 1. William born in 2. Anne born in'}, {'S1': '2', 'S2': '1', 'S3': '2', 'S4': '1', 'corr': ' 2', 'incorr': ' 1', 'text': 'Marc born in 2. Danny born in 1. Victoria born in 2. Ryan born in 1. Elizabeth born in'}, {'S1': '1', 'S2': '2', 'S3': '1', 'S4': '2', 'corr': ' 1', 'incorr': ' 2', 'text': 'Peter born in 1. Jay born in 2. Justin born in 1. Ann born in 2. Steven born in'}, {'S1': '2', 'S2': '1', 'S3': '2', 'S4': '1', 'corr': ' 2', 'incorr': ' 1', 'text': 'Ryan born in 2. Chelsea born in 1. Richard born in 2. Bruce born in 1. Scott born in'}, {'S1': '1', 'S2': '2', 'S3': '1', 'S4': '2', 'corr': ' 1', 'incorr': ' 2', 'text': 'Jon born in 1. William born in 2. Lee born in 1. Roy born in 2. Charles born in'}, {'S1': '2', 'S2': '1', 'S3': '2', 'S4': '1', 'corr': ' 2', 'incorr': ' 1', 'text': 'Albert born in 2. Brandon born in 1. Jon born in 2. Danny born in 1. Chelsea born in'}, {'S1': '1', 'S2': '2', 'S3': '1', 'S4': '2', 'corr': ' 1', 'incorr': ' 2', 'text': 'James born in 1. Jay born in 2. Justin born in 1. Maria born in 2. Kyle born in'}, {'S1': '2', 'S2': '1', 'S3': '2', 'S4': '1', 'corr': ' 2', 'incorr': ' 1', 'text': 'Scott born in 2. Chris born in 1. Albert born in 2. Aaron born in 1. Tom born in'}, {'S1': '1', 'S2': '2', 'S3': '1', 'S4': '2', 'corr': ' 1', 'incorr': ' 2', 'text': 'Alan born in 1. Aaron born in 2. Steve born in 1. Craig born in 2. Marcus born in'}, {'S1': '2', 'S2': '1', 'S3': '2', 'S4': '1', 'corr': ' 2', 'incorr': ' 1', 'text': 'Ann born in 2. Keith born in 1. Jack born in 2. Carl born in 1. Albert born in'}, {'S1': '1', 'S2': '2', 'S3': '1', 'S4': '2', 'corr': ' 1', 'incorr': ' 2', 'text': 'Victoria born in 1. William born in 2. Sean born in 1. Scott born in 2. Joshua born in'}, {'S1': '2', 'S2': '1', 'S3': '2', 'S4': '1', 'corr': ' 2', 'incorr': ' 1', 'text': 'Lisa born in 2. Steve born in 1. Tom born in 2. Alex born in 1. Ian born in'}, {'S1': '1', 'S2': '2', 'S3': '1', 'S4': '2', 'corr': ' 1', 'incorr': ' 2', 'text': 'Scott born in 1. Jose born in 2. Taylor born in 1. Jessica born in 2. Peter born in'}, {'S1': '2', 'S2': '1', 'S3': '2', 'S4': '1', 'corr': ' 2', 'incorr': ' 1', 'text': 'Chelsea born in 2. Tom born in 1. Jim born in 2. Mary born in 1. Robert born in'}, {'S1': '1', 'S2': '2', 'S3': '1', 'S4': '2', 'corr': ' 1', 'incorr': ' 2', 'text': 'Luke born in 1. Rose born in 2. Diamond born in 1. Jacob born in 2. Marc born in'}, {'S1': '2', 'S2': '1', 'S3': '2', 'S4': '1', 'corr': ' 2', 'incorr': ' 1', 'text': 'Jack born in 2. Kelly born in 1. Rick born in 2. Sean born in 1. Jennifer born in'}, {'S1': '1', 'S2': '2', 'S3': '1', 'S4': '2', 'corr': ' 1', 'incorr': ' 2', 'text': 'Mike born in 1. Steven born in 2. Edward born in 1. Albert born in 2. Jim born in'}, {'S1': '2', 'S2': '1', 'S3': '2', 'S4': '1', 'corr': ' 2', 'incorr': ' 1', 'text': 'Albert born in 2. Jacob born in 1. Mark born in 2. April born in 1. Luke born in'}, {'S1': '1', 'S2': '2', 'S3': '1', 'S4': '2', 'corr': ' 1', 'incorr': ' 2', 'text': 'Jennifer born in 1. Rachel born in 2. Craig born in 1. Rose born in 2. Albert born in'}, {'S1': '2', 'S2': '1', 'S3': '2', 'S4': '1', 'corr': ' 2', 'incorr': ' 1', 'text': 'Eric born in 2. Jessica born in 1. Larry born in 2. Lee born in 1. Alan born in'}, {'S1': '1', 'S2': '2', 'S3': '1', 'S4': '2', 'corr': ' 1', 'incorr': ' 2', 'text': 'Kevin born in 1. Gordon born in 2. Anne born in 1. Scott born in 2. Jack born in'}, {'S1': '2', 'S2': '1', 'S3': '2', 'S4': '1', 'corr': ' 2', 'incorr': ' 1', 'text': 'Keith born in 2. Gene born in 1. Michael born in 2. Henry born in 1. Bruce born in'}, {'S1': '1', 'S2': '2', 'S3': '1', 'S4': '2', 'corr': ' 1', 'incorr': ' 2', 'text': 'Larry born in 1. Justin born in 2. Allen born in 1. John born in 2. Morgan born in'}, {'S1': '2', 'S2': '1', 'S3': '2', 'S4': '1', 'corr': ' 2', 'incorr': ' 1', 'text': 'Jo born in 2. Jim born in 1. Aaron born in 2. Alex born in 1. Scott born in'}, {'S1': '1', 'S2': '2', 'S3': '1', 'S4': '2', 'corr': ' 1', 'incorr': ' 2', 'text': 'Tom born in 1. Gordon born in 2. Brandon born in 1. Justin born in 2. Steve born in'}, {'S1': '2', 'S2': '1', 'S3': '2', 'S4': '1', 'corr': ' 2', 'incorr': ' 1', 'text': 'Lee born in 2. Mark born in 1. Hunter born in 2. Roy born in 1. Bill born in'}, {'S1': '1', 'S2': '2', 'S3': '1', 'S4': '2', 'corr': ' 1', 'incorr': ' 2', 'text': 'Howard born in 1. William born in 2. Carl born in 1. Rachel born in 2. Steven born in'}, {'S1': '2', 'S2': '1', 'S3': '2', 'S4': '1', 'corr': ' 2', 'incorr': ' 1', 'text': 'Albert born in 2. Luke born in 1. Ann born in 2. Justin born in 1. Scott born in'}, {'S1': '1', 'S2': '2', 'S3': '1', 'S4': '2', 'corr': ' 1', 'incorr': ' 2', 'text': 'Joseph born in 1. Edward born in 2. Jennifer born in 1. Marcus born in 2. Luke born in'}, {'S1': '2', 'S2': '1', 'S3': '2', 'S4': '1', 'corr': ' 2', 'incorr': ' 1', 'text': 'Jon born in 2. Anthony born in 1. Roy born in 2. Scott born in 1. Larry born in'}, {'S1': '1', 'S2': '2', 'S3': '1', 'S4': '2', 'corr': ' 1', 'incorr': ' 2', 'text': 'Kelly born in 1. Madison born in 2. Taylor born in 1. Danny born in 2. Albert born in'}, {'S1': '2', 'S2': '1', 'S3': '2', 'S4': '1', 'corr': ' 2', 'incorr': ' 1', 'text': 'Alex born in 2. Chelsea born in 1. Stephen born in 2. Paul born in 1. Robert born in'}, {'S1': '1', 'S2': '2', 'S3': '1', 'S4': '2', 'corr': ' 1', 'incorr': ' 2', 'text': 'Bruce born in 1. David born in 2. Kyle born in 1. James born in 2. Matthew born in'}, {'S1': '2', 'S2': '1', 'S3': '2', 'S4': '1', 'corr': ' 2', 'incorr': ' 1', 'text': 'Andre born in 2. Bill born in 1. Victoria born in 2. Jay born in 1. Ryan born in'}, {'S1': '1', 'S2': '2', 'S3': '1', 'S4': '2', 'corr': ' 1', 'incorr': ' 2', 'text': 'Richard born in 1. Jacob born in 2. Danny born in 1. Madison born in 2. Joseph born in'}, {'S1': '2', 'S2': '1', 'S3': '2', 'S4': '1', 'corr': ' 2', 'incorr': ' 1', 'text': 'Ryan born in 2. Jose born in 1. Lisa born in 2. Taylor born in 1. Steve born in'}, {'S1': '1', 'S2': '2', 'S3': '1', 'S4': '2', 'corr': ' 1', 'incorr': ' 2', 'text': 'Jennifer born in 1. Roger born in 2. Anthony born in 1. Charles born in 2. Mike born in'}, {'S1': '2', 'S2': '1', 'S3': '2', 'S4': '1', 'corr': ' 2', 'incorr': ' 1', 'text': 'Joseph born in 2. Diamond born in 1. Victoria born in 2. Aaron born in 1. Lisa born in'}, {'S1': '1', 'S2': '2', 'S3': '1', 'S4': '2', 'corr': ' 1', 'incorr': ' 2', 'text': 'Robert born in 1. Charles born in 2. Anne born in 1. Ian born in 2. Taylor born in'}, {'S1': '2', 'S2': '1', 'S3': '2', 'S4': '1', 'corr': ' 2', 'incorr': ' 1', 'text': 'Rick born in 2. Edward born in 1. Christian born in 2. Anna born in 1. Mary born in'}, {'S1': '1', 'S2': '2', 'S3': '1', 'S4': '2', 'corr': ' 1', 'incorr': ' 2', 'text': 'Chelsea born in 1. Larry born in 2. Tom born in 1. Madison born in 2. Taylor born in'}, {'S1': '2', 'S2': '1', 'S3': '2', 'S4': '1', 'corr': ' 2', 'incorr': ' 1', 'text': 'Greg born in 2. Mark born in 1. Justin born in 2. Arthur born in 1. April born in'}, {'S1': '1', 'S2': '2', 'S3': '1', 'S4': '2', 'corr': ' 1', 'incorr': ' 2', 'text': 'April born in 1. Steve born in 2. Jose born in 1. Mark born in 2. Adam born in'}, {'S1': '2', 'S2': '1', 'S3': '2', 'S4': '1', 'corr': ' 2', 'incorr': ' 1', 'text': 'Jay born in 2. Kelly born in 1. George born in 2. Jose born in 1. Peter born in'}, {'S1': '1', 'S2': '2', 'S3': '1', 'S4': '2', 'corr': ' 1', 'incorr': ' 2', 'text': 'Jeremy born in 1. Tom born in 2. Jacob born in 1. Chelsea born in 2. Luke born in'}, {'S1': '2', 'S2': '1', 'S3': '2', 'S4': '1', 'corr': ' 2', 'incorr': ' 1', 'text': 'Jeremy born in 2. Ann born in 1. Elizabeth born in 2. Alex born in 1. Aaron born in'}, {'S1': '1', 'S2': '2', 'S3': '1', 'S4': '2', 'corr': ' 1', 'incorr': ' 2', 'text': 'Mike born in 1. Brandon born in 2. Marc born in 1. Tyler born in 2. Justin born in'}, {'S1': '2', 'S2': '1', 'S3': '2', 'S4': '1', 'corr': ' 2', 'incorr': ' 1', 'text': 'Taylor born in 2. Bruce born in 1. Albert born in 2. Michael born in 1. Donald born in'}, {'S1': '1', 'S2': '2', 'S3': '1', 'S4': '2', 'corr': ' 1', 'incorr': ' 2', 'text': 'Jessica born in 1. Steve born in 2. Christian born in 1. Laura born in 2. Jeff born in'}, {'S1': '2', 'S2': '1', 'S3': '2', 'S4': '1', 'corr': ' 2', 'incorr': ' 1', 'text': 'Matthew born in 2. Jamie born in 1. Kim born in 2. Carl born in 1. Christian born in'}, {'S1': '1', 'S2': '2', 'S3': '1', 'S4': '2', 'corr': ' 1', 'incorr': ' 2', 'text': 'James born in 1. George born in 2. Roger born in 1. Jeff born in 2. Steve born in'}, {'S1': '2', 'S2': '1', 'S3': '2', 'S4': '1', 'corr': ' 2', 'incorr': ' 1', 'text': 'Alan born in 2. Aaron born in 1. Maria born in 2. Morgan born in 1. Victoria born in'}, {'S1': '1', 'S2': '2', 'S3': '1', 'S4': '2', 'corr': ' 1', 'incorr': ' 2', 'text': 'Gene born in 1. Sean born in 2. Aaron born in 1. Paul born in 2. Jennifer born in'}, {'S1': '2', 'S2': '1', 'S3': '2', 'S4': '1', 'corr': ' 2', 'incorr': ' 1', 'text': 'Marcus born in 2. Charles born in 1. Chelsea born in 2. Justin born in 1. Gary born in'}, {'S1': '1', 'S2': '2', 'S3': '1', 'S4': '2', 'corr': ' 1', 'incorr': ' 2', 'text': 'Anne born in 1. Marc born in 2. Ian born in 1. Jamie born in 2. Danny born in'}, {'S1': '2', 'S2': '1', 'S3': '2', 'S4': '1', 'corr': ' 2', 'incorr': ' 1', 'text': 'Anthony born in 2. Gene born in 1. Lisa born in 2. Keith born in 1. Matthew born in'}, {'S1': '1', 'S2': '2', 'S3': '1', 'S4': '2', 'corr': ' 1', 'incorr': ' 2', 'text': 'Matthew born in 1. Gary born in 2. Keith born in 1. John born in 2. Michael born in'}, {'S1': '2', 'S2': '1', 'S3': '2', 'S4': '1', 'corr': ' 2', 'incorr': ' 1', 'text': 'Howard born in 2. Richard born in 1. Tyler born in 2. Luke born in 1. Andre born in'}, {'S1': '1', 'S2': '2', 'S3': '1', 'S4': '2', 'corr': ' 1', 'incorr': ' 2', 'text': 'Ann born in 1. Mary born in 2. Ryan born in 1. Larry born in 2. Maria born in'}, {'S1': '2', 'S2': '1', 'S3': '2', 'S4': '1', 'corr': ' 2', 'incorr': ' 1', 'text': 'Rose born in 2. John born in 1. Lee born in 2. Henry born in 1. James born in'}, {'S1': '1', 'S2': '2', 'S3': '1', 'S4': '2', 'corr': ' 1', 'incorr': ' 2', 'text': 'Scott born in 1. Peter born in 2. Connor born in 1. Mike born in 2. Brandon born in'}, {'S1': '2', 'S2': '1', 'S3': '2', 'S4': '1', 'corr': ' 2', 'incorr': ' 1', 'text': 'Joshua born in 2. Mark born in 1. Ian born in 2. Alan born in 1. Jimmy born in'}, {'S1': '1', 'S2': '2', 'S3': '1', 'S4': '2', 'corr': ' 1', 'incorr': ' 2', 'text': 'William born in 1. Jimmy born in 2. Victoria born in 1. Rachel born in 2. Joseph born in'}, {'S1': '2', 'S2': '1', 'S3': '2', 'S4': '1', 'corr': ' 2', 'incorr': ' 1', 'text': 'Danny born in 2. George born in 1. Luke born in 2. Jose born in 1. Chris born in'}, {'S1': '1', 'S2': '2', 'S3': '1', 'S4': '2', 'corr': ' 1', 'incorr': ' 2', 'text': 'Robert born in 1. Andre born in 2. Alan born in 1. Chris born in 2. Bill born in'}, {'S1': '2', 'S2': '1', 'S3': '2', 'S4': '1', 'corr': ' 2', 'incorr': ' 1', 'text': 'Luke born in 2. George born in 1. Carl born in 2. Michael born in 1. Taylor born in'}, {'S1': '1', 'S2': '2', 'S3': '1', 'S4': '2', 'corr': ' 1', 'incorr': ' 2', 'text': 'Brandon born in 1. Edward born in 2. Henry born in 1. Kyle born in 2. Marcus born in'}, {'S1': '2', 'S2': '1', 'S3': '2', 'S4': '1', 'corr': ' 2', 'incorr': ' 1', 'text': 'David born in 2. Christian born in 1. Hunter born in 2. Tom born in 1. Marc born in'}, {'S1': '1', 'S2': '2', 'S3': '1', 'S4': '2', 'corr': ' 1', 'incorr': ' 2', 'text': 'Alex born in 1. Aaron born in 2. Ryan born in 1. Jack born in 2. Larry born in'}, {'S1': '2', 'S2': '1', 'S3': '2', 'S4': '1', 'corr': ' 2', 'incorr': ' 1', 'text': 'Ryan born in 2. Justin born in 1. Keith born in 2. Elizabeth born in 1. Roy born in'}, {'S1': '1', 'S2': '2', 'S3': '1', 'S4': '2', 'corr': ' 1', 'incorr': ' 2', 'text': 'Lisa born in 1. Anne born in 2. Rachel born in 1. Charles born in 2. Scott born in'}, {'S1': '2', 'S2': '1', 'S3': '2', 'S4': '1', 'corr': ' 2', 'incorr': ' 1', 'text': 'Justin born in 2. Mary born in 1. Roy born in 2. Rick born in 1. Donald born in'}, {'S1': '1', 'S2': '2', 'S3': '1', 'S4': '2', 'corr': ' 1', 'incorr': ' 2', 'text': 'Madison born in 1. Peter born in 2. Roger born in 1. Donald born in 2. Alex born in'}, {'S1': '2', 'S2': '1', 'S3': '2', 'S4': '1', 'corr': ' 2', 'incorr': ' 1', 'text': 'Matthew born in 2. Adam born in 1. Greg born in 2. Mary born in 1. Paul born in'}, {'S1': '1', 'S2': '2', 'S3': '1', 'S4': '2', 'corr': ' 1', 'incorr': ' 2', 'text': 'William born in 1. Edward born in 2. Kelly born in 1. Justin born in 2. Mary born in'}, {'S1': '2', 'S2': '1', 'S3': '2', 'S4': '1', 'corr': ' 2', 'incorr': ' 1', 'text': 'Gordon born in 2. Danny born in 1. Stephen born in 2. Mike born in 1. Jack born in'}, {'S1': '1', 'S2': '2', 'S3': '1', 'S4': '2', 'corr': ' 1', 'incorr': ' 2', 'text': 'Jose born in 1. Matthew born in 2. Bill born in 1. Rose born in 2. Roy born in'}, {'S1': '2', 'S2': '1', 'S3': '2', 'S4': '1', 'corr': ' 2', 'incorr': ' 1', 'text': 'Kim born in 2. Victoria born in 1. Anthony born in 2. April born in 1. Jay born in'}, {'S1': '1', 'S2': '2', 'S3': '1', 'S4': '2', 'corr': ' 1', 'incorr': ' 2', 'text': 'Bill born in 1. John born in 2. Joshua born in 1. Gene born in 2. Jeff born in'}, {'S1': '2', 'S2': '1', 'S3': '2', 'S4': '1', 'corr': ' 2', 'incorr': ' 1', 'text': 'Taylor born in 2. Brandon born in 1. Alan born in 2. Anne born in 1. Jack born in'}, {'S1': '1', 'S2': '2', 'S3': '1', 'S4': '2', 'corr': ' 1', 'incorr': ' 2', 'text': 'Terry born in 1. Alex born in 2. Tyler born in 1. Paul born in 2. Mike born in'}, {'S1': '2', 'S2': '1', 'S3': '2', 'S4': '1', 'corr': ' 2', 'incorr': ' 1', 'text': 'Alan born in 2. Joshua born in 1. Hunter born in 2. Jennifer born in 1. Charles born in'}, {'S1': '1', 'S2': '2', 'S3': '1', 'S4': '2', 'corr': ' 1', 'incorr': ' 2', 'text': 'Gordon born in 1. Carl born in 2. Elizabeth born in 1. Kevin born in 2. Ryan born in'}, {'S1': '2', 'S2': '1', 'S3': '2', 'S4': '1', 'corr': ' 2', 'incorr': ' 1', 'text': 'Jeremy born in 2. Kevin born in 1. Ann born in 2. Justin born in 1. Kyle born in'}, {'S1': '1', 'S2': '2', 'S3': '1', 'S4': '2', 'corr': ' 1', 'incorr': ' 2', 'text': 'Ian born in 1. Hunter born in 2. David born in 1. Carl born in 2. Gary born in'}, {'S1': '2', 'S2': '1', 'S3': '2', 'S4': '1', 'corr': ' 2', 'incorr': ' 1', 'text': 'Joseph born in 2. Alan born in 1. Christian born in 2. Chelsea born in 1. Hunter born in'}, {'S1': '1', 'S2': '2', 'S3': '1', 'S4': '2', 'corr': ' 1', 'incorr': ' 2', 'text': 'Jessica born in 1. Aaron born in 2. Sean born in 1. Roy born in 2. Jose born in'}, {'S1': '2', 'S2': '1', 'S3': '2', 'S4': '1', 'corr': ' 2', 'incorr': ' 1', 'text': 'Jeff born in 2. Stephen born in 1. John born in 2. Jacob born in 1. Andre born in'}, {'S1': '1', 'S2': '2', 'S3': '1', 'S4': '2', 'corr': ' 1', 'incorr': ' 2', 'text': 'Jay born in 1. Jack born in 2. Tom born in 1. Ian born in 2. Rachel born in'}, {'S1': '2', 'S2': '1', 'S3': '2', 'S4': '1', 'corr': ' 2', 'incorr': ' 1', 'text': 'Jamie born in 2. Maria born in 1. Anne born in 2. Paul born in 1. Richard born in'}, {'S1': '1', 'S2': '2', 'S3': '1', 'S4': '2', 'corr': ' 1', 'incorr': ' 2', 'text': 'Chris born in 1. Madison born in 2. April born in 1. Gene born in 2. Hunter born in'}, {'S1': '2', 'S2': '1', 'S3': '2', 'S4': '1', 'corr': ' 2', 'incorr': ' 1', 'text': 'Jay born in 2. Donald born in 1. Morgan born in 2. Rachel born in 1. Madison born in'}, {'S1': '1', 'S2': '2', 'S3': '1', 'S4': '2', 'corr': ' 1', 'incorr': ' 2', 'text': 'Alex born in 1. Lee born in 2. David born in 1. Gary born in 2. Richard born in'}, {'S1': '2', 'S2': '1', 'S3': '2', 'S4': '1', 'corr': ' 2', 'incorr': ' 1', 'text': 'Christopher born in 2. Marc born in 1. Donald born in 2. Gary born in 1. Jessica born in'}, {'S1': '1', 'S2': '2', 'S3': '1', 'S4': '2', 'corr': ' 1', 'incorr': ' 2', 'text': 'John born in 1. Richard born in 2. Lisa born in 1. William born in 2. Allen born in'}, {'S1': '2', 'S2': '1', 'S3': '2', 'S4': '1', 'corr': ' 2', 'incorr': ' 1', 'text': 'Jay born in 2. Henry born in 1. Anne born in 2. Richard born in 1. Marcus born in'}, {'S1': '1', 'S2': '2', 'S3': '1', 'S4': '2', 'corr': ' 1', 'incorr': ' 2', 'text': 'Eric born in 1. Elizabeth born in 2. Rachel born in 1. Mark born in 2. Jennifer born in'}, {'S1': '2', 'S2': '1', 'S3': '2', 'S4': '1', 'corr': ' 2', 'incorr': ' 1', 'text': 'Bill born in 2. Christopher born in 1. Richard born in 2. Chelsea born in 1. Anthony born in'}, {'S1': '1', 'S2': '2', 'S3': '1', 'S4': '2', 'corr': ' 1', 'incorr': ' 2', 'text': 'Jacob born in 1. Morgan born in 2. Kim born in 1. Mary born in 2. Tom born in'}, {'S1': '2', 'S2': '1', 'S3': '2', 'S4': '1', 'corr': ' 2', 'incorr': ' 1', 'text': 'Taylor born in 2. Alex born in 1. Marcus born in 2. Jessica born in 1. Anthony born in'}, {'S1': '1', 'S2': '2', 'S3': '1', 'S4': '2', 'corr': ' 1', 'incorr': ' 2', 'text': 'Connor born in 1. Jessica born in 2. Sean born in 1. Gene born in 2. Rick born in'}, {'S1': '2', 'S2': '1', 'S3': '2', 'S4': '1', 'corr': ' 2', 'incorr': ' 1', 'text': 'William born in 2. Anthony born in 1. Chelsea born in 2. Stephen born in 1. Diamond born in'}, {'S1': '1', 'S2': '2', 'S3': '1', 'S4': '2', 'corr': ' 1', 'incorr': ' 2', 'text': 'Ian born in 1. Kim born in 2. Madison born in 1. Marc born in 2. Craig born in'}, {'S1': '2', 'S2': '1', 'S3': '2', 'S4': '1', 'corr': ' 2', 'incorr': ' 1', 'text': 'Keith born in 2. Jo born in 1. Madison born in 2. Jay born in 1. Edward born in'}, {'S1': '1', 'S2': '2', 'S3': '1', 'S4': '2', 'corr': ' 1', 'incorr': ' 2', 'text': 'Roy born in 1. Tyler born in 2. Ian born in 1. Bill born in 2. Mike born in'}, {'S1': '2', 'S2': '1', 'S3': '2', 'S4': '1', 'corr': ' 2', 'incorr': ' 1', 'text': 'Maria born in 2. Michael born in 1. Tyler born in 2. Larry born in 1. Marc born in'}, {'S1': '1', 'S2': '2', 'S3': '1', 'S4': '2', 'corr': ' 1', 'incorr': ' 2', 'text': 'Luke born in 1. Roy born in 2. Paul born in 1. Ann born in 2. George born in'}, {'S1': '2', 'S2': '1', 'S3': '2', 'S4': '1', 'corr': ' 2', 'incorr': ' 1', 'text': 'Donald born in 2. Luke born in 1. Gene born in 2. Jeremy born in 1. Roger born in'}, {'S1': '1', 'S2': '2', 'S3': '1', 'S4': '2', 'corr': ' 1', 'incorr': ' 2', 'text': 'Rose born in 1. Kim born in 2. Jim born in 1. Gene born in 2. Chelsea born in'}, {'S1': '2', 'S2': '1', 'S3': '2', 'S4': '1', 'corr': ' 2', 'incorr': ' 1', 'text': 'Rick born in 2. Elizabeth born in 1. Jeremy born in 2. Anne born in 1. Donald born in'}, {'S1': '1', 'S2': '2', 'S3': '1', 'S4': '2', 'corr': ' 1', 'incorr': ' 2', 'text': 'Kevin born in 1. Bruce born in 2. William born in 1. Danny born in 2. Greg born in'}, {'S1': '2', 'S2': '1', 'S3': '2', 'S4': '1', 'corr': ' 2', 'incorr': ' 1', 'text': 'Diamond born in 2. Mark born in 1. Roy born in 2. Albert born in 1. Rick born in'}, {'S1': '1', 'S2': '2', 'S3': '1', 'S4': '2', 'corr': ' 1', 'incorr': ' 2', 'text': 'Mike born in 1. George born in 2. Larry born in 1. Justin born in 2. Ann born in'}, {'S1': '2', 'S2': '1', 'S3': '2', 'S4': '1', 'corr': ' 2', 'incorr': ' 1', 'text': 'Justin born in 2. Laura born in 1. Jennifer born in 2. Christian born in 1. Scott born in'}, {'S1': '1', 'S2': '2', 'S3': '1', 'S4': '2', 'corr': ' 1', 'incorr': ' 2', 'text': 'Bill born in 1. Donald born in 2. Luke born in 1. Anne born in 2. Adam born in'}, {'S1': '2', 'S2': '1', 'S3': '2', 'S4': '1', 'corr': ' 2', 'incorr': ' 1', 'text': 'Peter born in 2. Chelsea born in 1. Adam born in 2. Mark born in 1. Kim born in'}, {'S1': '1', 'S2': '2', 'S3': '1', 'S4': '2', 'corr': ' 1', 'incorr': ' 2', 'text': 'Robert born in 1. Jay born in 2. Kelly born in 1. Jose born in 2. Joseph born in'}, {'S1': '2', 'S2': '1', 'S3': '2', 'S4': '1', 'corr': ' 2', 'incorr': ' 1', 'text': 'Brandon born in 2. Gene born in 1. Ryan born in 2. Madison born in 1. April born in'}, {'S1': '1', 'S2': '2', 'S3': '1', 'S4': '2', 'corr': ' 1', 'incorr': ' 2', 'text': 'Jacob born in 1. Adam born in 2. Jamie born in 1. Kevin born in 2. Marc born in'}, {'S1': '2', 'S2': '1', 'S3': '2', 'S4': '1', 'corr': ' 2', 'incorr': ' 1', 'text': 'Craig born in 2. Justin born in 1. Tom born in 2. William born in 1. Thomas born in'}, {'S1': '1', 'S2': '2', 'S3': '1', 'S4': '2', 'corr': ' 1', 'incorr': ' 2', 'text': 'Arthur born in 1. James born in 2. William born in 1. Jamie born in 2. Bill born in'}, {'S1': '2', 'S2': '1', 'S3': '2', 'S4': '1', 'corr': ' 2', 'incorr': ' 1', 'text': 'Mary born in 2. Howard born in 1. Alex born in 2. Diamond born in 1. Joseph born in'}, {'S1': '1', 'S2': '2', 'S3': '1', 'S4': '2', 'corr': ' 1', 'incorr': ' 2', 'text': 'Kim born in 1. Jose born in 2. Brandon born in 1. Jeff born in 2. Rachel born in'}, {'S1': '2', 'S2': '1', 'S3': '2', 'S4': '1', 'corr': ' 2', 'incorr': ' 1', 'text': 'Kim born in 2. Paul born in 1. Lee born in 2. Bill born in 1. Kelly born in'}, {'S1': '1', 'S2': '2', 'S3': '1', 'S4': '2', 'corr': ' 1', 'incorr': ' 2', 'text': 'Michael born in 1. Jennifer born in 2. Gordon born in 1. Robert born in 2. Rose born in'}, {'S1': '2', 'S2': '1', 'S3': '2', 'S4': '1', 'corr': ' 2', 'incorr': ' 1', 'text': 'Steve born in 2. Jack born in 1. Gary born in 2. Howard born in 1. Jeff born in'}, {'S1': '1', 'S2': '2', 'S3': '1', 'S4': '2', 'corr': ' 1', 'incorr': ' 2', 'text': 'Mike born in 1. Kelly born in 2. Thomas born in 1. Tom born in 2. Andre born in'}, {'S1': '2', 'S2': '1', 'S3': '2', 'S4': '1', 'corr': ' 2', 'incorr': ' 1', 'text': 'John born in 2. Luke born in 1. Aaron born in 2. Jim born in 1. Keith born in'}]\n"
     ]
    }
   ],
   "source": [
    "print(prompts_list)"
   ]
  },
  {
   "cell_type": "code",
   "execution_count": 11,
   "metadata": {
    "id": "sX1Zs28OJvuI"
   },
   "outputs": [
    {
     "name": "stdout",
     "output_type": "stream",
     "text": [
      "answer=\n",
      "\n",
      " 1\n",
      "\n",
      "incor=\n",
      "\n",
      " 2\n",
      "\n",
      "toks = \n",
      "\n",
      "[' 2', ' 1', ' 3', ' 4', ' 5', ' 6', ' 0', ' 7', ' 9', ' 8']\n",
      "\n",
      "incor_ind =\n",
      "\n",
      "0\n",
      "\n",
      "probs = \n",
      "\n",
      "tensor([0.3954, 0.3482, 0.1738, 0.0251, 0.0160, 0.0077, 0.0065, 0.0040, 0.0023,\n",
      "        0.0020], device='cuda:0')\n"
     ]
    }
   ],
   "source": [
    "good_prompts, all_probs = generate_data.get_good_prompts_numerals(model, prompts_list[:1])"
   ]
  },
  {
   "cell_type": "code",
   "execution_count": 12,
   "metadata": {},
   "outputs": [
    {
     "data": {
      "text/plain": [
       "'/home/ubuntu/seqcont_circuits/notebooks/gpt2_expms'"
      ]
     },
     "execution_count": 12,
     "metadata": {},
     "output_type": "execute_result"
    }
   ],
   "source": [
    "%pwd"
   ]
  },
  {
   "cell_type": "code",
   "execution_count": null,
   "metadata": {
    "colab": {
     "base_uri": "https://localhost:8080/",
     "height": 0
    },
    "id": "27Z1sGeyJvuJ",
    "outputId": "e4b5f9ff-84ba-4f52-cefe-d546a82cc421"
   },
   "outputs": [
    {
     "ename": "NameError",
     "evalue": "name 'os' is not defined",
     "output_type": "error",
     "traceback": [
      "\u001b[31m---------------------------------------------------------------------------\u001b[39m",
      "\u001b[31mNameError\u001b[39m                                 Traceback (most recent call last)",
      "\u001b[36mCell\u001b[39m\u001b[36m \u001b[39m\u001b[32mIn[21]\u001b[39m\u001b[32m, line 7\u001b[39m\n\u001b[32m      1\u001b[39m \u001b[38;5;66;03m# #TODO::replace with correct path\u001b[39;00m\n\u001b[32m      2\u001b[39m \u001b[38;5;66;03m# # with open(f'../../data/{sequence_name}/{sequence_name}_prompts_names.pkl', 'wb') as file:\u001b[39;00m\n\u001b[32m      3\u001b[39m \u001b[38;5;66;03m# with open(\"/home/ubuntu/seqcont_circuits/data/numerals_alternate/numerals_alternate_prompts_names.pkl\", 'wb') as file:\u001b[39;00m\n\u001b[32m      4\u001b[39m \u001b[38;5;66;03m#     pickle.dump(good_prompts, file)\u001b[39;00m\n\u001b[32m      6\u001b[39m output_path = \u001b[33mf\u001b[39m\u001b[33m\"\u001b[39m\u001b[33m../../data/\u001b[39m\u001b[38;5;132;01m{\u001b[39;00msequence_name\u001b[38;5;132;01m}\u001b[39;00m\u001b[33m\"\u001b[39m\n\u001b[32m----> \u001b[39m\u001b[32m7\u001b[39m \u001b[43mos\u001b[49m.makedirs(output_path, exist_ok=\u001b[38;5;28;01mTrue\u001b[39;00m)\n\u001b[32m      9\u001b[39m \u001b[38;5;28;01mwith\u001b[39;00m \u001b[38;5;28mopen\u001b[39m(\u001b[33mf\u001b[39m\u001b[33m\"\u001b[39m\u001b[38;5;132;01m{\u001b[39;00moutput_path\u001b[38;5;132;01m}\u001b[39;00m\u001b[33m/\u001b[39m\u001b[38;5;132;01m{\u001b[39;00msequence_name\u001b[38;5;132;01m}\u001b[39;00m\u001b[33m_prompts_names.pkl\u001b[39m\u001b[33m\"\u001b[39m, \u001b[33m'\u001b[39m\u001b[33mwb\u001b[39m\u001b[33m'\u001b[39m) \u001b[38;5;28;01mas\u001b[39;00m file:\n\u001b[32m     10\u001b[39m     pickle.dump(good_prompts, file)\n",
      "\u001b[31mNameError\u001b[39m: name 'os' is not defined"
     ]
    }
   ],
   "source": [
    "# #TODO::replace with correct path\n",
    "# # with open(f'../../data/{sequence_name}/{sequence_name}_prompts_names.pkl', 'wb') as file:\n",
    "# with open(\"/home/ubuntu/seqcont_circuits/data/numerals_alternate/numerals_alternate_prompts_names.pkl\", 'wb') as file:\n",
    "#     pickle.dump(good_prompts, file)\n",
    "import os\n",
    "\n",
    "output_path = f\"../../data/{sequence_name}\"\n",
    "os.makedirs(output_path, exist_ok=True)\n",
    "\n",
    "with open(f\"{output_path}/{sequence_name}_prompts_names.pkl\", 'wb') as file:\n",
    "    pickle.dump(good_prompts, file)\n"
   ]
  },
  {
   "cell_type": "code",
   "execution_count": 12,
   "metadata": {
    "colab": {
     "base_uri": "https://localhost:8080/",
     "height": 0
    },
    "id": "YtqEd7euJvuJ",
    "outputId": "f105aa43-e510-4da5-da07-cda10136e10e"
   },
   "outputs": [
    {
     "data": {
      "text/plain": [
       "Text(0.5, 1.0, 'Distribution')"
      ]
     },
     "execution_count": 12,
     "metadata": {},
     "output_type": "execute_result"
    },
    {
     "data": {
      "image/png": "[encoded data removed]",
      "text/plain": [
       "<Figure size 640x480 with 1 Axes>"
      ]
     },
     "metadata": {},
     "output_type": "display_data"
    }
   ],
   "source": [
    "plt.hist([probs[0].item() for probs in all_probs], bins = 20, edgecolor='black')\n",
    "plt.xlabel('probs')\n",
    "plt.ylabel('Frequency')\n",
    "plt.title('Distribution')"
   ]
  },
  {
   "cell_type": "markdown",
   "metadata": {
    "id": "OfxS2mztGgtd"
   },
   "source": [
    "# lost"
   ]
  },
  {
   "cell_type": "code",
   "execution_count": 21,
   "metadata": {
    "id": "gw0l9xgNGoMU"
   },
   "outputs": [],
   "source": [
    "file_name = '/jet/home/mjain4/Project/seqcont_circuits/data/numwords/numwords_prompts_lost.pkl'  #TODO::replace with your path\n",
    "with open(file_name, 'rb') as file:\n",
    "    prompts_list = pickle.load(file)"
   ]
  },
  {
   "cell_type": "code",
   "execution_count": 22,
   "metadata": {
    "id": "CyeTfEb7HVGK"
   },
   "outputs": [],
   "source": [
    "prompts_list = replace_nw_seqtype(prompts_list, sequence_name)"
   ]
  },
  {
   "cell_type": "code",
   "execution_count": 23,
   "metadata": {
    "id": "1edJH2n45nIJ"
   },
   "outputs": [],
   "source": [
    "good_prompts, all_probs = get_good_prompts_numerals(model, prompts_list)"
   ]
  },
  {
   "cell_type": "code",
   "execution_count": 24,
   "metadata": {
    "colab": {
     "base_uri": "https://localhost:8080/",
     "height": 0
    },
    "id": "mPtIH2vOGgtk",
    "outputId": "7ae5affa-7ca2-413a-8a86-1adb53d579c8"
   },
   "outputs": [],
   "source": [
    "#TODO::replace with correct path\n",
    "with open(f'/jet/home/mjain4/Project/seqcont_circuits/data/{sequence_name}/{sequence_name}_prompts_lost.pkl', 'wb') as file:\n",
    "    pickle.dump(good_prompts, file)"
   ]
  },
  {
   "cell_type": "code",
   "execution_count": 25,
   "metadata": {
    "colab": {
     "base_uri": "https://localhost:8080/",
     "height": 0
    },
    "id": "MER-CHI9Ggtk",
    "outputId": "177428b1-24ed-470f-d730-5f51af3b4f95"
   },
   "outputs": [
    {
     "data": {
      "text/plain": [
       "Text(0.5, 1.0, 'Distribution')"
      ]
     },
     "execution_count": 25,
     "metadata": {},
     "output_type": "execute_result"
    },
    {
     "data": {
      "image/png": "[encoded data removed]",
      "text/plain": [
       "<Figure size 640x480 with 1 Axes>"
      ]
     },
     "metadata": {},
     "output_type": "display_data"
    }
   ],
   "source": [
    "plt.hist([probs[0].item() for probs in all_probs], bins = 20, edgecolor='black')\n",
    "plt.xlabel('probs')\n",
    "plt.ylabel('Frequency')\n",
    "plt.title('Distribution')"
   ]
  },
  {
   "cell_type": "markdown",
   "metadata": {
    "id": "UCDMgFVyKMhP"
   },
   "source": [
    "# done"
   ]
  },
  {
   "cell_type": "code",
   "execution_count": 26,
   "metadata": {
    "id": "GOKCKz7KKMhW"
   },
   "outputs": [],
   "source": [
    "file_name = '/jet/home/mjain4/Project/seqcont_circuits/data/numwords/numwords_prompts_done.pkl' #TODO::replace with correct path\n",
    "with open(file_name, 'rb') as file:\n",
    "    prompts_list = pickle.load(file)"
   ]
  },
  {
   "cell_type": "code",
   "execution_count": 27,
   "metadata": {
    "id": "2-eCz6NAKMhW"
   },
   "outputs": [],
   "source": [
    "prompts_list = replace_nw_seqtype(prompts_list, sequence_name)"
   ]
  },
  {
   "cell_type": "code",
   "execution_count": 28,
   "metadata": {
    "id": "H7Vqpd1S6nBR"
   },
   "outputs": [],
   "source": [
    "good_prompts, all_probs = get_good_prompts_numerals(model, prompts_list)"
   ]
  },
  {
   "cell_type": "code",
   "execution_count": 37,
   "metadata": {},
   "outputs": [],
   "source": [
    "# only run if the text doesn't have \"___ done in ___\". I ran into the issue where the text was instead \"___ d2 in ___\"\n",
    "for prompt in good_prompts:\n",
    "    text = prompt['text']\n",
    "    corrected_text = text.replace(\"d1\", \"done\")\n",
    "    prompt['text'] = corrected_text"
   ]
  },
  {
   "cell_type": "code",
   "execution_count": 38,
   "metadata": {
    "colab": {
     "base_uri": "https://localhost:8080/",
     "height": 17
    },
    "id": "uYomEea9KMhW",
    "outputId": "2d0ff4d1-fc1c-4652-853d-ff162639adb4"
   },
   "outputs": [],
   "source": [
    "#TODO::replace with correct path\n",
    "with open(f'/jet/home/mjain4/Project/seqcont_circuits/data/{sequence_name}/{sequence_name}_prompts_done.pkl', 'wb') as file:\n",
    "    pickle.dump(good_prompts, file)"
   ]
  },
  {
   "cell_type": "code",
   "execution_count": 39,
   "metadata": {
    "colab": {
     "base_uri": "https://localhost:8080/",
     "height": 490
    },
    "id": "MMMJLo0NKMhW",
    "outputId": "4e47dcf5-74ca-4d5b-c6d4-23cf847a0ee5"
   },
   "outputs": [
    {
     "data": {
      "text/plain": [
       "Text(0.5, 1.0, 'Distribution')"
      ]
     },
     "execution_count": 39,
     "metadata": {},
     "output_type": "execute_result"
    },
    {
     "data": {
      "image/png": "[encoded data removed]",
      "text/plain": [
       "<Figure size 640x480 with 1 Axes>"
      ]
     },
     "metadata": {},
     "output_type": "display_data"
    }
   ],
   "source": [
    "plt.hist([probs[0].item() for probs in all_probs], bins = 20, edgecolor='black')\n",
    "plt.xlabel('probs')\n",
    "plt.ylabel('Frequency')\n",
    "plt.title('Distribution')"
   ]
  },
  {
   "cell_type": "code",
   "execution_count": 41,
   "metadata": {},
   "outputs": [],
   "source": [
    "#TODO::replace with correct path for all 3\n",
    "file_name = f'/jet/home/mjain4/Project/seqcont_circuits/data/{sequence_name}/{sequence_name}_prompts_done.pkl'\n",
    "with open(file_name, 'rb') as file:\n",
    "    prompts_list_done = pickle.load(file)\n",
    "    \n",
    "file_name = f'/jet/home/mjain4/Project/seqcont_circuits/data/{sequence_name}/{sequence_name}_prompts_lost.pkl'\n",
    "with open(file_name, 'rb') as file:\n",
    "    prompts_list_lost = pickle.load(file)\n",
    "    \n",
    "file_name = f'/jet/home/mjain4/Project/seqcont_circuits/data/{sequence_name}/{sequence_name}_prompts_names.pkl'\n",
    "with open(file_name, 'rb') as file:\n",
    "    prompts_list_names = pickle.load(file)"
   ]
  },
  {
   "cell_type": "code",
   "execution_count": 42,
   "metadata": {},
   "outputs": [],
   "source": [
    "# Truncate prompt lists to match size of smallest prompt list\n",
    "min_len = min(len(prompts_list_done), len(prompts_list_lost), len(prompts_list_names))\n",
    "prompts_list_done = prompts_list_done[:min_len]\n",
    "prompts_list_lost = prompts_list_lost[:min_len]\n",
    "prompts_list_names = prompts_list_names[:min_len]"
   ]
  },
  {
   "cell_type": "code",
   "execution_count": 44,
   "metadata": {},
   "outputs": [],
   "source": [
    "output_done = generate_prompts_list_corr(prompts_list_done)\n",
    "output_lost = generate_prompts_list_corr(prompts_list_lost)\n",
    "output_names = generate_prompts_list_corr(prompts_list_names)"
   ]
  },
  {
   "cell_type": "code",
   "execution_count": 45,
   "metadata": {},
   "outputs": [],
   "source": [
    "output = []\n",
    "output.extend(output_done)\n",
    "output.extend(output_lost)\n",
    "output.extend(output_names)"
   ]
  },
  {
   "cell_type": "code",
   "execution_count": 25,
   "metadata": {},
   "outputs": [],
   "source": [
    "# save random prompts\n",
    "with open(f'/jet/home/mjain4/Project/seqcont_circuits/data/{sequence_name}/randDS_{sequence_name}.pkl', 'wb') as file:\n",
    "    pickle.dump(output, file)"
   ]
  },
  {
   "cell_type": "code",
   "execution_count": 26,
   "metadata": {},
   "outputs": [],
   "source": [
    "# resave names, done, and list prompts using the truncated lists\n",
    "with open(f'/jet/home/mjain4/seqcont_circuits/data/{sequence_name}/{sequence_name}_prompts_done.pkl', 'wb') as file:\n",
    "    pickle.dump(prompts_list_done, file)\n",
    "with open(f'/jet/home/mjain4/seqcont_circuits/data/{sequence_name}/{sequence_name}_prompts_lost.pkl', 'wb') as file:\n",
    "    pickle.dump(prompts_list_lost, file)\n",
    "with open(f'/jet/home/mjain4/seqcont_circuits/data/{sequence_name}/{sequence_name}_prompts_names.pkl', 'wb') as file:\n",
    "    pickle.dump(prompts_list_names, file)"
   ]
  }
 ],
 "metadata": {
  "accelerator": "GPU",
  "colab": {
   "provenance": []
  },
  "kernelspec": {
   "display_name": "new_venv",
   "language": "python",
   "name": "python3"
  },
  "language_info": {
   "codemirror_mode": {
    "name": "ipython",
    "version": 3
   },
   "file_extension": ".py",
   "mimetype": "text/x-python",
   "name": "python",
   "nbconvert_exporter": "python",
   "pygments_lexer": "ipython3",
   "version": "3.12.6"
  },
  "widgets": {
   "application/vnd.jupyter.widget-state+json": {
    "00d6bff9748d44f2b75fab1e5e63a350": {
     "model_module": "@jupyter-widgets/controls",
     "model_module_version": "1.5.0",
     "model_name": "FloatProgressModel",
     "state": {
      "_dom_classes": [],
      "_model_module": "@jupyter-widgets/controls",
      "_model_module_version": "1.5.0",
      "_model_name": "FloatProgressModel",
      "_view_count": null,
      "_view_module": "@jupyter-widgets/controls",
      "_view_module_version": "1.5.0",
      "_view_name": "ProgressView",
      "bar_style": "success",
      "description": "",
      "description_tooltip": null,
      "layout": "IPY_MODEL_4edb163d7f764162a329da563d28ce9d",
      "max": 548105171,
      "min": 0,
      "orientation": "horizontal",
      "style": "IPY_MODEL_92280795eade4f9ba009a1c9325315b3",
      "value": 548105171
     }
    },
    "042c47481f224186927b6ed4941a1cbe": {
     "model_module": "@jupyter-widgets/base",
     "model_module_version": "1.2.0",
     "model_name": "LayoutModel",
     "state": {
      "_model_module": "@jupyter-widgets/base",
      "_model_module_version": "1.2.0",
      "_model_name": "LayoutModel",
      "_view_count": null,
      "_view_module": "@jupyter-widgets/base",
      "_view_module_version": "1.2.0",
      "_view_name": "LayoutView",
      "align_content": null,
      "align_items": null,
      "align_self": null,
      "border": null,
      "bottom": null,
      "display": null,
      "flex": null,
      "flex_flow": null,
      "grid_area": null,
      "grid_auto_columns": null,
      "grid_auto_flow": null,
      "grid_auto_rows": null,
      "grid_column": null,
      "grid_gap": null,
      "grid_row": null,
      "grid_template_areas": null,
      "grid_template_columns": null,
      "grid_template_rows": null,
      "height": null,
      "justify_content": null,
      "justify_items": null,
      "left": null,
      "margin": null,
      "max_height": null,
      "max_width": null,
      "min_height": null,
      "min_width": null,
      "object_fit": null,
      "object_position": null,
      "order": null,
      "overflow": null,
      "overflow_x": null,
      "overflow_y": null,
      "padding": null,
      "right": null,
      "top": null,
      "visibility": null,
      "width": null
     }
    },
    "0715eea083204d17ba39101081663271": {
     "model_module": "@jupyter-widgets/base",
     "model_module_version": "1.2.0",
     "model_name": "LayoutModel",
     "state": {
      "_model_module": "@jupyter-widgets/base",
      "_model_module_version": "1.2.0",
      "_model_name": "LayoutModel",
      "_view_count": null,
      "_view_module": "@jupyter-widgets/base",
      "_view_module_version": "1.2.0",
      "_view_name": "LayoutView",
      "align_content": null,
      "align_items": null,
      "align_self": null,
      "border": null,
      "bottom": null,
      "display": null,
      "flex": null,
      "flex_flow": null,
      "grid_area": null,
      "grid_auto_columns": null,
      "grid_auto_flow": null,
      "grid_auto_rows": null,
      "grid_column": null,
      "grid_gap": null,
      "grid_row": null,
      "grid_template_areas": null,
      "grid_template_columns": null,
      "grid_template_rows": null,
      "height": null,
      "justify_content": null,
      "justify_items": null,
      "left": null,
      "margin": null,
      "max_height": null,
      "max_width": null,
      "min_height": null,
      "min_width": null,
      "object_fit": null,
      "object_position": null,
      "order": null,
      "overflow": null,
      "overflow_x": null,
      "overflow_y": null,
      "padding": null,
      "right": null,
      "top": null,
      "visibility": null,
      "width": null
     }
    },
    "07d04e0ef279448fa5157fb8b1db855e": {
     "model_module": "@jupyter-widgets/base",
     "model_module_version": "1.2.0",
     "model_name": "LayoutModel",
     "state": {
      "_model_module": "@jupyter-widgets/base",
      "_model_module_version": "1.2.0",
      "_model_name": "LayoutModel",
      "_view_count": null,
      "_view_module": "@jupyter-widgets/base",
      "_view_module_version": "1.2.0",
      "_view_name": "LayoutView",
      "align_content": null,
      "align_items": null,
      "align_self": null,
      "border": null,
      "bottom": null,
      "display": null,
      "flex": null,
      "flex_flow": null,
      "grid_area": null,
      "grid_auto_columns": null,
      "grid_auto_flow": null,
      "grid_auto_rows": null,
      "grid_column": null,
      "grid_gap": null,
      "grid_row": null,
      "grid_template_areas": null,
      "grid_template_columns": null,
      "grid_template_rows": null,
      "height": null,
      "justify_content": null,
      "justify_items": null,
      "left": null,
      "margin": null,
      "max_height": null,
      "max_width": null,
      "min_height": null,
      "min_width": null,
      "object_fit": null,
      "object_position": null,
      "order": null,
      "overflow": null,
      "overflow_x": null,
      "overflow_y": null,
      "padding": null,
      "right": null,
      "top": null,
      "visibility": null,
      "width": null
     }
    },
    "0928ed60f063462099f70afa96b72675": {
     "model_module": "@jupyter-widgets/controls",
     "model_module_version": "1.5.0",
     "model_name": "HTMLModel",
     "state": {
      "_dom_classes": [],
      "_model_module": "@jupyter-widgets/controls",
      "_model_module_version": "1.5.0",
      "_model_name": "HTMLModel",
      "_view_count": null,
      "_view_module": "@jupyter-widgets/controls",
      "_view_module_version": "1.5.0",
      "_view_name": "HTMLView",
      "description": "",
      "description_tooltip": null,
      "layout": "IPY_MODEL_fbb61215a3c9474ba68df7d5bb64f005",
      "placeholder": "​",
      "style": "IPY_MODEL_54ca677539a6489583cc2b83a6d93175",
      "value": "generation_config.json: 100%"
     }
    },
    "09f2e579d87142f4baf54638629cc63c": {
     "model_module": "@jupyter-widgets/controls",
     "model_module_version": "1.5.0",
     "model_name": "HTMLModel",
     "state": {
      "_dom_classes": [],
      "_model_module": "@jupyter-widgets/controls",
      "_model_module_version": "1.5.0",
      "_model_name": "HTMLModel",
      "_view_count": null,
      "_view_module": "@jupyter-widgets/controls",
      "_view_module_version": "1.5.0",
      "_view_name": "HTMLView",
      "description": "",
      "description_tooltip": null,
      "layout": "IPY_MODEL_1ab9647308c04484ab94e31630a0d174",
      "placeholder": "​",
      "style": "IPY_MODEL_a917d6ac4d2b438c924f4eca83a12ca9",
      "value": "tokenizer.json: 100%"
     }
    },
    "0de9531da2c24362990dd49ded360520": {
     "model_module": "@jupyter-widgets/base",
     "model_module_version": "1.2.0",
     "model_name": "LayoutModel",
     "state": {
      "_model_module": "@jupyter-widgets/base",
      "_model_module_version": "1.2.0",
      "_model_name": "LayoutModel",
      "_view_count": null,
      "_view_module": "@jupyter-widgets/base",
      "_view_module_version": "1.2.0",
      "_view_name": "LayoutView",
      "align_content": null,
      "align_items": null,
      "align_self": null,
      "border": null,
      "bottom": null,
      "display": null,
      "flex": null,
      "flex_flow": null,
      "grid_area": null,
      "grid_auto_columns": null,
      "grid_auto_flow": null,
      "grid_auto_rows": null,
      "grid_column": null,
      "grid_gap": null,
      "grid_row": null,
      "grid_template_areas": null,
      "grid_template_columns": null,
      "grid_template_rows": null,
      "height": null,
      "justify_content": null,
      "justify_items": null,
      "left": null,
      "margin": null,
      "max_height": null,
      "max_width": null,
      "min_height": null,
      "min_width": null,
      "object_fit": null,
      "object_position": null,
      "order": null,
      "overflow": null,
      "overflow_x": null,
      "overflow_y": null,
      "padding": null,
      "right": null,
      "top": null,
      "visibility": null,
      "width": null
     }
    },
    "0f476e3f87374cd5a637773d2fbc43d3": {
     "model_module": "@jupyter-widgets/controls",
     "model_module_version": "1.5.0",
     "model_name": "DescriptionStyleModel",
     "state": {
      "_model_module": "@jupyter-widgets/controls",
      "_model_module_version": "1.5.0",
      "_model_name": "DescriptionStyleModel",
      "_view_count": null,
      "_view_module": "@jupyter-widgets/base",
      "_view_module_version": "1.2.0",
      "_view_name": "StyleView",
      "description_width": ""
     }
    },
    "161d610148844ea88dd69f3db05c2d5e": {
     "model_module": "@jupyter-widgets/controls",
     "model_module_version": "1.5.0",
     "model_name": "ProgressStyleModel",
     "state": {
      "_model_module": "@jupyter-widgets/controls",
      "_model_module_version": "1.5.0",
      "_model_name": "ProgressStyleModel",
      "_view_count": null,
      "_view_module": "@jupyter-widgets/base",
      "_view_module_version": "1.2.0",
      "_view_name": "StyleView",
      "bar_color": null,
      "description_width": ""
     }
    },
    "1ab9647308c04484ab94e31630a0d174": {
     "model_module": "@jupyter-widgets/base",
     "model_module_version": "1.2.0",
     "model_name": "LayoutModel",
     "state": {
      "_model_module": "@jupyter-widgets/base",
      "_model_module_version": "1.2.0",
      "_model_name": "LayoutModel",
      "_view_count": null,
      "_view_module": "@jupyter-widgets/base",
      "_view_module_version": "1.2.0",
      "_view_name": "LayoutView",
      "align_content": null,
      "align_items": null,
      "align_self": null,
      "border": null,
      "bottom": null,
      "display": null,
      "flex": null,
      "flex_flow": null,
      "grid_area": null,
      "grid_auto_columns": null,
      "grid_auto_flow": null,
      "grid_auto_rows": null,
      "grid_column": null,
      "grid_gap": null,
      "grid_row": null,
      "grid_template_areas": null,
      "grid_template_columns": null,
      "grid_template_rows": null,
      "height": null,
      "justify_content": null,
      "justify_items": null,
      "left": null,
      "margin": null,
      "max_height": null,
      "max_width": null,
      "min_height": null,
      "min_width": null,
      "object_fit": null,
      "object_position": null,
      "order": null,
      "overflow": null,
      "overflow_x": null,
      "overflow_y": null,
      "padding": null,
      "right": null,
      "top": null,
      "visibility": null,
      "width": null
     }
    },
    "1c571975e1994634af2c6c1fa90b49a1": {
     "model_module": "@jupyter-widgets/controls",
     "model_module_version": "1.5.0",
     "model_name": "HBoxModel",
     "state": {
      "_dom_classes": [],
      "_model_module": "@jupyter-widgets/controls",
      "_model_module_version": "1.5.0",
      "_model_name": "HBoxModel",
      "_view_count": null,
      "_view_module": "@jupyter-widgets/controls",
      "_view_module_version": "1.5.0",
      "_view_name": "HBoxView",
      "box_style": "",
      "children": [
       "IPY_MODEL_09f2e579d87142f4baf54638629cc63c",
       "IPY_MODEL_34ddb6cc34874186a70ad0a242728a7b",
       "IPY_MODEL_fa921c3499e146e784d88e3c682f339d"
      ],
      "layout": "IPY_MODEL_5fcfdb9cf46743fcb48fa6051e6eea99"
     }
    },
    "22bc357acf584acaa63fa6a27ebd9e3f": {
     "model_module": "@jupyter-widgets/base",
     "model_module_version": "1.2.0",
     "model_name": "LayoutModel",
     "state": {
      "_model_module": "@jupyter-widgets/base",
      "_model_module_version": "1.2.0",
      "_model_name": "LayoutModel",
      "_view_count": null,
      "_view_module": "@jupyter-widgets/base",
      "_view_module_version": "1.2.0",
      "_view_name": "LayoutView",
      "align_content": null,
      "align_items": null,
      "align_self": null,
      "border": null,
      "bottom": null,
      "display": null,
      "flex": null,
      "flex_flow": null,
      "grid_area": null,
      "grid_auto_columns": null,
      "grid_auto_flow": null,
      "grid_auto_rows": null,
      "grid_column": null,
      "grid_gap": null,
      "grid_row": null,
      "grid_template_areas": null,
      "grid_template_columns": null,
      "grid_template_rows": null,
      "height": null,
      "justify_content": null,
      "justify_items": null,
      "left": null,
      "margin": null,
      "max_height": null,
      "max_width": null,
      "min_height": null,
      "min_width": null,
      "object_fit": null,
      "object_position": null,
      "order": null,
      "overflow": null,
      "overflow_x": null,
      "overflow_y": null,
      "padding": null,
      "right": null,
      "top": null,
      "visibility": null,
      "width": null
     }
    },
    "263c0bca6d8541ec9ad0fdc360f0fa9e": {
     "model_module": "@jupyter-widgets/controls",
     "model_module_version": "1.5.0",
     "model_name": "HTMLModel",
     "state": {
      "_dom_classes": [],
      "_model_module": "@jupyter-widgets/controls",
      "_model_module_version": "1.5.0",
      "_model_name": "HTMLModel",
      "_view_count": null,
      "_view_module": "@jupyter-widgets/controls",
      "_view_module_version": "1.5.0",
      "_view_name": "HTMLView",
      "description": "",
      "description_tooltip": null,
      "layout": "IPY_MODEL_0de9531da2c24362990dd49ded360520",
      "placeholder": "​",
      "style": "IPY_MODEL_e4774c9520b54a53814ada26e3f45228",
      "value": "merges.txt: 100%"
     }
    },
    "2e30d9bfcef54412b2ee4fc52dc9f486": {
     "model_module": "@jupyter-widgets/controls",
     "model_module_version": "1.5.0",
     "model_name": "DescriptionStyleModel",
     "state": {
      "_model_module": "@jupyter-widgets/controls",
      "_model_module_version": "1.5.0",
      "_model_name": "DescriptionStyleModel",
      "_view_count": null,
      "_view_module": "@jupyter-widgets/base",
      "_view_module_version": "1.2.0",
      "_view_name": "StyleView",
      "description_width": ""
     }
    },
    "34ddb6cc34874186a70ad0a242728a7b": {
     "model_module": "@jupyter-widgets/controls",
     "model_module_version": "1.5.0",
     "model_name": "FloatProgressModel",
     "state": {
      "_dom_classes": [],
      "_model_module": "@jupyter-widgets/controls",
      "_model_module_version": "1.5.0",
      "_model_name": "FloatProgressModel",
      "_view_count": null,
      "_view_module": "@jupyter-widgets/controls",
      "_view_module_version": "1.5.0",
      "_view_name": "ProgressView",
      "bar_style": "success",
      "description": "",
      "description_tooltip": null,
      "layout": "IPY_MODEL_c635d8efcb0144d99f0533147efbfa81",
      "max": 1355256,
      "min": 0,
      "orientation": "horizontal",
      "style": "IPY_MODEL_c8ace28ac6034f228c3abe2247c7fb60",
      "value": 1355256
     }
    },
    "4760809c270945edb09cde379403570e": {
     "model_module": "@jupyter-widgets/controls",
     "model_module_version": "1.5.0",
     "model_name": "HTMLModel",
     "state": {
      "_dom_classes": [],
      "_model_module": "@jupyter-widgets/controls",
      "_model_module_version": "1.5.0",
      "_model_name": "HTMLModel",
      "_view_count": null,
      "_view_module": "@jupyter-widgets/controls",
      "_view_module_version": "1.5.0",
      "_view_name": "HTMLView",
      "description": "",
      "description_tooltip": null,
      "layout": "IPY_MODEL_cae614ea085b41c9ac110b0480c82485",
      "placeholder": "​",
      "style": "IPY_MODEL_0f476e3f87374cd5a637773d2fbc43d3",
      "value": "model.safetensors: 100%"
     }
    },
    "4da24e3a85b748968c7e5b67fbf87f46": {
     "model_module": "@jupyter-widgets/controls",
     "model_module_version": "1.5.0",
     "model_name": "FloatProgressModel",
     "state": {
      "_dom_classes": [],
      "_model_module": "@jupyter-widgets/controls",
      "_model_module_version": "1.5.0",
      "_model_name": "FloatProgressModel",
      "_view_count": null,
      "_view_module": "@jupyter-widgets/controls",
      "_view_module_version": "1.5.0",
      "_view_name": "ProgressView",
      "bar_style": "success",
      "description": "",
      "description_tooltip": null,
      "layout": "IPY_MODEL_22bc357acf584acaa63fa6a27ebd9e3f",
      "max": 665,
      "min": 0,
      "orientation": "horizontal",
      "style": "IPY_MODEL_fa97fe747c314562bcf166013a6f239c",
      "value": 665
     }
    },
    "4edb163d7f764162a329da563d28ce9d": {
     "model_module": "@jupyter-widgets/base",
     "model_module_version": "1.2.0",
     "model_name": "LayoutModel",
     "state": {
      "_model_module": "@jupyter-widgets/base",
      "_model_module_version": "1.2.0",
      "_model_name": "LayoutModel",
      "_view_count": null,
      "_view_module": "@jupyter-widgets/base",
      "_view_module_version": "1.2.0",
      "_view_name": "LayoutView",
      "align_content": null,
      "align_items": null,
      "align_self": null,
      "border": null,
      "bottom": null,
      "display": null,
      "flex": null,
      "flex_flow": null,
      "grid_area": null,
      "grid_auto_columns": null,
      "grid_auto_flow": null,
      "grid_auto_rows": null,
      "grid_column": null,
      "grid_gap": null,
      "grid_row": null,
      "grid_template_areas": null,
      "grid_template_columns": null,
      "grid_template_rows": null,
      "height": null,
      "justify_content": null,
      "justify_items": null,
      "left": null,
      "margin": null,
      "max_height": null,
      "max_width": null,
      "min_height": null,
      "min_width": null,
      "object_fit": null,
      "object_position": null,
      "order": null,
      "overflow": null,
      "overflow_x": null,
      "overflow_y": null,
      "padding": null,
      "right": null,
      "top": null,
      "visibility": null,
      "width": null
     }
    },
    "54ca677539a6489583cc2b83a6d93175": {
     "model_module": "@jupyter-widgets/controls",
     "model_module_version": "1.5.0",
     "model_name": "DescriptionStyleModel",
     "state": {
      "_model_module": "@jupyter-widgets/controls",
      "_model_module_version": "1.5.0",
      "_model_name": "DescriptionStyleModel",
      "_view_count": null,
      "_view_module": "@jupyter-widgets/base",
      "_view_module_version": "1.2.0",
      "_view_name": "StyleView",
      "description_width": ""
     }
    },
    "56d0d0ae333144ecabf43a96bf2b0c72": {
     "model_module": "@jupyter-widgets/base",
     "model_module_version": "1.2.0",
     "model_name": "LayoutModel",
     "state": {
      "_model_module": "@jupyter-widgets/base",
      "_model_module_version": "1.2.0",
      "_model_name": "LayoutModel",
      "_view_count": null,
      "_view_module": "@jupyter-widgets/base",
      "_view_module_version": "1.2.0",
      "_view_name": "LayoutView",
      "align_content": null,
      "align_items": null,
      "align_self": null,
      "border": null,
      "bottom": null,
      "display": null,
      "flex": null,
      "flex_flow": null,
      "grid_area": null,
      "grid_auto_columns": null,
      "grid_auto_flow": null,
      "grid_auto_rows": null,
      "grid_column": null,
      "grid_gap": null,
      "grid_row": null,
      "grid_template_areas": null,
      "grid_template_columns": null,
      "grid_template_rows": null,
      "height": null,
      "justify_content": null,
      "justify_items": null,
      "left": null,
      "margin": null,
      "max_height": null,
      "max_width": null,
      "min_height": null,
      "min_width": null,
      "object_fit": null,
      "object_position": null,
      "order": null,
      "overflow": null,
      "overflow_x": null,
      "overflow_y": null,
      "padding": null,
      "right": null,
      "top": null,
      "visibility": null,
      "width": null
     }
    },
    "5fcfdb9cf46743fcb48fa6051e6eea99": {
     "model_module": "@jupyter-widgets/base",
     "model_module_version": "1.2.0",
     "model_name": "LayoutModel",
     "state": {
      "_model_module": "@jupyter-widgets/base",
      "_model_module_version": "1.2.0",
      "_model_name": "LayoutModel",
      "_view_count": null,
      "_view_module": "@jupyter-widgets/base",
      "_view_module_version": "1.2.0",
      "_view_name": "LayoutView",
      "align_content": null,
      "align_items": null,
      "align_self": null,
      "border": null,
      "bottom": null,
      "display": null,
      "flex": null,
      "flex_flow": null,
      "grid_area": null,
      "grid_auto_columns": null,
      "grid_auto_flow": null,
      "grid_auto_rows": null,
      "grid_column": null,
      "grid_gap": null,
      "grid_row": null,
      "grid_template_areas": null,
      "grid_template_columns": null,
      "grid_template_rows": null,
      "height": null,
      "justify_content": null,
      "justify_items": null,
      "left": null,
      "margin": null,
      "max_height": null,
      "max_width": null,
      "min_height": null,
      "min_width": null,
      "object_fit": null,
      "object_position": null,
      "order": null,
      "overflow": null,
      "overflow_x": null,
      "overflow_y": null,
      "padding": null,
      "right": null,
      "top": null,
      "visibility": null,
      "width": null
     }
    },
    "62e859acab0242f08e6a0a6b6090af27": {
     "model_module": "@jupyter-widgets/controls",
     "model_module_version": "1.5.0",
     "model_name": "DescriptionStyleModel",
     "state": {
      "_model_module": "@jupyter-widgets/controls",
      "_model_module_version": "1.5.0",
      "_model_name": "DescriptionStyleModel",
      "_view_count": null,
      "_view_module": "@jupyter-widgets/base",
      "_view_module_version": "1.2.0",
      "_view_name": "StyleView",
      "description_width": ""
     }
    },
    "632fea421c854c84b398053c5f508368": {
     "model_module": "@jupyter-widgets/controls",
     "model_module_version": "1.5.0",
     "model_name": "ProgressStyleModel",
     "state": {
      "_model_module": "@jupyter-widgets/controls",
      "_model_module_version": "1.5.0",
      "_model_name": "ProgressStyleModel",
      "_view_count": null,
      "_view_module": "@jupyter-widgets/base",
      "_view_module_version": "1.2.0",
      "_view_name": "StyleView",
      "bar_color": null,
      "description_width": ""
     }
    },
    "6370dd3fb9e84d7299559216d5502041": {
     "model_module": "@jupyter-widgets/base",
     "model_module_version": "1.2.0",
     "model_name": "LayoutModel",
     "state": {
      "_model_module": "@jupyter-widgets/base",
      "_model_module_version": "1.2.0",
      "_model_name": "LayoutModel",
      "_view_count": null,
      "_view_module": "@jupyter-widgets/base",
      "_view_module_version": "1.2.0",
      "_view_name": "LayoutView",
      "align_content": null,
      "align_items": null,
      "align_self": null,
      "border": null,
      "bottom": null,
      "display": null,
      "flex": null,
      "flex_flow": null,
      "grid_area": null,
      "grid_auto_columns": null,
      "grid_auto_flow": null,
      "grid_auto_rows": null,
      "grid_column": null,
      "grid_gap": null,
      "grid_row": null,
      "grid_template_areas": null,
      "grid_template_columns": null,
      "grid_template_rows": null,
      "height": null,
      "justify_content": null,
      "justify_items": null,
      "left": null,
      "margin": null,
      "max_height": null,
      "max_width": null,
      "min_height": null,
      "min_width": null,
      "object_fit": null,
      "object_position": null,
      "order": null,
      "overflow": null,
      "overflow_x": null,
      "overflow_y": null,
      "padding": null,
      "right": null,
      "top": null,
      "visibility": null,
      "width": null
     }
    },
    "6426af833f26460c979bdc77e952977c": {
     "model_module": "@jupyter-widgets/base",
     "model_module_version": "1.2.0",
     "model_name": "LayoutModel",
     "state": {
      "_model_module": "@jupyter-widgets/base",
      "_model_module_version": "1.2.0",
      "_model_name": "LayoutModel",
      "_view_count": null,
      "_view_module": "@jupyter-widgets/base",
      "_view_module_version": "1.2.0",
      "_view_name": "LayoutView",
      "align_content": null,
      "align_items": null,
      "align_self": null,
      "border": null,
      "bottom": null,
      "display": null,
      "flex": null,
      "flex_flow": null,
      "grid_area": null,
      "grid_auto_columns": null,
      "grid_auto_flow": null,
      "grid_auto_rows": null,
      "grid_column": null,
      "grid_gap": null,
      "grid_row": null,
      "grid_template_areas": null,
      "grid_template_columns": null,
      "grid_template_rows": null,
      "height": null,
      "justify_content": null,
      "justify_items": null,
      "left": null,
      "margin": null,
      "max_height": null,
      "max_width": null,
      "min_height": null,
      "min_width": null,
      "object_fit": null,
      "object_position": null,
      "order": null,
      "overflow": null,
      "overflow_x": null,
      "overflow_y": null,
      "padding": null,
      "right": null,
      "top": null,
      "visibility": null,
      "width": null
     }
    },
    "667a3458eb804a8bb3b427ab67731577": {
     "model_module": "@jupyter-widgets/base",
     "model_module_version": "1.2.0",
     "model_name": "LayoutModel",
     "state": {
      "_model_module": "@jupyter-widgets/base",
      "_model_module_version": "1.2.0",
      "_model_name": "LayoutModel",
      "_view_count": null,
      "_view_module": "@jupyter-widgets/base",
      "_view_module_version": "1.2.0",
      "_view_name": "LayoutView",
      "align_content": null,
      "align_items": null,
      "align_self": null,
      "border": null,
      "bottom": null,
      "display": null,
      "flex": null,
      "flex_flow": null,
      "grid_area": null,
      "grid_auto_columns": null,
      "grid_auto_flow": null,
      "grid_auto_rows": null,
      "grid_column": null,
      "grid_gap": null,
      "grid_row": null,
      "grid_template_areas": null,
      "grid_template_columns": null,
      "grid_template_rows": null,
      "height": null,
      "justify_content": null,
      "justify_items": null,
      "left": null,
      "margin": null,
      "max_height": null,
      "max_width": null,
      "min_height": null,
      "min_width": null,
      "object_fit": null,
      "object_position": null,
      "order": null,
      "overflow": null,
      "overflow_x": null,
      "overflow_y": null,
      "padding": null,
      "right": null,
      "top": null,
      "visibility": null,
      "width": null
     }
    },
    "72569a7d2b824cb98c7834fef13ed5c9": {
     "model_module": "@jupyter-widgets/base",
     "model_module_version": "1.2.0",
     "model_name": "LayoutModel",
     "state": {
      "_model_module": "@jupyter-widgets/base",
      "_model_module_version": "1.2.0",
      "_model_name": "LayoutModel",
      "_view_count": null,
      "_view_module": "@jupyter-widgets/base",
      "_view_module_version": "1.2.0",
      "_view_name": "LayoutView",
      "align_content": null,
      "align_items": null,
      "align_self": null,
      "border": null,
      "bottom": null,
      "display": null,
      "flex": null,
      "flex_flow": null,
      "grid_area": null,
      "grid_auto_columns": null,
      "grid_auto_flow": null,
      "grid_auto_rows": null,
      "grid_column": null,
      "grid_gap": null,
      "grid_row": null,
      "grid_template_areas": null,
      "grid_template_columns": null,
      "grid_template_rows": null,
      "height": null,
      "justify_content": null,
      "justify_items": null,
      "left": null,
      "margin": null,
      "max_height": null,
      "max_width": null,
      "min_height": null,
      "min_width": null,
      "object_fit": null,
      "object_position": null,
      "order": null,
      "overflow": null,
      "overflow_x": null,
      "overflow_y": null,
      "padding": null,
      "right": null,
      "top": null,
      "visibility": null,
      "width": null
     }
    },
    "774145bd1ae648a98c408fcf5e71d669": {
     "model_module": "@jupyter-widgets/controls",
     "model_module_version": "1.5.0",
     "model_name": "DescriptionStyleModel",
     "state": {
      "_model_module": "@jupyter-widgets/controls",
      "_model_module_version": "1.5.0",
      "_model_name": "DescriptionStyleModel",
      "_view_count": null,
      "_view_module": "@jupyter-widgets/base",
      "_view_module_version": "1.2.0",
      "_view_name": "StyleView",
      "description_width": ""
     }
    },
    "77e32ce5ab904894b061db6cba5b8976": {
     "model_module": "@jupyter-widgets/controls",
     "model_module_version": "1.5.0",
     "model_name": "HBoxModel",
     "state": {
      "_dom_classes": [],
      "_model_module": "@jupyter-widgets/controls",
      "_model_module_version": "1.5.0",
      "_model_name": "HBoxModel",
      "_view_count": null,
      "_view_module": "@jupyter-widgets/controls",
      "_view_module_version": "1.5.0",
      "_view_name": "HBoxView",
      "box_style": "",
      "children": [
       "IPY_MODEL_0928ed60f063462099f70afa96b72675",
       "IPY_MODEL_d5923751bd3d43a8a033b86454b50242",
       "IPY_MODEL_b62b5ab8e6ad4ef1a42928f916f4c49f"
      ],
      "layout": "IPY_MODEL_84114dbb91bf4585a3177c0bb9a79b80"
     }
    },
    "78c319d3b16b4f8bbd84e1d5d62e811f": {
     "model_module": "@jupyter-widgets/controls",
     "model_module_version": "1.5.0",
     "model_name": "DescriptionStyleModel",
     "state": {
      "_model_module": "@jupyter-widgets/controls",
      "_model_module_version": "1.5.0",
      "_model_name": "DescriptionStyleModel",
      "_view_count": null,
      "_view_module": "@jupyter-widgets/base",
      "_view_module_version": "1.2.0",
      "_view_name": "StyleView",
      "description_width": ""
     }
    },
    "7df45ae69f65455db6e157e96ef165e7": {
     "model_module": "@jupyter-widgets/base",
     "model_module_version": "1.2.0",
     "model_name": "LayoutModel",
     "state": {
      "_model_module": "@jupyter-widgets/base",
      "_model_module_version": "1.2.0",
      "_model_name": "LayoutModel",
      "_view_count": null,
      "_view_module": "@jupyter-widgets/base",
      "_view_module_version": "1.2.0",
      "_view_name": "LayoutView",
      "align_content": null,
      "align_items": null,
      "align_self": null,
      "border": null,
      "bottom": null,
      "display": null,
      "flex": null,
      "flex_flow": null,
      "grid_area": null,
      "grid_auto_columns": null,
      "grid_auto_flow": null,
      "grid_auto_rows": null,
      "grid_column": null,
      "grid_gap": null,
      "grid_row": null,
      "grid_template_areas": null,
      "grid_template_columns": null,
      "grid_template_rows": null,
      "height": null,
      "justify_content": null,
      "justify_items": null,
      "left": null,
      "margin": null,
      "max_height": null,
      "max_width": null,
      "min_height": null,
      "min_width": null,
      "object_fit": null,
      "object_position": null,
      "order": null,
      "overflow": null,
      "overflow_x": null,
      "overflow_y": null,
      "padding": null,
      "right": null,
      "top": null,
      "visibility": null,
      "width": null
     }
    },
    "84114dbb91bf4585a3177c0bb9a79b80": {
     "model_module": "@jupyter-widgets/base",
     "model_module_version": "1.2.0",
     "model_name": "LayoutModel",
     "state": {
      "_model_module": "@jupyter-widgets/base",
      "_model_module_version": "1.2.0",
      "_model_name": "LayoutModel",
      "_view_count": null,
      "_view_module": "@jupyter-widgets/base",
      "_view_module_version": "1.2.0",
      "_view_name": "LayoutView",
      "align_content": null,
      "align_items": null,
      "align_self": null,
      "border": null,
      "bottom": null,
      "display": null,
      "flex": null,
      "flex_flow": null,
      "grid_area": null,
      "grid_auto_columns": null,
      "grid_auto_flow": null,
      "grid_auto_rows": null,
      "grid_column": null,
      "grid_gap": null,
      "grid_row": null,
      "grid_template_areas": null,
      "grid_template_columns": null,
      "grid_template_rows": null,
      "height": null,
      "justify_content": null,
      "justify_items": null,
      "left": null,
      "margin": null,
      "max_height": null,
      "max_width": null,
      "min_height": null,
      "min_width": null,
      "object_fit": null,
      "object_position": null,
      "order": null,
      "overflow": null,
      "overflow_x": null,
      "overflow_y": null,
      "padding": null,
      "right": null,
      "top": null,
      "visibility": null,
      "width": null
     }
    },
    "8c21eea0c55647bdb7c07ed7eb3eaff9": {
     "model_module": "@jupyter-widgets/controls",
     "model_module_version": "1.5.0",
     "model_name": "HTMLModel",
     "state": {
      "_dom_classes": [],
      "_model_module": "@jupyter-widgets/controls",
      "_model_module_version": "1.5.0",
      "_model_name": "HTMLModel",
      "_view_count": null,
      "_view_module": "@jupyter-widgets/controls",
      "_view_module_version": "1.5.0",
      "_view_name": "HTMLView",
      "description": "",
      "description_tooltip": null,
      "layout": "IPY_MODEL_a0836e15c2164044a64a145a8b0eb668",
      "placeholder": "​",
      "style": "IPY_MODEL_b6cf86f9e4d44fd89b4ba370eaf688d6",
      "value": " 665/665 [00:00&lt;00:00, 13.3kB/s]"
     }
    },
    "8c313a81e2a64deab44bca690e1fc90d": {
     "model_module": "@jupyter-widgets/controls",
     "model_module_version": "1.5.0",
     "model_name": "ProgressStyleModel",
     "state": {
      "_model_module": "@jupyter-widgets/controls",
      "_model_module_version": "1.5.0",
      "_model_name": "ProgressStyleModel",
      "_view_count": null,
      "_view_module": "@jupyter-widgets/base",
      "_view_module_version": "1.2.0",
      "_view_name": "StyleView",
      "bar_color": null,
      "description_width": ""
     }
    },
    "8e3d2ee1c04e4cae98a32ad785ad86f1": {
     "model_module": "@jupyter-widgets/controls",
     "model_module_version": "1.5.0",
     "model_name": "HTMLModel",
     "state": {
      "_dom_classes": [],
      "_model_module": "@jupyter-widgets/controls",
      "_model_module_version": "1.5.0",
      "_model_name": "HTMLModel",
      "_view_count": null,
      "_view_module": "@jupyter-widgets/controls",
      "_view_module_version": "1.5.0",
      "_view_name": "HTMLView",
      "description": "",
      "description_tooltip": null,
      "layout": "IPY_MODEL_7df45ae69f65455db6e157e96ef165e7",
      "placeholder": "​",
      "style": "IPY_MODEL_78c319d3b16b4f8bbd84e1d5d62e811f",
      "value": " 1.04M/1.04M [00:00&lt;00:00, 3.15MB/s]"
     }
    },
    "92280795eade4f9ba009a1c9325315b3": {
     "model_module": "@jupyter-widgets/controls",
     "model_module_version": "1.5.0",
     "model_name": "ProgressStyleModel",
     "state": {
      "_model_module": "@jupyter-widgets/controls",
      "_model_module_version": "1.5.0",
      "_model_name": "ProgressStyleModel",
      "_view_count": null,
      "_view_module": "@jupyter-widgets/base",
      "_view_module_version": "1.2.0",
      "_view_name": "StyleView",
      "bar_color": null,
      "description_width": ""
     }
    },
    "97d19a498bcb4b0eadfdc34c779cdb5f": {
     "model_module": "@jupyter-widgets/controls",
     "model_module_version": "1.5.0",
     "model_name": "DescriptionStyleModel",
     "state": {
      "_model_module": "@jupyter-widgets/controls",
      "_model_module_version": "1.5.0",
      "_model_name": "DescriptionStyleModel",
      "_view_count": null,
      "_view_module": "@jupyter-widgets/base",
      "_view_module_version": "1.2.0",
      "_view_name": "StyleView",
      "description_width": ""
     }
    },
    "9f947954fe804ca8a76e93e91658bebb": {
     "model_module": "@jupyter-widgets/controls",
     "model_module_version": "1.5.0",
     "model_name": "HBoxModel",
     "state": {
      "_dom_classes": [],
      "_model_module": "@jupyter-widgets/controls",
      "_model_module_version": "1.5.0",
      "_model_name": "HBoxModel",
      "_view_count": null,
      "_view_module": "@jupyter-widgets/controls",
      "_view_module_version": "1.5.0",
      "_view_name": "HBoxView",
      "box_style": "",
      "children": [
       "IPY_MODEL_263c0bca6d8541ec9ad0fdc360f0fa9e",
       "IPY_MODEL_b64429c2542b49d4a80b6aedf0236d30",
       "IPY_MODEL_ba532c43d85c4b66be828affbeb5ac41"
      ],
      "layout": "IPY_MODEL_b40036b73c484760a85a3b06ec617a09"
     }
    },
    "a0836e15c2164044a64a145a8b0eb668": {
     "model_module": "@jupyter-widgets/base",
     "model_module_version": "1.2.0",
     "model_name": "LayoutModel",
     "state": {
      "_model_module": "@jupyter-widgets/base",
      "_model_module_version": "1.2.0",
      "_model_name": "LayoutModel",
      "_view_count": null,
      "_view_module": "@jupyter-widgets/base",
      "_view_module_version": "1.2.0",
      "_view_name": "LayoutView",
      "align_content": null,
      "align_items": null,
      "align_self": null,
      "border": null,
      "bottom": null,
      "display": null,
      "flex": null,
      "flex_flow": null,
      "grid_area": null,
      "grid_auto_columns": null,
      "grid_auto_flow": null,
      "grid_auto_rows": null,
      "grid_column": null,
      "grid_gap": null,
      "grid_row": null,
      "grid_template_areas": null,
      "grid_template_columns": null,
      "grid_template_rows": null,
      "height": null,
      "justify_content": null,
      "justify_items": null,
      "left": null,
      "margin": null,
      "max_height": null,
      "max_width": null,
      "min_height": null,
      "min_width": null,
      "object_fit": null,
      "object_position": null,
      "order": null,
      "overflow": null,
      "overflow_x": null,
      "overflow_y": null,
      "padding": null,
      "right": null,
      "top": null,
      "visibility": null,
      "width": null
     }
    },
    "a335d67e3d354807b3707bf2b9946d23": {
     "model_module": "@jupyter-widgets/base",
     "model_module_version": "1.2.0",
     "model_name": "LayoutModel",
     "state": {
      "_model_module": "@jupyter-widgets/base",
      "_model_module_version": "1.2.0",
      "_model_name": "LayoutModel",
      "_view_count": null,
      "_view_module": "@jupyter-widgets/base",
      "_view_module_version": "1.2.0",
      "_view_name": "LayoutView",
      "align_content": null,
      "align_items": null,
      "align_self": null,
      "border": null,
      "bottom": null,
      "display": null,
      "flex": null,
      "flex_flow": null,
      "grid_area": null,
      "grid_auto_columns": null,
      "grid_auto_flow": null,
      "grid_auto_rows": null,
      "grid_column": null,
      "grid_gap": null,
      "grid_row": null,
      "grid_template_areas": null,
      "grid_template_columns": null,
      "grid_template_rows": null,
      "height": null,
      "justify_content": null,
      "justify_items": null,
      "left": null,
      "margin": null,
      "max_height": null,
      "max_width": null,
      "min_height": null,
      "min_width": null,
      "object_fit": null,
      "object_position": null,
      "order": null,
      "overflow": null,
      "overflow_x": null,
      "overflow_y": null,
      "padding": null,
      "right": null,
      "top": null,
      "visibility": null,
      "width": null
     }
    },
    "a5f455e986ce4fbbac895fab571b5100": {
     "model_module": "@jupyter-widgets/controls",
     "model_module_version": "1.5.0",
     "model_name": "HTMLModel",
     "state": {
      "_dom_classes": [],
      "_model_module": "@jupyter-widgets/controls",
      "_model_module_version": "1.5.0",
      "_model_name": "HTMLModel",
      "_view_count": null,
      "_view_module": "@jupyter-widgets/controls",
      "_view_module_version": "1.5.0",
      "_view_name": "HTMLView",
      "description": "",
      "description_tooltip": null,
      "layout": "IPY_MODEL_72569a7d2b824cb98c7834fef13ed5c9",
      "placeholder": "​",
      "style": "IPY_MODEL_2e30d9bfcef54412b2ee4fc52dc9f486",
      "value": " 548M/548M [00:05&lt;00:00, 51.2MB/s]"
     }
    },
    "a917d6ac4d2b438c924f4eca83a12ca9": {
     "model_module": "@jupyter-widgets/controls",
     "model_module_version": "1.5.0",
     "model_name": "DescriptionStyleModel",
     "state": {
      "_model_module": "@jupyter-widgets/controls",
      "_model_module_version": "1.5.0",
      "_model_name": "DescriptionStyleModel",
      "_view_count": null,
      "_view_module": "@jupyter-widgets/base",
      "_view_module_version": "1.2.0",
      "_view_name": "StyleView",
      "description_width": ""
     }
    },
    "ae798d791f9b4c7a850cb7731059c9aa": {
     "model_module": "@jupyter-widgets/base",
     "model_module_version": "1.2.0",
     "model_name": "LayoutModel",
     "state": {
      "_model_module": "@jupyter-widgets/base",
      "_model_module_version": "1.2.0",
      "_model_name": "LayoutModel",
      "_view_count": null,
      "_view_module": "@jupyter-widgets/base",
      "_view_module_version": "1.2.0",
      "_view_name": "LayoutView",
      "align_content": null,
      "align_items": null,
      "align_self": null,
      "border": null,
      "bottom": null,
      "display": null,
      "flex": null,
      "flex_flow": null,
      "grid_area": null,
      "grid_auto_columns": null,
      "grid_auto_flow": null,
      "grid_auto_rows": null,
      "grid_column": null,
      "grid_gap": null,
      "grid_row": null,
      "grid_template_areas": null,
      "grid_template_columns": null,
      "grid_template_rows": null,
      "height": null,
      "justify_content": null,
      "justify_items": null,
      "left": null,
      "margin": null,
      "max_height": null,
      "max_width": null,
      "min_height": null,
      "min_width": null,
      "object_fit": null,
      "object_position": null,
      "order": null,
      "overflow": null,
      "overflow_x": null,
      "overflow_y": null,
      "padding": null,
      "right": null,
      "top": null,
      "visibility": null,
      "width": null
     }
    },
    "af46f0686551499c93768d7d3f45936b": {
     "model_module": "@jupyter-widgets/controls",
     "model_module_version": "1.5.0",
     "model_name": "HBoxModel",
     "state": {
      "_dom_classes": [],
      "_model_module": "@jupyter-widgets/controls",
      "_model_module_version": "1.5.0",
      "_model_name": "HBoxModel",
      "_view_count": null,
      "_view_module": "@jupyter-widgets/controls",
      "_view_module_version": "1.5.0",
      "_view_name": "HBoxView",
      "box_style": "",
      "children": [
       "IPY_MODEL_b3b8a4f68d6f4c3d84842391fac13094",
       "IPY_MODEL_4da24e3a85b748968c7e5b67fbf87f46",
       "IPY_MODEL_8c21eea0c55647bdb7c07ed7eb3eaff9"
      ],
      "layout": "IPY_MODEL_6370dd3fb9e84d7299559216d5502041"
     }
    },
    "b1395ff957504908b49d0ef36bda80d9": {
     "model_module": "@jupyter-widgets/base",
     "model_module_version": "1.2.0",
     "model_name": "LayoutModel",
     "state": {
      "_model_module": "@jupyter-widgets/base",
      "_model_module_version": "1.2.0",
      "_model_name": "LayoutModel",
      "_view_count": null,
      "_view_module": "@jupyter-widgets/base",
      "_view_module_version": "1.2.0",
      "_view_name": "LayoutView",
      "align_content": null,
      "align_items": null,
      "align_self": null,
      "border": null,
      "bottom": null,
      "display": null,
      "flex": null,
      "flex_flow": null,
      "grid_area": null,
      "grid_auto_columns": null,
      "grid_auto_flow": null,
      "grid_auto_rows": null,
      "grid_column": null,
      "grid_gap": null,
      "grid_row": null,
      "grid_template_areas": null,
      "grid_template_columns": null,
      "grid_template_rows": null,
      "height": null,
      "justify_content": null,
      "justify_items": null,
      "left": null,
      "margin": null,
      "max_height": null,
      "max_width": null,
      "min_height": null,
      "min_width": null,
      "object_fit": null,
      "object_position": null,
      "order": null,
      "overflow": null,
      "overflow_x": null,
      "overflow_y": null,
      "padding": null,
      "right": null,
      "top": null,
      "visibility": null,
      "width": null
     }
    },
    "b3b8a4f68d6f4c3d84842391fac13094": {
     "model_module": "@jupyter-widgets/controls",
     "model_module_version": "1.5.0",
     "model_name": "HTMLModel",
     "state": {
      "_dom_classes": [],
      "_model_module": "@jupyter-widgets/controls",
      "_model_module_version": "1.5.0",
      "_model_name": "HTMLModel",
      "_view_count": null,
      "_view_module": "@jupyter-widgets/controls",
      "_view_module_version": "1.5.0",
      "_view_name": "HTMLView",
      "description": "",
      "description_tooltip": null,
      "layout": "IPY_MODEL_b1395ff957504908b49d0ef36bda80d9",
      "placeholder": "​",
      "style": "IPY_MODEL_c939a626f7954d5c9ed948ec8f753999",
      "value": "config.json: 100%"
     }
    },
    "b40036b73c484760a85a3b06ec617a09": {
     "model_module": "@jupyter-widgets/base",
     "model_module_version": "1.2.0",
     "model_name": "LayoutModel",
     "state": {
      "_model_module": "@jupyter-widgets/base",
      "_model_module_version": "1.2.0",
      "_model_name": "LayoutModel",
      "_view_count": null,
      "_view_module": "@jupyter-widgets/base",
      "_view_module_version": "1.2.0",
      "_view_name": "LayoutView",
      "align_content": null,
      "align_items": null,
      "align_self": null,
      "border": null,
      "bottom": null,
      "display": null,
      "flex": null,
      "flex_flow": null,
      "grid_area": null,
      "grid_auto_columns": null,
      "grid_auto_flow": null,
      "grid_auto_rows": null,
      "grid_column": null,
      "grid_gap": null,
      "grid_row": null,
      "grid_template_areas": null,
      "grid_template_columns": null,
      "grid_template_rows": null,
      "height": null,
      "justify_content": null,
      "justify_items": null,
      "left": null,
      "margin": null,
      "max_height": null,
      "max_width": null,
      "min_height": null,
      "min_width": null,
      "object_fit": null,
      "object_position": null,
      "order": null,
      "overflow": null,
      "overflow_x": null,
      "overflow_y": null,
      "padding": null,
      "right": null,
      "top": null,
      "visibility": null,
      "width": null
     }
    },
    "b62b5ab8e6ad4ef1a42928f916f4c49f": {
     "model_module": "@jupyter-widgets/controls",
     "model_module_version": "1.5.0",
     "model_name": "HTMLModel",
     "state": {
      "_dom_classes": [],
      "_model_module": "@jupyter-widgets/controls",
      "_model_module_version": "1.5.0",
      "_model_name": "HTMLModel",
      "_view_count": null,
      "_view_module": "@jupyter-widgets/controls",
      "_view_module_version": "1.5.0",
      "_view_name": "HTMLView",
      "description": "",
      "description_tooltip": null,
      "layout": "IPY_MODEL_042c47481f224186927b6ed4941a1cbe",
      "placeholder": "​",
      "style": "IPY_MODEL_fbfe3d1645a94954b7a7e6b4ce9ea79f",
      "value": " 124/124 [00:00&lt;00:00, 9.66kB/s]"
     }
    },
    "b64429c2542b49d4a80b6aedf0236d30": {
     "model_module": "@jupyter-widgets/controls",
     "model_module_version": "1.5.0",
     "model_name": "FloatProgressModel",
     "state": {
      "_dom_classes": [],
      "_model_module": "@jupyter-widgets/controls",
      "_model_module_version": "1.5.0",
      "_model_name": "FloatProgressModel",
      "_view_count": null,
      "_view_module": "@jupyter-widgets/controls",
      "_view_module_version": "1.5.0",
      "_view_name": "ProgressView",
      "bar_style": "success",
      "description": "",
      "description_tooltip": null,
      "layout": "IPY_MODEL_0715eea083204d17ba39101081663271",
      "max": 456318,
      "min": 0,
      "orientation": "horizontal",
      "style": "IPY_MODEL_8c313a81e2a64deab44bca690e1fc90d",
      "value": 456318
     }
    },
    "b6cf86f9e4d44fd89b4ba370eaf688d6": {
     "model_module": "@jupyter-widgets/controls",
     "model_module_version": "1.5.0",
     "model_name": "DescriptionStyleModel",
     "state": {
      "_model_module": "@jupyter-widgets/controls",
      "_model_module_version": "1.5.0",
      "_model_name": "DescriptionStyleModel",
      "_view_count": null,
      "_view_module": "@jupyter-widgets/base",
      "_view_module_version": "1.2.0",
      "_view_name": "StyleView",
      "description_width": ""
     }
    },
    "ba532c43d85c4b66be828affbeb5ac41": {
     "model_module": "@jupyter-widgets/controls",
     "model_module_version": "1.5.0",
     "model_name": "HTMLModel",
     "state": {
      "_dom_classes": [],
      "_model_module": "@jupyter-widgets/controls",
      "_model_module_version": "1.5.0",
      "_model_name": "HTMLModel",
      "_view_count": null,
      "_view_module": "@jupyter-widgets/controls",
      "_view_module_version": "1.5.0",
      "_view_name": "HTMLView",
      "description": "",
      "description_tooltip": null,
      "layout": "IPY_MODEL_6426af833f26460c979bdc77e952977c",
      "placeholder": "​",
      "style": "IPY_MODEL_774145bd1ae648a98c408fcf5e71d669",
      "value": " 456k/456k [00:00&lt;00:00, 1.85MB/s]"
     }
    },
    "c3c8e66a37e84832a5572e06088fe858": {
     "model_module": "@jupyter-widgets/base",
     "model_module_version": "1.2.0",
     "model_name": "LayoutModel",
     "state": {
      "_model_module": "@jupyter-widgets/base",
      "_model_module_version": "1.2.0",
      "_model_name": "LayoutModel",
      "_view_count": null,
      "_view_module": "@jupyter-widgets/base",
      "_view_module_version": "1.2.0",
      "_view_name": "LayoutView",
      "align_content": null,
      "align_items": null,
      "align_self": null,
      "border": null,
      "bottom": null,
      "display": null,
      "flex": null,
      "flex_flow": null,
      "grid_area": null,
      "grid_auto_columns": null,
      "grid_auto_flow": null,
      "grid_auto_rows": null,
      "grid_column": null,
      "grid_gap": null,
      "grid_row": null,
      "grid_template_areas": null,
      "grid_template_columns": null,
      "grid_template_rows": null,
      "height": null,
      "justify_content": null,
      "justify_items": null,
      "left": null,
      "margin": null,
      "max_height": null,
      "max_width": null,
      "min_height": null,
      "min_width": null,
      "object_fit": null,
      "object_position": null,
      "order": null,
      "overflow": null,
      "overflow_x": null,
      "overflow_y": null,
      "padding": null,
      "right": null,
      "top": null,
      "visibility": null,
      "width": null
     }
    },
    "c635d8efcb0144d99f0533147efbfa81": {
     "model_module": "@jupyter-widgets/base",
     "model_module_version": "1.2.0",
     "model_name": "LayoutModel",
     "state": {
      "_model_module": "@jupyter-widgets/base",
      "_model_module_version": "1.2.0",
      "_model_name": "LayoutModel",
      "_view_count": null,
      "_view_module": "@jupyter-widgets/base",
      "_view_module_version": "1.2.0",
      "_view_name": "LayoutView",
      "align_content": null,
      "align_items": null,
      "align_self": null,
      "border": null,
      "bottom": null,
      "display": null,
      "flex": null,
      "flex_flow": null,
      "grid_area": null,
      "grid_auto_columns": null,
      "grid_auto_flow": null,
      "grid_auto_rows": null,
      "grid_column": null,
      "grid_gap": null,
      "grid_row": null,
      "grid_template_areas": null,
      "grid_template_columns": null,
      "grid_template_rows": null,
      "height": null,
      "justify_content": null,
      "justify_items": null,
      "left": null,
      "margin": null,
      "max_height": null,
      "max_width": null,
      "min_height": null,
      "min_width": null,
      "object_fit": null,
      "object_position": null,
      "order": null,
      "overflow": null,
      "overflow_x": null,
      "overflow_y": null,
      "padding": null,
      "right": null,
      "top": null,
      "visibility": null,
      "width": null
     }
    },
    "c8ace28ac6034f228c3abe2247c7fb60": {
     "model_module": "@jupyter-widgets/controls",
     "model_module_version": "1.5.0",
     "model_name": "ProgressStyleModel",
     "state": {
      "_model_module": "@jupyter-widgets/controls",
      "_model_module_version": "1.5.0",
      "_model_name": "ProgressStyleModel",
      "_view_count": null,
      "_view_module": "@jupyter-widgets/base",
      "_view_module_version": "1.2.0",
      "_view_name": "StyleView",
      "bar_color": null,
      "description_width": ""
     }
    },
    "c939a626f7954d5c9ed948ec8f753999": {
     "model_module": "@jupyter-widgets/controls",
     "model_module_version": "1.5.0",
     "model_name": "DescriptionStyleModel",
     "state": {
      "_model_module": "@jupyter-widgets/controls",
      "_model_module_version": "1.5.0",
      "_model_name": "DescriptionStyleModel",
      "_view_count": null,
      "_view_module": "@jupyter-widgets/base",
      "_view_module_version": "1.2.0",
      "_view_name": "StyleView",
      "description_width": ""
     }
    },
    "ca953e83a48f4a72963bc989d2ce672d": {
     "model_module": "@jupyter-widgets/controls",
     "model_module_version": "1.5.0",
     "model_name": "FloatProgressModel",
     "state": {
      "_dom_classes": [],
      "_model_module": "@jupyter-widgets/controls",
      "_model_module_version": "1.5.0",
      "_model_name": "FloatProgressModel",
      "_view_count": null,
      "_view_module": "@jupyter-widgets/controls",
      "_view_module_version": "1.5.0",
      "_view_name": "ProgressView",
      "bar_style": "success",
      "description": "",
      "description_tooltip": null,
      "layout": "IPY_MODEL_07d04e0ef279448fa5157fb8b1db855e",
      "max": 1042301,
      "min": 0,
      "orientation": "horizontal",
      "style": "IPY_MODEL_161d610148844ea88dd69f3db05c2d5e",
      "value": 1042301
     }
    },
    "cac4f736180149628aaf0c248376a8d4": {
     "model_module": "@jupyter-widgets/controls",
     "model_module_version": "1.5.0",
     "model_name": "HTMLModel",
     "state": {
      "_dom_classes": [],
      "_model_module": "@jupyter-widgets/controls",
      "_model_module_version": "1.5.0",
      "_model_name": "HTMLModel",
      "_view_count": null,
      "_view_module": "@jupyter-widgets/controls",
      "_view_module_version": "1.5.0",
      "_view_name": "HTMLView",
      "description": "",
      "description_tooltip": null,
      "layout": "IPY_MODEL_c3c8e66a37e84832a5572e06088fe858",
      "placeholder": "​",
      "style": "IPY_MODEL_97d19a498bcb4b0eadfdc34c779cdb5f",
      "value": "vocab.json: 100%"
     }
    },
    "cae614ea085b41c9ac110b0480c82485": {
     "model_module": "@jupyter-widgets/base",
     "model_module_version": "1.2.0",
     "model_name": "LayoutModel",
     "state": {
      "_model_module": "@jupyter-widgets/base",
      "_model_module_version": "1.2.0",
      "_model_name": "LayoutModel",
      "_view_count": null,
      "_view_module": "@jupyter-widgets/base",
      "_view_module_version": "1.2.0",
      "_view_name": "LayoutView",
      "align_content": null,
      "align_items": null,
      "align_self": null,
      "border": null,
      "bottom": null,
      "display": null,
      "flex": null,
      "flex_flow": null,
      "grid_area": null,
      "grid_auto_columns": null,
      "grid_auto_flow": null,
      "grid_auto_rows": null,
      "grid_column": null,
      "grid_gap": null,
      "grid_row": null,
      "grid_template_areas": null,
      "grid_template_columns": null,
      "grid_template_rows": null,
      "height": null,
      "justify_content": null,
      "justify_items": null,
      "left": null,
      "margin": null,
      "max_height": null,
      "max_width": null,
      "min_height": null,
      "min_width": null,
      "object_fit": null,
      "object_position": null,
      "order": null,
      "overflow": null,
      "overflow_x": null,
      "overflow_y": null,
      "padding": null,
      "right": null,
      "top": null,
      "visibility": null,
      "width": null
     }
    },
    "d5923751bd3d43a8a033b86454b50242": {
     "model_module": "@jupyter-widgets/controls",
     "model_module_version": "1.5.0",
     "model_name": "FloatProgressModel",
     "state": {
      "_dom_classes": [],
      "_model_module": "@jupyter-widgets/controls",
      "_model_module_version": "1.5.0",
      "_model_name": "FloatProgressModel",
      "_view_count": null,
      "_view_module": "@jupyter-widgets/controls",
      "_view_module_version": "1.5.0",
      "_view_name": "ProgressView",
      "bar_style": "success",
      "description": "",
      "description_tooltip": null,
      "layout": "IPY_MODEL_a335d67e3d354807b3707bf2b9946d23",
      "max": 124,
      "min": 0,
      "orientation": "horizontal",
      "style": "IPY_MODEL_632fea421c854c84b398053c5f508368",
      "value": 124
     }
    },
    "e4774c9520b54a53814ada26e3f45228": {
     "model_module": "@jupyter-widgets/controls",
     "model_module_version": "1.5.0",
     "model_name": "DescriptionStyleModel",
     "state": {
      "_model_module": "@jupyter-widgets/controls",
      "_model_module_version": "1.5.0",
      "_model_name": "DescriptionStyleModel",
      "_view_count": null,
      "_view_module": "@jupyter-widgets/base",
      "_view_module_version": "1.2.0",
      "_view_name": "StyleView",
      "description_width": ""
     }
    },
    "eb4a9c03d0b74a9689442f892ab08dd8": {
     "model_module": "@jupyter-widgets/controls",
     "model_module_version": "1.5.0",
     "model_name": "HBoxModel",
     "state": {
      "_dom_classes": [],
      "_model_module": "@jupyter-widgets/controls",
      "_model_module_version": "1.5.0",
      "_model_name": "HBoxModel",
      "_view_count": null,
      "_view_module": "@jupyter-widgets/controls",
      "_view_module_version": "1.5.0",
      "_view_name": "HBoxView",
      "box_style": "",
      "children": [
       "IPY_MODEL_cac4f736180149628aaf0c248376a8d4",
       "IPY_MODEL_ca953e83a48f4a72963bc989d2ce672d",
       "IPY_MODEL_8e3d2ee1c04e4cae98a32ad785ad86f1"
      ],
      "layout": "IPY_MODEL_56d0d0ae333144ecabf43a96bf2b0c72"
     }
    },
    "eb6b612f860448e6ac8eebb4beef3c40": {
     "model_module": "@jupyter-widgets/controls",
     "model_module_version": "1.5.0",
     "model_name": "HBoxModel",
     "state": {
      "_dom_classes": [],
      "_model_module": "@jupyter-widgets/controls",
      "_model_module_version": "1.5.0",
      "_model_name": "HBoxModel",
      "_view_count": null,
      "_view_module": "@jupyter-widgets/controls",
      "_view_module_version": "1.5.0",
      "_view_name": "HBoxView",
      "box_style": "",
      "children": [
       "IPY_MODEL_4760809c270945edb09cde379403570e",
       "IPY_MODEL_00d6bff9748d44f2b75fab1e5e63a350",
       "IPY_MODEL_a5f455e986ce4fbbac895fab571b5100"
      ],
      "layout": "IPY_MODEL_667a3458eb804a8bb3b427ab67731577"
     }
    },
    "fa921c3499e146e784d88e3c682f339d": {
     "model_module": "@jupyter-widgets/controls",
     "model_module_version": "1.5.0",
     "model_name": "HTMLModel",
     "state": {
      "_dom_classes": [],
      "_model_module": "@jupyter-widgets/controls",
      "_model_module_version": "1.5.0",
      "_model_name": "HTMLModel",
      "_view_count": null,
      "_view_module": "@jupyter-widgets/controls",
      "_view_module_version": "1.5.0",
      "_view_name": "HTMLView",
      "description": "",
      "description_tooltip": null,
      "layout": "IPY_MODEL_ae798d791f9b4c7a850cb7731059c9aa",
      "placeholder": "​",
      "style": "IPY_MODEL_62e859acab0242f08e6a0a6b6090af27",
      "value": " 1.36M/1.36M [00:00&lt;00:00, 3.33MB/s]"
     }
    },
    "fa97fe747c314562bcf166013a6f239c": {
     "model_module": "@jupyter-widgets/controls",
     "model_module_version": "1.5.0",
     "model_name": "ProgressStyleModel",
     "state": {
      "_model_module": "@jupyter-widgets/controls",
      "_model_module_version": "1.5.0",
      "_model_name": "ProgressStyleModel",
      "_view_count": null,
      "_view_module": "@jupyter-widgets/base",
      "_view_module_version": "1.2.0",
      "_view_name": "StyleView",
      "bar_color": null,
      "description_width": ""
     }
    },
    "fbb61215a3c9474ba68df7d5bb64f005": {
     "model_module": "@jupyter-widgets/base",
     "model_module_version": "1.2.0",
     "model_name": "LayoutModel",
     "state": {
      "_model_module": "@jupyter-widgets/base",
      "_model_module_version": "1.2.0",
      "_model_name": "LayoutModel",
      "_view_count": null,
      "_view_module": "@jupyter-widgets/base",
      "_view_module_version": "1.2.0",
      "_view_name": "LayoutView",
      "align_content": null,
      "align_items": null,
      "align_self": null,
      "border": null,
      "bottom": null,
      "display": null,
      "flex": null,
      "flex_flow": null,
      "grid_area": null,
      "grid_auto_columns": null,
      "grid_auto_flow": null,
      "grid_auto_rows": null,
      "grid_column": null,
      "grid_gap": null,
      "grid_row": null,
      "grid_template_areas": null,
      "grid_template_columns": null,
      "grid_template_rows": null,
      "height": null,
      "justify_content": null,
      "justify_items": null,
      "left": null,
      "margin": null,
      "max_height": null,
      "max_width": null,
      "min_height": null,
      "min_width": null,
      "object_fit": null,
      "object_position": null,
      "order": null,
      "overflow": null,
      "overflow_x": null,
      "overflow_y": null,
      "padding": null,
      "right": null,
      "top": null,
      "visibility": null,
      "width": null
     }
    },
    "fbfe3d1645a94954b7a7e6b4ce9ea79f": {
     "model_module": "@jupyter-widgets/controls",
     "model_module_version": "1.5.0",
     "model_name": "DescriptionStyleModel",
     "state": {
      "_model_module": "@jupyter-widgets/controls",
      "_model_module_version": "1.5.0",
      "_model_name": "DescriptionStyleModel",
      "_view_count": null,
      "_view_module": "@jupyter-widgets/base",
      "_view_module_version": "1.2.0",
      "_view_name": "StyleView",
      "description_width": ""
     }
    }
   }
  }
 },
 "nbformat": 4,
 "nbformat_minor": 1
}
